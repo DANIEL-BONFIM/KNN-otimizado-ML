{
  "nbformat": 4,
  "nbformat_minor": 0,
  "metadata": {
    "colab": {
      "name": "FA084_1s2021_Aula04_vALUNO.ipynb",
      "provenance": [],
      "collapsed_sections": [],
      "include_colab_link": true
    },
    "kernelspec": {
      "name": "python3",
      "display_name": "Python 3"
    },
    "language_info": {
      "name": "python"
    }
  },
  "cells": [
    {
      "cell_type": "markdown",
      "metadata": {
        "id": "view-in-github",
        "colab_type": "text"
      },
      "source": [
        "<a href=\"https://colab.research.google.com/github/DANIEL-BONFIM/KNN-otimizado-ML/blob/main/KNN-otimiza%C3%A7%C3%A3o%20de%20hiperparametro.ipynb\" target=\"_parent\"><img src=\"https://colab.research.google.com/assets/colab-badge.svg\" alt=\"Open In Colab\"/></a>"
      ]
    },
    {
      "cell_type": "markdown",
      "metadata": {
        "id": "8S0NSCgk0EOV"
      },
      "source": [
        "# Scikit-Learn\n",
        "\n",
        "*   Biblioteca de 'Aprendizado de Máquina' (*'Machine Learning'*) para Python.\n",
        "*   A estrutura do Scikit-Learn é por meio vários componentes, a partir dos quais se importam as bibliotecas relevantes àquele componente.\n",
        "\n",
        "\n"
      ]
    },
    {
      "cell_type": "code",
      "metadata": {
        "id": "diBYntehmarn"
      },
      "source": [
        "import sklearn\n",
        "# Importação de TODAS as bibliotecas que serão utilizadas\n",
        "\n",
        "# Gerais \n",
        "import pandas as pd\n",
        "import numpy as np\n",
        "\n",
        "# Scikit-Learn\n",
        "from sklearn.model_selection import train_test_split\n",
        "# Conjunto Treino/Teste\n",
        "\n",
        "# Normalização\n",
        "from sklearn.preprocessing import StandardScaler\n",
        "# Transformação de dados categóricos para numéricos\n",
        "from sklearn.preprocessing import LabelEncoder, OneHotEncoder\n",
        "\n",
        "# Técnica (KNN para Regressão)\n",
        "from sklearn.neighbors import KNeighborsRegressor\n",
        "\n",
        "# Otimização dos hiperparâmetro\n",
        "from sklearn.model_selection import GridSearchCV, RandomizedSearchCV\n",
        "# Cálculo do MAE e MSE/RMSE\n",
        "from sklearn.metrics import mean_absolute_error, mean_squared_error, r2_score\n",
        "\n"
      ],
      "execution_count": null,
      "outputs": []
    },
    {
      "cell_type": "markdown",
      "metadata": {
        "id": "jQMBSFEH2Qm7"
      },
      "source": [
        "# Leitura do arquivo 'FA084-1s2021-TCH_Met-Simplificado.csv'"
      ]
    },
    {
      "cell_type": "code",
      "metadata": {
        "id": "axnvMRgNyG-v",
        "colab": {
          "base_uri": "https://localhost:8080/",
          "height": 270
        },
        "outputId": "975ec3da-2457-4ac9-bedd-5ec1c9812fcf"
      },
      "source": [
        "df = pd.read_csv('/content/FA084-1s2021-TCH_Met-Simplificado.csv')\n",
        "df.head()"
      ],
      "execution_count": null,
      "outputs": [
        {
          "output_type": "execute_result",
          "data": {
            "text/plain": [
              "      std_iii     stn_iii      std_ii      stn_ii       std_i       stn_i  \\\n",
              "0  298.137966  290.416957  300.976112  294.107103  304.568648  292.414836   \n",
              "1  297.840941  289.507766  301.333143  292.572111  306.173441  294.018183   \n",
              "2  296.500074  289.742133  301.217074  293.460700  306.526324  294.885094   \n",
              "3  301.707662  290.776908  306.802273  294.288120  304.628874  289.654484   \n",
              "4  301.467413  291.229271  305.546310  292.364105  298.294019  289.612832   \n",
              "\n",
              "   ppt_i  ppt_ii  ppt_iii  n_corte variedade solo    tch  \n",
              "0  288.5   940.9    127.5        4  RB855536   LP  56.05  \n",
              "1  330.8   530.8    331.1        3  RB855453   LP  64.79  \n",
              "2  501.6   796.4    396.2        2  SP813250   LP  40.60  \n",
              "3  105.1  1540.9     97.5        3  RB867515   LP  83.49  \n",
              "4  443.9   599.8    479.2        2  RB867515   LP  54.56  "
            ],
            "text/html": [
              "\n",
              "  <div id=\"df-e3b5ad3b-6368-40a3-ae9c-9a5b16d489ce\">\n",
              "    <div class=\"colab-df-container\">\n",
              "      <div>\n",
              "<style scoped>\n",
              "    .dataframe tbody tr th:only-of-type {\n",
              "        vertical-align: middle;\n",
              "    }\n",
              "\n",
              "    .dataframe tbody tr th {\n",
              "        vertical-align: top;\n",
              "    }\n",
              "\n",
              "    .dataframe thead th {\n",
              "        text-align: right;\n",
              "    }\n",
              "</style>\n",
              "<table border=\"1\" class=\"dataframe\">\n",
              "  <thead>\n",
              "    <tr style=\"text-align: right;\">\n",
              "      <th></th>\n",
              "      <th>std_iii</th>\n",
              "      <th>stn_iii</th>\n",
              "      <th>std_ii</th>\n",
              "      <th>stn_ii</th>\n",
              "      <th>std_i</th>\n",
              "      <th>stn_i</th>\n",
              "      <th>ppt_i</th>\n",
              "      <th>ppt_ii</th>\n",
              "      <th>ppt_iii</th>\n",
              "      <th>n_corte</th>\n",
              "      <th>variedade</th>\n",
              "      <th>solo</th>\n",
              "      <th>tch</th>\n",
              "    </tr>\n",
              "  </thead>\n",
              "  <tbody>\n",
              "    <tr>\n",
              "      <th>0</th>\n",
              "      <td>298.137966</td>\n",
              "      <td>290.416957</td>\n",
              "      <td>300.976112</td>\n",
              "      <td>294.107103</td>\n",
              "      <td>304.568648</td>\n",
              "      <td>292.414836</td>\n",
              "      <td>288.5</td>\n",
              "      <td>940.9</td>\n",
              "      <td>127.5</td>\n",
              "      <td>4</td>\n",
              "      <td>RB855536</td>\n",
              "      <td>LP</td>\n",
              "      <td>56.05</td>\n",
              "    </tr>\n",
              "    <tr>\n",
              "      <th>1</th>\n",
              "      <td>297.840941</td>\n",
              "      <td>289.507766</td>\n",
              "      <td>301.333143</td>\n",
              "      <td>292.572111</td>\n",
              "      <td>306.173441</td>\n",
              "      <td>294.018183</td>\n",
              "      <td>330.8</td>\n",
              "      <td>530.8</td>\n",
              "      <td>331.1</td>\n",
              "      <td>3</td>\n",
              "      <td>RB855453</td>\n",
              "      <td>LP</td>\n",
              "      <td>64.79</td>\n",
              "    </tr>\n",
              "    <tr>\n",
              "      <th>2</th>\n",
              "      <td>296.500074</td>\n",
              "      <td>289.742133</td>\n",
              "      <td>301.217074</td>\n",
              "      <td>293.460700</td>\n",
              "      <td>306.526324</td>\n",
              "      <td>294.885094</td>\n",
              "      <td>501.6</td>\n",
              "      <td>796.4</td>\n",
              "      <td>396.2</td>\n",
              "      <td>2</td>\n",
              "      <td>SP813250</td>\n",
              "      <td>LP</td>\n",
              "      <td>40.60</td>\n",
              "    </tr>\n",
              "    <tr>\n",
              "      <th>3</th>\n",
              "      <td>301.707662</td>\n",
              "      <td>290.776908</td>\n",
              "      <td>306.802273</td>\n",
              "      <td>294.288120</td>\n",
              "      <td>304.628874</td>\n",
              "      <td>289.654484</td>\n",
              "      <td>105.1</td>\n",
              "      <td>1540.9</td>\n",
              "      <td>97.5</td>\n",
              "      <td>3</td>\n",
              "      <td>RB867515</td>\n",
              "      <td>LP</td>\n",
              "      <td>83.49</td>\n",
              "    </tr>\n",
              "    <tr>\n",
              "      <th>4</th>\n",
              "      <td>301.467413</td>\n",
              "      <td>291.229271</td>\n",
              "      <td>305.546310</td>\n",
              "      <td>292.364105</td>\n",
              "      <td>298.294019</td>\n",
              "      <td>289.612832</td>\n",
              "      <td>443.9</td>\n",
              "      <td>599.8</td>\n",
              "      <td>479.2</td>\n",
              "      <td>2</td>\n",
              "      <td>RB867515</td>\n",
              "      <td>LP</td>\n",
              "      <td>54.56</td>\n",
              "    </tr>\n",
              "  </tbody>\n",
              "</table>\n",
              "</div>\n",
              "      <button class=\"colab-df-convert\" onclick=\"convertToInteractive('df-e3b5ad3b-6368-40a3-ae9c-9a5b16d489ce')\"\n",
              "              title=\"Convert this dataframe to an interactive table.\"\n",
              "              style=\"display:none;\">\n",
              "        \n",
              "  <svg xmlns=\"http://www.w3.org/2000/svg\" height=\"24px\"viewBox=\"0 0 24 24\"\n",
              "       width=\"24px\">\n",
              "    <path d=\"M0 0h24v24H0V0z\" fill=\"none\"/>\n",
              "    <path d=\"M18.56 5.44l.94 2.06.94-2.06 2.06-.94-2.06-.94-.94-2.06-.94 2.06-2.06.94zm-11 1L8.5 8.5l.94-2.06 2.06-.94-2.06-.94L8.5 2.5l-.94 2.06-2.06.94zm10 10l.94 2.06.94-2.06 2.06-.94-2.06-.94-.94-2.06-.94 2.06-2.06.94z\"/><path d=\"M17.41 7.96l-1.37-1.37c-.4-.4-.92-.59-1.43-.59-.52 0-1.04.2-1.43.59L10.3 9.45l-7.72 7.72c-.78.78-.78 2.05 0 2.83L4 21.41c.39.39.9.59 1.41.59.51 0 1.02-.2 1.41-.59l7.78-7.78 2.81-2.81c.8-.78.8-2.07 0-2.86zM5.41 20L4 18.59l7.72-7.72 1.47 1.35L5.41 20z\"/>\n",
              "  </svg>\n",
              "      </button>\n",
              "      \n",
              "  <style>\n",
              "    .colab-df-container {\n",
              "      display:flex;\n",
              "      flex-wrap:wrap;\n",
              "      gap: 12px;\n",
              "    }\n",
              "\n",
              "    .colab-df-convert {\n",
              "      background-color: #E8F0FE;\n",
              "      border: none;\n",
              "      border-radius: 50%;\n",
              "      cursor: pointer;\n",
              "      display: none;\n",
              "      fill: #1967D2;\n",
              "      height: 32px;\n",
              "      padding: 0 0 0 0;\n",
              "      width: 32px;\n",
              "    }\n",
              "\n",
              "    .colab-df-convert:hover {\n",
              "      background-color: #E2EBFA;\n",
              "      box-shadow: 0px 1px 2px rgba(60, 64, 67, 0.3), 0px 1px 3px 1px rgba(60, 64, 67, 0.15);\n",
              "      fill: #174EA6;\n",
              "    }\n",
              "\n",
              "    [theme=dark] .colab-df-convert {\n",
              "      background-color: #3B4455;\n",
              "      fill: #D2E3FC;\n",
              "    }\n",
              "\n",
              "    [theme=dark] .colab-df-convert:hover {\n",
              "      background-color: #434B5C;\n",
              "      box-shadow: 0px 1px 3px 1px rgba(0, 0, 0, 0.15);\n",
              "      filter: drop-shadow(0px 1px 2px rgba(0, 0, 0, 0.3));\n",
              "      fill: #FFFFFF;\n",
              "    }\n",
              "  </style>\n",
              "\n",
              "      <script>\n",
              "        const buttonEl =\n",
              "          document.querySelector('#df-e3b5ad3b-6368-40a3-ae9c-9a5b16d489ce button.colab-df-convert');\n",
              "        buttonEl.style.display =\n",
              "          google.colab.kernel.accessAllowed ? 'block' : 'none';\n",
              "\n",
              "        async function convertToInteractive(key) {\n",
              "          const element = document.querySelector('#df-e3b5ad3b-6368-40a3-ae9c-9a5b16d489ce');\n",
              "          const dataTable =\n",
              "            await google.colab.kernel.invokeFunction('convertToInteractive',\n",
              "                                                     [key], {});\n",
              "          if (!dataTable) return;\n",
              "\n",
              "          const docLinkHtml = 'Like what you see? Visit the ' +\n",
              "            '<a target=\"_blank\" href=https://colab.research.google.com/notebooks/data_table.ipynb>data table notebook</a>'\n",
              "            + ' to learn more about interactive tables.';\n",
              "          element.innerHTML = '';\n",
              "          dataTable['output_type'] = 'display_data';\n",
              "          await google.colab.output.renderOutput(dataTable, element);\n",
              "          const docLink = document.createElement('div');\n",
              "          docLink.innerHTML = docLinkHtml;\n",
              "          element.appendChild(docLink);\n",
              "        }\n",
              "      </script>\n",
              "    </div>\n",
              "  </div>\n",
              "  "
            ]
          },
          "metadata": {},
          "execution_count": 3
        }
      ]
    },
    {
      "cell_type": "markdown",
      "metadata": {
        "id": "jTTofaMK98EI"
      },
      "source": [
        "# Perguntas\n"
      ]
    },
    {
      "cell_type": "markdown",
      "metadata": {
        "id": "kTRCLrlN-AXQ"
      },
      "source": [
        "## Qual a dimensão do conjunto de dados (linhas, colunas)?"
      ]
    },
    {
      "cell_type": "code",
      "metadata": {
        "id": "ya8WVwlY0r37",
        "colab": {
          "base_uri": "https://localhost:8080/"
        },
        "outputId": "9c146b4b-d643-4f64-c3ff-3c1133e82f86"
      },
      "source": [
        "# Dimensão\n",
        "df.shape"
      ],
      "execution_count": null,
      "outputs": [
        {
          "output_type": "execute_result",
          "data": {
            "text/plain": [
              "(2000, 13)"
            ]
          },
          "metadata": {},
          "execution_count": 4
        }
      ]
    },
    {
      "cell_type": "code",
      "metadata": {
        "id": "vpcQFW1X-J9N",
        "colab": {
          "base_uri": "https://localhost:8080/"
        },
        "outputId": "8601d8ff-f099-4901-ad68-b8cdf44ddfaa"
      },
      "source": [
        "# Nomes das colunas\n",
        "df.columns"
      ],
      "execution_count": null,
      "outputs": [
        {
          "output_type": "execute_result",
          "data": {
            "text/plain": [
              "Index(['std_iii', 'stn_iii', 'std_ii', 'stn_ii', 'std_i', 'stn_i', 'ppt_i',\n",
              "       'ppt_ii', 'ppt_iii', 'n_corte', 'variedade', 'solo', 'tch'],\n",
              "      dtype='object')"
            ]
          },
          "metadata": {},
          "execution_count": 5
        }
      ]
    },
    {
      "cell_type": "code",
      "metadata": {
        "id": "BgUEOQlG-SNh",
        "colab": {
          "base_uri": "https://localhost:8080/"
        },
        "outputId": "0882786e-b273-485e-ea86-bc2a9a5f6cce"
      },
      "source": [
        "# Descrição dos tipos das variáveis\n",
        "df.dtypes"
      ],
      "execution_count": null,
      "outputs": [
        {
          "output_type": "execute_result",
          "data": {
            "text/plain": [
              "std_iii      float64\n",
              "stn_iii      float64\n",
              "std_ii       float64\n",
              "stn_ii       float64\n",
              "std_i        float64\n",
              "stn_i        float64\n",
              "ppt_i        float64\n",
              "ppt_ii       float64\n",
              "ppt_iii      float64\n",
              "n_corte        int64\n",
              "variedade     object\n",
              "solo          object\n",
              "tch          float64\n",
              "dtype: object"
            ]
          },
          "metadata": {},
          "execution_count": 6
        }
      ]
    },
    {
      "cell_type": "markdown",
      "metadata": {
        "id": "nkj221JTBHoD"
      },
      "source": [
        "## Média das temperaturas (diurnas e noturnas)"
      ]
    },
    {
      "cell_type": "markdown",
      "metadata": {
        "id": "YzmlBsFC-kpV"
      },
      "source": [
        "### Qual a média das temperaturas diurnas por fase de crescimento (i, ii e iii) em °C?  \n",
        "\n"
      ]
    },
    {
      "cell_type": "code",
      "metadata": {
        "id": "8lF5RSES4zHF",
        "colab": {
          "base_uri": "https://localhost:8080/"
        },
        "outputId": "d11ac6aa-5632-4c76-894f-57bb4b2ad157"
      },
      "source": [
        "# Período i: \n",
        "df.std_i.mean()-273"
      ],
      "execution_count": null,
      "outputs": [
        {
          "output_type": "execute_result",
          "data": {
            "text/plain": [
              "32.20240421276617"
            ]
          },
          "metadata": {},
          "execution_count": 7
        }
      ]
    },
    {
      "cell_type": "code",
      "metadata": {
        "id": "Bcdl3plf6lEz",
        "colab": {
          "base_uri": "https://localhost:8080/"
        },
        "outputId": "7feccd58-fc63-42c1-a243-f4381d388079"
      },
      "source": [
        "# Período ii:\n",
        "df.std_ii.mean()-273"
      ],
      "execution_count": null,
      "outputs": [
        {
          "output_type": "execute_result",
          "data": {
            "text/plain": [
              "30.62745761190814"
            ]
          },
          "metadata": {},
          "execution_count": 8
        }
      ]
    },
    {
      "cell_type": "code",
      "metadata": {
        "id": "xkJ8HDtx6lMn",
        "colab": {
          "base_uri": "https://localhost:8080/"
        },
        "outputId": "7bccbd41-9aeb-4ca9-d896-cbb5543e9f02"
      },
      "source": [
        "# Período iii:\n",
        "df.std_iii.mean()-273"
      ],
      "execution_count": null,
      "outputs": [
        {
          "output_type": "execute_result",
          "data": {
            "text/plain": [
              "28.454780538101602"
            ]
          },
          "metadata": {},
          "execution_count": 9
        }
      ]
    },
    {
      "cell_type": "markdown",
      "metadata": {
        "id": "AImowDEQ_WZ4"
      },
      "source": [
        "### Qual a média das temperaturas noturnas por fase de crescimento (i, ii e iii) em °C?  \n",
        "\n"
      ]
    },
    {
      "cell_type": "code",
      "metadata": {
        "id": "eDJ28Oxn_WZ5",
        "colab": {
          "base_uri": "https://localhost:8080/"
        },
        "outputId": "e2d28e4f-6ef1-450d-8531-f864c6ce3d7b"
      },
      "source": [
        "# Período i: \n",
        "df.stn_i.mean()-273"
      ],
      "execution_count": null,
      "outputs": [
        {
          "output_type": "execute_result",
          "data": {
            "text/plain": [
              "17.91401291741721"
            ]
          },
          "metadata": {},
          "execution_count": 10
        }
      ]
    },
    {
      "cell_type": "code",
      "metadata": {
        "id": "sNDUry8g_WZ6",
        "colab": {
          "base_uri": "https://localhost:8080/"
        },
        "outputId": "13b6b236-86fd-4156-e7f8-e99fa3ced8bc"
      },
      "source": [
        "# Período ii:\n",
        "\n",
        "df.stn_ii.mean()-273"
      ],
      "execution_count": null,
      "outputs": [
        {
          "output_type": "execute_result",
          "data": {
            "text/plain": [
              "19.69845500068442"
            ]
          },
          "metadata": {},
          "execution_count": 11
        }
      ]
    },
    {
      "cell_type": "code",
      "metadata": {
        "id": "tuTeMS_m_WZ7",
        "colab": {
          "base_uri": "https://localhost:8080/"
        },
        "outputId": "9a650fb0-d050-45ed-93c6-75bb776385f1"
      },
      "source": [
        "# Período iii:\n",
        "\n",
        "df.stn_iii.mean()-273"
      ],
      "execution_count": null,
      "outputs": [
        {
          "output_type": "execute_result",
          "data": {
            "text/plain": [
              "17.95821989889157"
            ]
          },
          "metadata": {},
          "execution_count": 12
        }
      ]
    },
    {
      "cell_type": "markdown",
      "metadata": {
        "id": "6EiCbw_R_e5z"
      },
      "source": [
        "### Qual a **MÉDIA GERAL** das temperaturas diurnas (em °C) independentemente da fase de crescimento?\n",
        "\n",
        "### E das temperaturas noturnas (em °C)?\n"
      ]
    },
    {
      "cell_type": "code",
      "metadata": {
        "id": "JnrBISAy-aEQ",
        "colab": {
          "base_uri": "https://localhost:8080/"
        },
        "outputId": "c7665e11-a3ed-420e-e4cf-90ab9e995be7"
      },
      "source": [
        "# Média geral das temperaturas diurnas\n",
        "(df.std_i.sum()+df.std_ii.sum()+df.std_iii.sum())/(3*len(df))-273"
      ],
      "execution_count": null,
      "outputs": [
        {
          "output_type": "execute_result",
          "data": {
            "text/plain": [
              "30.428214120925418"
            ]
          },
          "metadata": {},
          "execution_count": 13
        }
      ]
    },
    {
      "cell_type": "code",
      "metadata": {
        "id": "1rqCGkNoAZCX",
        "colab": {
          "base_uri": "https://localhost:8080/"
        },
        "outputId": "7710e6ea-a978-4ad0-821d-f0c8f2db4a54"
      },
      "source": [
        "# Média geral das temperaturas noturnas\n",
        "(df.stn_i.sum()+df.stn_ii.sum()+df.stn_iii.sum())/(3*len(df))-273"
      ],
      "execution_count": null,
      "outputs": [
        {
          "output_type": "execute_result",
          "data": {
            "text/plain": [
              "18.52356260566404"
            ]
          },
          "metadata": {},
          "execution_count": 14
        }
      ]
    },
    {
      "cell_type": "markdown",
      "metadata": {
        "id": "DiBRVjfoApGw"
      },
      "source": [
        "#### Em quais períodos (i, ii ou iii) a temperatura média diurna foi maior do que a média geral?\n",
        "\n",
        "#### E para a temperatura noturna?"
      ]
    },
    {
      "cell_type": "markdown",
      "metadata": {
        "id": "yIwTl-CRBXHX"
      },
      "source": [
        "## Produtividade (tch) em t/ha"
      ]
    },
    {
      "cell_type": "code",
      "metadata": {
        "id": "9xWowYj_7bgc",
        "colab": {
          "base_uri": "https://localhost:8080/"
        },
        "outputId": "e46f57dd-c101-4140-dc00-821a264cf8f2"
      },
      "source": [
        "# Média geral de produtividade considerando todos os estágios (número de corte) e todas as variedades\n",
        "df.tch.mean()"
      ],
      "execution_count": null,
      "outputs": [
        {
          "output_type": "execute_result",
          "data": {
            "text/plain": [
              "63.33066999999981"
            ]
          },
          "metadata": {},
          "execution_count": 16
        }
      ]
    },
    {
      "cell_type": "markdown",
      "metadata": {
        "id": "-0a4jPSLHBZA"
      },
      "source": [
        "### Produtividade POR VARIEDADE"
      ]
    },
    {
      "cell_type": "code",
      "metadata": {
        "id": "MlrbB3LE7jxv",
        "colab": {
          "base_uri": "https://localhost:8080/"
        },
        "outputId": "9941ce25-b3a1-459e-eb8a-4c90836ea92e"
      },
      "source": [
        "# Média de produtividade por variedade\n",
        "df.tch.groupby(df.variedade).mean()"
      ],
      "execution_count": null,
      "outputs": [
        {
          "output_type": "execute_result",
          "data": {
            "text/plain": [
              "variedade\n",
              "RB72454     55.561613\n",
              "RB835054    77.560769\n",
              "RB835486    54.309032\n",
              "RB845210    68.879394\n",
              "RB855156    60.944068\n",
              "RB855453    78.602431\n",
              "RB855536    66.310198\n",
              "RB867515    61.599860\n",
              "RB966928    66.245909\n",
              "SP801842    76.411270\n",
              "SP803280    73.115200\n",
              "SP813250    57.605341\n",
              "SP832847    54.994198\n",
              "SP835073    68.214444\n",
              "others      60.385575\n",
              "Name: tch, dtype: float64"
            ]
          },
          "metadata": {},
          "execution_count": 17
        }
      ]
    },
    {
      "cell_type": "code",
      "metadata": {
        "id": "CrvMFHKFDTN3",
        "colab": {
          "base_uri": "https://localhost:8080/"
        },
        "outputId": "0bfc0d2d-fe34-48d0-e456-828d81fd8e0c"
      },
      "source": [
        "# Média de produtividade por variedade EM ORDEM DECRESCENTE\n",
        "df.tch.groupby(df.variedade).mean().sort_values(ascending=True)"
      ],
      "execution_count": null,
      "outputs": [
        {
          "output_type": "execute_result",
          "data": {
            "text/plain": [
              "variedade\n",
              "RB835486    54.309032\n",
              "SP832847    54.994198\n",
              "RB72454     55.561613\n",
              "SP813250    57.605341\n",
              "others      60.385575\n",
              "RB855156    60.944068\n",
              "RB867515    61.599860\n",
              "RB966928    66.245909\n",
              "RB855536    66.310198\n",
              "SP835073    68.214444\n",
              "RB845210    68.879394\n",
              "SP803280    73.115200\n",
              "SP801842    76.411270\n",
              "RB835054    77.560769\n",
              "RB855453    78.602431\n",
              "Name: tch, dtype: float64"
            ]
          },
          "metadata": {},
          "execution_count": 18
        }
      ]
    },
    {
      "cell_type": "markdown",
      "metadata": {
        "id": "OMjWpFqWHHUX"
      },
      "source": [
        "### Produtividade POR NÚMERO DE CORTE"
      ]
    },
    {
      "cell_type": "code",
      "metadata": {
        "id": "tHWwx3Wp7_EH",
        "colab": {
          "base_uri": "https://localhost:8080/"
        },
        "outputId": "cd227a80-b1c5-412a-d54d-fa0fe11bd91f"
      },
      "source": [
        "# Média de produtividade por número de corte EM ORDEM DECRESCENTE\n",
        "df.tch.groupby(df.n_corte).mean().sort_values()\n",
        "# 7 corte é algo bem dificil ter uma produtividade boa, como pode"
      ],
      "execution_count": null,
      "outputs": [
        {
          "output_type": "execute_result",
          "data": {
            "text/plain": [
              "n_corte\n",
              "5    54.978109\n",
              "6    55.686505\n",
              "4    57.571359\n",
              "3    63.841518\n",
              "7    66.062500\n",
              "2    68.505525\n",
              "1    73.544153\n",
              "Name: tch, dtype: float64"
            ]
          },
          "metadata": {},
          "execution_count": 19
        }
      ]
    },
    {
      "cell_type": "code",
      "source": [
        "df.n_corte.value_counts() \n",
        "#observamos que há destorção no conjunto de dados, poucos talhoes chegaram ao 7º corte\n",
        "# "
      ],
      "metadata": {
        "colab": {
          "base_uri": "https://localhost:8080/"
        },
        "id": "eNmoQbe1a-Er",
        "outputId": "d3b2ab3f-f53f-4299-8c92-687dffd5fe35"
      },
      "execution_count": null,
      "outputs": [
        {
          "output_type": "execute_result",
          "data": {
            "text/plain": [
              "3    527\n",
              "4    449\n",
              "2    362\n",
              "1    313\n",
              "5    238\n",
              "6    103\n",
              "7      8\n",
              "Name: n_corte, dtype: int64"
            ]
          },
          "metadata": {},
          "execution_count": 20
        }
      ]
    },
    {
      "cell_type": "markdown",
      "metadata": {
        "id": "Cnpu3tcnHVhB"
      },
      "source": [
        "## Variedades"
      ]
    },
    {
      "cell_type": "code",
      "metadata": {
        "id": "9wO5IOhx8fKo",
        "colab": {
          "base_uri": "https://localhost:8080/"
        },
        "outputId": "339d29d6-9575-4c75-b378-f29a7c0e04df"
      },
      "source": [
        "# Quantos talhões existem com cada variedade no conjunto de dados?\n",
        "df.variedade.value_counts()"
      ],
      "execution_count": null,
      "outputs": [
        {
          "output_type": "execute_result",
          "data": {
            "text/plain": [
              "RB867515    787\n",
              "SP813250    337\n",
              "RB855453    144\n",
              "RB855156    118\n",
              "others      113\n",
              "RB855536    101\n",
              "SP832847     81\n",
              "RB835054     78\n",
              "SP801842     63\n",
              "SP835073     36\n",
              "RB845210     33\n",
              "RB835486     31\n",
              "RB72454      31\n",
              "SP803280     25\n",
              "RB966928     22\n",
              "Name: variedade, dtype: int64"
            ]
          },
          "metadata": {},
          "execution_count": 21
        }
      ]
    },
    {
      "cell_type": "code",
      "metadata": {
        "id": "E6PW4hQnBNAu",
        "colab": {
          "base_uri": "https://localhost:8080/"
        },
        "outputId": "1fd7c40a-fbb3-4eee-feae-494224d6c88d"
      },
      "source": [
        "# Quantas variedades existem no conjunto de dados?\n",
        "df.variedade.value_counts().count()"
      ],
      "execution_count": null,
      "outputs": [
        {
          "output_type": "execute_result",
          "data": {
            "text/plain": [
              "15"
            ]
          },
          "metadata": {},
          "execution_count": 22
        }
      ]
    },
    {
      "cell_type": "code",
      "metadata": {
        "id": "TeyxcY2YA9nk",
        "colab": {
          "base_uri": "https://localhost:8080/"
        },
        "outputId": "179bb82c-1e45-4251-d7f5-ffe0c3b784f4"
      },
      "source": [
        "# Quais as quatro variedades mais frequentes?\n",
        "df.variedade.value_counts()[0:4]"
      ],
      "execution_count": null,
      "outputs": [
        {
          "output_type": "execute_result",
          "data": {
            "text/plain": [
              "RB867515    787\n",
              "SP813250    337\n",
              "RB855453    144\n",
              "RB855156    118\n",
              "Name: variedade, dtype: int64"
            ]
          },
          "metadata": {},
          "execution_count": 23
        }
      ]
    },
    {
      "cell_type": "code",
      "metadata": {
        "id": "PAFSJa6iOJKF",
        "colab": {
          "base_uri": "https://localhost:8080/"
        },
        "outputId": "cdfc2021-df3c-4c31-e6ab-f8f779017db1"
      },
      "source": [
        "# Somando as quatro variedades mais frequentes, quantos talhões teremos?\n",
        "df.variedade.value_counts()[0:4].sum()"
      ],
      "execution_count": null,
      "outputs": [
        {
          "output_type": "execute_result",
          "data": {
            "text/plain": [
              "1386"
            ]
          },
          "metadata": {},
          "execution_count": 24
        }
      ]
    },
    {
      "cell_type": "code",
      "metadata": {
        "id": "RmPJrAl5BB4_",
        "colab": {
          "base_uri": "https://localhost:8080/"
        },
        "outputId": "8a0ef80b-24de-458e-d81b-5c48d4ffa632"
      },
      "source": [
        "# # Quais as cinco variedades menos frequentes?\n",
        "df.variedade.value_counts(ascending=True)[0:5] #ou #df.variedade.value_counts()[-5:0]"
      ],
      "execution_count": null,
      "outputs": [
        {
          "output_type": "execute_result",
          "data": {
            "text/plain": [
              "RB966928    22\n",
              "SP803280    25\n",
              "RB835486    31\n",
              "RB72454     31\n",
              "RB845210    33\n",
              "Name: variedade, dtype: int64"
            ]
          },
          "metadata": {},
          "execution_count": 25
        }
      ]
    },
    {
      "cell_type": "code",
      "metadata": {
        "id": "HghQ--YTOj-t",
        "colab": {
          "base_uri": "https://localhost:8080/"
        },
        "outputId": "66016e4e-db7e-4b7f-df59-daf2824a817b"
      },
      "source": [
        "# Somando as cinco variedades menos frequentes, quantos talhões teremos?\n",
        "df.variedade.value_counts(ascending=True)[0:5].sum()"
      ],
      "execution_count": null,
      "outputs": [
        {
          "output_type": "execute_result",
          "data": {
            "text/plain": [
              "142"
            ]
          },
          "metadata": {},
          "execution_count": 26
        }
      ]
    },
    {
      "cell_type": "code",
      "metadata": {
        "id": "JH4ttVM08KMP",
        "colab": {
          "base_uri": "https://localhost:8080/"
        },
        "outputId": "44c23085-0aff-4800-8d9b-164cb26a3dd5"
      },
      "source": [
        "# Quais as quatro variáveis com maior produtividade?\n",
        "df.tch.groupby(df.variedade).mean().sort_values(ascending=False)[0:4]"
      ],
      "execution_count": null,
      "outputs": [
        {
          "output_type": "execute_result",
          "data": {
            "text/plain": [
              "variedade\n",
              "RB855453    78.602431\n",
              "RB835054    77.560769\n",
              "SP801842    76.411270\n",
              "SP803280    73.115200\n",
              "Name: tch, dtype: float64"
            ]
          },
          "metadata": {},
          "execution_count": 27
        }
      ]
    },
    {
      "cell_type": "markdown",
      "metadata": {
        "id": "VM7GJkGAPLxJ"
      },
      "source": [
        "## Solos"
      ]
    },
    {
      "cell_type": "code",
      "metadata": {
        "id": "5qVC2aHiCM4T",
        "colab": {
          "base_uri": "https://localhost:8080/"
        },
        "outputId": "8f365ac3-4d50-4783-be5f-5bc0afe6f363"
      },
      "source": [
        "# Quantos tipos de solos existem? E quantos talhões existem com cada tipo de solo?\n",
        "df.solo.value_counts()"
      ],
      "execution_count": null,
      "outputs": [
        {
          "output_type": "execute_result",
          "data": {
            "text/plain": [
              "LP    1049\n",
              "R      885\n",
              "O       66\n",
              "Name: solo, dtype: int64"
            ]
          },
          "metadata": {},
          "execution_count": 28
        }
      ]
    },
    {
      "cell_type": "markdown",
      "metadata": {
        "id": "59Qe22ONPUBY"
      },
      "source": [
        "## Gráficos"
      ]
    },
    {
      "cell_type": "markdown",
      "metadata": {
        "id": "9LaVw_yxPabt"
      },
      "source": [
        "### Gráfico de barras apresentando a distribuição do número de talhões por variedade"
      ]
    },
    {
      "cell_type": "code",
      "metadata": {
        "id": "7EI4bPS-Cay4",
        "colab": {
          "base_uri": "https://localhost:8080/",
          "height": 307
        },
        "outputId": "7e2380da-c4ec-4e49-a8dd-28c9ed53fc5e"
      },
      "source": [
        "# Gráfico de barras apresentando a distribuição do número de talhões por variedade\n",
        "df.variedade.value_counts().plot.bar();"
      ],
      "execution_count": null,
      "outputs": [
        {
          "output_type": "display_data",
          "data": {
            "text/plain": [
              "<Figure size 432x288 with 1 Axes>"
            ],
            "image/png": "[encoded data removed]"
          },
          "metadata": {
            "needs_background": "light"
          }
        }
      ]
    },
    {
      "cell_type": "code",
      "metadata": {
        "id": "2SKL1mjnPmKk",
        "colab": {
          "base_uri": "https://localhost:8080/",
          "height": 307
        },
        "outputId": "41f316b6-2729-4999-c47e-e539eb28829f"
      },
      "source": [
        "# Idem acima apenas para as quatro variedades mais frequentes\n",
        "df.variedade.value_counts()[0:4].plot.bar();"
      ],
      "execution_count": null,
      "outputs": [
        {
          "output_type": "display_data",
          "data": {
            "text/plain": [
              "<Figure size 432x288 with 1 Axes>"
            ],
            "image/png": "[encoded data removed]"
          },
          "metadata": {
            "needs_background": "light"
          }
        }
      ]
    },
    {
      "cell_type": "markdown",
      "metadata": {
        "id": "dSnZ5lH2P08U"
      },
      "source": [
        "### Gráfico de pontos (scatter) das produtividades por número de corte"
      ]
    },
    {
      "cell_type": "code",
      "metadata": {
        "id": "HqqkDOsGDBEz",
        "colab": {
          "base_uri": "https://localhost:8080/",
          "height": 280
        },
        "outputId": "935da6c8-2964-493e-b263-0e3e0e93d943"
      },
      "source": [
        "# Gráfico de pontos (scatter) das produtividades por estágio de corte\n",
        "df.plot.scatter(x='n_corte',y='tch');"
      ],
      "execution_count": null,
      "outputs": [
        {
          "output_type": "display_data",
          "data": {
            "text/plain": [
              "<Figure size 432x288 with 1 Axes>"
            ],
            "image/png": "[encoded data removed]"
          },
          "metadata": {
            "needs_background": "light"
          }
        }
      ]
    },
    {
      "cell_type": "markdown",
      "metadata": {
        "id": "hzgJG_RzQkm5"
      },
      "source": [
        "### Gráfico (boxplot) da produtividade"
      ]
    },
    {
      "cell_type": "code",
      "metadata": {
        "id": "_UtUAZlKD20b",
        "colab": {
          "base_uri": "https://localhost:8080/",
          "height": 265
        },
        "outputId": "4872f6b5-0986-4e3d-9178-b34bb8ab18f6"
      },
      "source": [
        "# Gráfico (boxplot) da produtividade (todos estágios, todas as variedades, etc.)\n",
        "df.boxplot(column='tch');"
      ],
      "execution_count": null,
      "outputs": [
        {
          "output_type": "display_data",
          "data": {
            "text/plain": [
              "<Figure size 432x288 with 1 Axes>"
            ],
            "image/png": "[encoded data removed]"
          },
          "metadata": {
            "needs_background": "light"
          }
        }
      ]
    },
    {
      "cell_type": "code",
      "metadata": {
        "id": "YD7h10yZDruM",
        "colab": {
          "base_uri": "https://localhost:8080/",
          "height": 357
        },
        "outputId": "99490dd3-8860-48fb-bcb7-7a24d97446cc"
      },
      "source": [
        "# Gráfico (boxplot) da produtividade, separado por número de corte (todas as variedades)\n",
        "df.boxplot(column='tch',by='n_corte');"
      ],
      "execution_count": null,
      "outputs": [
        {
          "output_type": "stream",
          "name": "stderr",
          "text": [
            "/usr/local/lib/python3.7/dist-packages/matplotlib/cbook/__init__.py:1376: VisibleDeprecationWarning: Creating an ndarray from ragged nested sequences (which is a list-or-tuple of lists-or-tuples-or ndarrays with different lengths or shapes) is deprecated. If you meant to do this, you must specify 'dtype=object' when creating the ndarray.\n",
            "  X = np.atleast_1d(X.T if isinstance(X, np.ndarray) else np.asarray(X))\n"
          ]
        },
        {
          "output_type": "display_data",
          "data": {
            "text/plain": [
              "<Figure size 432x288 with 1 Axes>"
            ],
            "image/png": "[encoded data removed]"
          },
          "metadata": {
            "needs_background": "light"
          }
        }
      ]
    },
    {
      "cell_type": "markdown",
      "metadata": {
        "id": "MqsyA2tiShbQ"
      },
      "source": [
        "# Fazer algumas alterações no conjunto de dados ANTES de construir um modelo\n"
      ]
    },
    {
      "cell_type": "markdown",
      "metadata": {
        "id": "jYsIL-C9S1Wp"
      },
      "source": [
        "## Excluir registros com número de corte 6 e 7\n"
      ]
    },
    {
      "cell_type": "code",
      "metadata": {
        "id": "tUAxIRfEC2Oo"
      },
      "source": [
        "# Excluir os registros com número de corte 6 e 7\n",
        "df=df.drop(df[df.n_corte>=6].index) #só traz as linhas ondem o ncorte>=6 e faz o drop delas, o index refere-se as linhas que seguem esses critérios"
      ],
      "execution_count": null,
      "outputs": []
    },
    {
      "cell_type": "markdown",
      "metadata": {
        "id": "S_YiGY2sTm-W"
      },
      "source": [
        "## Considerar apenas as quatro variedades mais frequentes e excluir as demais\n"
      ]
    },
    {
      "cell_type": "code",
      "source": [
        "df.n_corte.value_counts() "
      ],
      "metadata": {
        "colab": {
          "base_uri": "https://localhost:8080/"
        },
        "id": "_nHmDu9KDCoq",
        "outputId": "e62d0b2f-0c78-4a21-b81a-ac6b1c197b7a"
      },
      "execution_count": null,
      "outputs": [
        {
          "output_type": "execute_result",
          "data": {
            "text/plain": [
              "3    527\n",
              "4    449\n",
              "2    362\n",
              "1    313\n",
              "5    238\n",
              "Name: n_corte, dtype: int64"
            ]
          },
          "metadata": {},
          "execution_count": 35
        }
      ]
    },
    {
      "cell_type": "code",
      "source": [
        "df.variedade.value_counts()"
      ],
      "metadata": {
        "colab": {
          "base_uri": "https://localhost:8080/"
        },
        "id": "4pMCdHi1Dzhr",
        "outputId": "3145076f-cf6b-4e51-e4ea-417301c405cb"
      },
      "execution_count": null,
      "outputs": [
        {
          "output_type": "execute_result",
          "data": {
            "text/plain": [
              "RB867515    732\n",
              "SP813250    319\n",
              "RB855453    139\n",
              "RB855156    118\n",
              "others      105\n",
              "RB855536    101\n",
              "SP832847     81\n",
              "RB835054     76\n",
              "SP801842     62\n",
              "SP835073     33\n",
              "RB845210     30\n",
              "RB835486     25\n",
              "RB72454      25\n",
              "RB966928     22\n",
              "SP803280     21\n",
              "Name: variedade, dtype: int64"
            ]
          },
          "metadata": {},
          "execution_count": 36
        }
      ]
    },
    {
      "cell_type": "code",
      "metadata": {
        "id": "JfRTjQIoTm-X"
      },
      "source": [
        "reter= df.variedade.value_counts()[0:4].index.tolist()\n",
        "df=df[df.variedade.isin(reter)] #traz as linhas com as 4 primieras variedades"
      ],
      "execution_count": null,
      "outputs": []
    },
    {
      "cell_type": "code",
      "source": [
        "df.shape"
      ],
      "metadata": {
        "id": "e-oHbqFVPtYl",
        "outputId": "48385b11-afac-4a20-9829-0f258e80f90b",
        "colab": {
          "base_uri": "https://localhost:8080/"
        }
      },
      "execution_count": null,
      "outputs": [
        {
          "output_type": "execute_result",
          "data": {
            "text/plain": [
              "(1308, 13)"
            ]
          },
          "metadata": {},
          "execution_count": 38
        }
      ]
    },
    {
      "cell_type": "markdown",
      "metadata": {
        "id": "wzxWBwKsUwvH"
      },
      "source": [
        "# One-Hot-Encode com atributos categóricos (tipo 'object')\n"
      ]
    },
    {
      "cell_type": "code",
      "metadata": {
        "id": "rwT3WYMPURFF"
      },
      "source": [
        "# Verificar tipos de variáveis do DataFrame\n",
        "df.dtypes"
      ],
      "execution_count": null,
      "outputs": []
    },
    {
      "cell_type": "code",
      "metadata": {
        "id": "ph8yoqI6Uk6C"
      },
      "source": [
        "# One-Hot-Encode com atributos 'Variedade' e 'Solo' (Usar Pandas get_dummies)\n",
        "\n",
        "# Criar lista com os atributos que sofrerão a transformação\n",
        "atrib_ohe = ['variedade', 'solo']\n",
        "\n",
        "# Criar um DataFrame auxiliar (terá apenas os atributos OHE)\n",
        "dfaux = pd.get_dummies(df[atrib_ohe])"
      ],
      "execution_count": null,
      "outputs": []
    },
    {
      "cell_type": "code",
      "metadata": {
        "id": "aomYTiw-VW6F"
      },
      "source": [
        "dfaux.head()"
      ],
      "execution_count": null,
      "outputs": []
    },
    {
      "cell_type": "code",
      "metadata": {
        "id": "q9fR6jmHWIOF"
      },
      "source": [
        "# Juntar (concatenar) o DataFrame original (df) e o recem criado (dfaux)\n",
        "df=pd.concat([df,dfaux], axis=1)"
      ],
      "execution_count": null,
      "outputs": []
    },
    {
      "cell_type": "code",
      "metadata": {
        "id": "nlYHAvJpXGOk"
      },
      "source": [
        "# Verificar primeiras linhas\n",
        "df.head()"
      ],
      "execution_count": null,
      "outputs": []
    },
    {
      "cell_type": "code",
      "metadata": {
        "id": "MJxNwP1GXHna"
      },
      "source": [
        "# Considerando que NÃO HÁ MAIS NECESSIDADE dos atributos 'variedade' e 'solo', vamos exclui-los\n",
        "df=df.drop(['variedade','solo'],axis=1)"
      ],
      "execution_count": null,
      "outputs": []
    },
    {
      "cell_type": "code",
      "metadata": {
        "id": "PZ40TRorXbw5"
      },
      "source": [
        "# Qual a dimensionalidade (linhas,colunas) do novo conjunto de dados?\n",
        "df.shape"
      ],
      "execution_count": null,
      "outputs": []
    },
    {
      "cell_type": "markdown",
      "metadata": {
        "id": "QuEAasSDX6N9"
      },
      "source": [
        "# Construção do Modelo (KNN p/ Regressão)\n"
      ]
    },
    {
      "cell_type": "markdown",
      "metadata": {
        "id": "BVVXIouyN7Qm"
      },
      "source": [
        "## Dividir Conjunto de dados em Treino/Teste na proporção 70/30 (random_state = 2021)"
      ]
    },
    {
      "cell_type": "code",
      "metadata": {
        "id": "X4qkQ2MMN9e7"
      },
      "source": [
        "# Separar atributos preditores(X) do atributo meta (y)\n",
        "y = df.tch\n",
        "X = df.drop(['tch'],axis=1)\n",
        "\n",
        "# Criar X_train, X_test, y_train, y_test com as proporções 70/30\n",
        "X_train, X_test, y_train, y_test = train_test_split(X,y,test_size=0.3,random_state=2021, stratify=y)"
      ],
      "execution_count": null,
      "outputs": []
    },
    {
      "cell_type": "code",
      "source": [
        "X_test.head()"
      ],
      "metadata": {
        "colab": {
          "base_uri": "https://localhost:8080/",
          "height": 270
        },
        "id": "pQX9Tc-5Zllq",
        "outputId": "35c159ce-f131-4daf-acce-7f5908bb91b5"
      },
      "execution_count": null,
      "outputs": [
        {
          "output_type": "execute_result",
          "data": {
            "text/plain": [
              "         std_iii     stn_iii      std_ii      stn_ii       std_i       stn_i  \\\n",
              "1921  301.950512  289.762078  302.467955  293.188604  307.708694  291.613896   \n",
              "1127  304.523008  291.795044  303.500436  292.934377  311.027630  293.516988   \n",
              "813   298.900374  289.463857  304.860374  292.754017  302.916737  290.645675   \n",
              "1837  300.441660  292.183146  307.461054  293.835073  300.052923  287.755217   \n",
              "1577  298.681785  289.799237  304.794941  294.808863  311.198149  292.306510   \n",
              "\n",
              "      ppt_i  ppt_ii  ppt_iii  n_corte  variedade_RB855156  variedade_RB855453  \\\n",
              "1921   72.3  1344.9     18.9        3                   0                   0   \n",
              "1127  380.8   841.7    174.5        4                   0                   0   \n",
              "813   167.1  1234.5     78.0        1                   0                   0   \n",
              "1837  288.0   866.5    345.6        5                   0                   0   \n",
              "1577  230.8   889.6    390.7        4                   0                   1   \n",
              "\n",
              "      variedade_RB867515  variedade_SP813250  solo_LP  solo_O  solo_R  \n",
              "1921                   0                   1        1       0       0  \n",
              "1127                   0                   1        0       0       1  \n",
              "813                    1                   0        0       0       1  \n",
              "1837                   1                   0        1       0       0  \n",
              "1577                   0                   0        1       0       0  "
            ],
            "text/html": [
              "\n",
              "  <div id=\"df-9b78b697-b87b-4451-b50b-f2e11ff0d0a1\">\n",
              "    <div class=\"colab-df-container\">\n",
              "      <div>\n",
              "<style scoped>\n",
              "    .dataframe tbody tr th:only-of-type {\n",
              "        vertical-align: middle;\n",
              "    }\n",
              "\n",
              "    .dataframe tbody tr th {\n",
              "        vertical-align: top;\n",
              "    }\n",
              "\n",
              "    .dataframe thead th {\n",
              "        text-align: right;\n",
              "    }\n",
              "</style>\n",
              "<table border=\"1\" class=\"dataframe\">\n",
              "  <thead>\n",
              "    <tr style=\"text-align: right;\">\n",
              "      <th></th>\n",
              "      <th>std_iii</th>\n",
              "      <th>stn_iii</th>\n",
              "      <th>std_ii</th>\n",
              "      <th>stn_ii</th>\n",
              "      <th>std_i</th>\n",
              "      <th>stn_i</th>\n",
              "      <th>ppt_i</th>\n",
              "      <th>ppt_ii</th>\n",
              "      <th>ppt_iii</th>\n",
              "      <th>n_corte</th>\n",
              "      <th>variedade_RB855156</th>\n",
              "      <th>variedade_RB855453</th>\n",
              "      <th>variedade_RB867515</th>\n",
              "      <th>variedade_SP813250</th>\n",
              "      <th>solo_LP</th>\n",
              "      <th>solo_O</th>\n",
              "      <th>solo_R</th>\n",
              "    </tr>\n",
              "  </thead>\n",
              "  <tbody>\n",
              "    <tr>\n",
              "      <th>1921</th>\n",
              "      <td>301.950512</td>\n",
              "      <td>289.762078</td>\n",
              "      <td>302.467955</td>\n",
              "      <td>293.188604</td>\n",
              "      <td>307.708694</td>\n",
              "      <td>291.613896</td>\n",
              "      <td>72.3</td>\n",
              "      <td>1344.9</td>\n",
              "      <td>18.9</td>\n",
              "      <td>3</td>\n",
              "      <td>0</td>\n",
              "      <td>0</td>\n",
              "      <td>0</td>\n",
              "      <td>1</td>\n",
              "      <td>1</td>\n",
              "      <td>0</td>\n",
              "      <td>0</td>\n",
              "    </tr>\n",
              "    <tr>\n",
              "      <th>1127</th>\n",
              "      <td>304.523008</td>\n",
              "      <td>291.795044</td>\n",
              "      <td>303.500436</td>\n",
              "      <td>292.934377</td>\n",
              "      <td>311.027630</td>\n",
              "      <td>293.516988</td>\n",
              "      <td>380.8</td>\n",
              "      <td>841.7</td>\n",
              "      <td>174.5</td>\n",
              "      <td>4</td>\n",
              "      <td>0</td>\n",
              "      <td>0</td>\n",
              "      <td>0</td>\n",
              "      <td>1</td>\n",
              "      <td>0</td>\n",
              "      <td>0</td>\n",
              "      <td>1</td>\n",
              "    </tr>\n",
              "    <tr>\n",
              "      <th>813</th>\n",
              "      <td>298.900374</td>\n",
              "      <td>289.463857</td>\n",
              "      <td>304.860374</td>\n",
              "      <td>292.754017</td>\n",
              "      <td>302.916737</td>\n",
              "      <td>290.645675</td>\n",
              "      <td>167.1</td>\n",
              "      <td>1234.5</td>\n",
              "      <td>78.0</td>\n",
              "      <td>1</td>\n",
              "      <td>0</td>\n",
              "      <td>0</td>\n",
              "      <td>1</td>\n",
              "      <td>0</td>\n",
              "      <td>0</td>\n",
              "      <td>0</td>\n",
              "      <td>1</td>\n",
              "    </tr>\n",
              "    <tr>\n",
              "      <th>1837</th>\n",
              "      <td>300.441660</td>\n",
              "      <td>292.183146</td>\n",
              "      <td>307.461054</td>\n",
              "      <td>293.835073</td>\n",
              "      <td>300.052923</td>\n",
              "      <td>287.755217</td>\n",
              "      <td>288.0</td>\n",
              "      <td>866.5</td>\n",
              "      <td>345.6</td>\n",
              "      <td>5</td>\n",
              "      <td>0</td>\n",
              "      <td>0</td>\n",
              "      <td>1</td>\n",
              "      <td>0</td>\n",
              "      <td>1</td>\n",
              "      <td>0</td>\n",
              "      <td>0</td>\n",
              "    </tr>\n",
              "    <tr>\n",
              "      <th>1577</th>\n",
              "      <td>298.681785</td>\n",
              "      <td>289.799237</td>\n",
              "      <td>304.794941</td>\n",
              "      <td>294.808863</td>\n",
              "      <td>311.198149</td>\n",
              "      <td>292.306510</td>\n",
              "      <td>230.8</td>\n",
              "      <td>889.6</td>\n",
              "      <td>390.7</td>\n",
              "      <td>4</td>\n",
              "      <td>0</td>\n",
              "      <td>1</td>\n",
              "      <td>0</td>\n",
              "      <td>0</td>\n",
              "      <td>1</td>\n",
              "      <td>0</td>\n",
              "      <td>0</td>\n",
              "    </tr>\n",
              "  </tbody>\n",
              "</table>\n",
              "</div>\n",
              "      <button class=\"colab-df-convert\" onclick=\"convertToInteractive('df-9b78b697-b87b-4451-b50b-f2e11ff0d0a1')\"\n",
              "              title=\"Convert this dataframe to an interactive table.\"\n",
              "              style=\"display:none;\">\n",
              "        \n",
              "  <svg xmlns=\"http://www.w3.org/2000/svg\" height=\"24px\"viewBox=\"0 0 24 24\"\n",
              "       width=\"24px\">\n",
              "    <path d=\"M0 0h24v24H0V0z\" fill=\"none\"/>\n",
              "    <path d=\"M18.56 5.44l.94 2.06.94-2.06 2.06-.94-2.06-.94-.94-2.06-.94 2.06-2.06.94zm-11 1L8.5 8.5l.94-2.06 2.06-.94-2.06-.94L8.5 2.5l-.94 2.06-2.06.94zm10 10l.94 2.06.94-2.06 2.06-.94-2.06-.94-.94-2.06-.94 2.06-2.06.94z\"/><path d=\"M17.41 7.96l-1.37-1.37c-.4-.4-.92-.59-1.43-.59-.52 0-1.04.2-1.43.59L10.3 9.45l-7.72 7.72c-.78.78-.78 2.05 0 2.83L4 21.41c.39.39.9.59 1.41.59.51 0 1.02-.2 1.41-.59l7.78-7.78 2.81-2.81c.8-.78.8-2.07 0-2.86zM5.41 20L4 18.59l7.72-7.72 1.47 1.35L5.41 20z\"/>\n",
              "  </svg>\n",
              "      </button>\n",
              "      \n",
              "  <style>\n",
              "    .colab-df-container {\n",
              "      display:flex;\n",
              "      flex-wrap:wrap;\n",
              "      gap: 12px;\n",
              "    }\n",
              "\n",
              "    .colab-df-convert {\n",
              "      background-color: #E8F0FE;\n",
              "      border: none;\n",
              "      border-radius: 50%;\n",
              "      cursor: pointer;\n",
              "      display: none;\n",
              "      fill: #1967D2;\n",
              "      height: 32px;\n",
              "      padding: 0 0 0 0;\n",
              "      width: 32px;\n",
              "    }\n",
              "\n",
              "    .colab-df-convert:hover {\n",
              "      background-color: #E2EBFA;\n",
              "      box-shadow: 0px 1px 2px rgba(60, 64, 67, 0.3), 0px 1px 3px 1px rgba(60, 64, 67, 0.15);\n",
              "      fill: #174EA6;\n",
              "    }\n",
              "\n",
              "    [theme=dark] .colab-df-convert {\n",
              "      background-color: #3B4455;\n",
              "      fill: #D2E3FC;\n",
              "    }\n",
              "\n",
              "    [theme=dark] .colab-df-convert:hover {\n",
              "      background-color: #434B5C;\n",
              "      box-shadow: 0px 1px 3px 1px rgba(0, 0, 0, 0.15);\n",
              "      filter: drop-shadow(0px 1px 2px rgba(0, 0, 0, 0.3));\n",
              "      fill: #FFFFFF;\n",
              "    }\n",
              "  </style>\n",
              "\n",
              "      <script>\n",
              "        const buttonEl =\n",
              "          document.querySelector('#df-9b78b697-b87b-4451-b50b-f2e11ff0d0a1 button.colab-df-convert');\n",
              "        buttonEl.style.display =\n",
              "          google.colab.kernel.accessAllowed ? 'block' : 'none';\n",
              "\n",
              "        async function convertToInteractive(key) {\n",
              "          const element = document.querySelector('#df-9b78b697-b87b-4451-b50b-f2e11ff0d0a1');\n",
              "          const dataTable =\n",
              "            await google.colab.kernel.invokeFunction('convertToInteractive',\n",
              "                                                     [key], {});\n",
              "          if (!dataTable) return;\n",
              "\n",
              "          const docLinkHtml = 'Like what you see? Visit the ' +\n",
              "            '<a target=\"_blank\" href=https://colab.research.google.com/notebooks/data_table.ipynb>data table notebook</a>'\n",
              "            + ' to learn more about interactive tables.';\n",
              "          element.innerHTML = '';\n",
              "          dataTable['output_type'] = 'display_data';\n",
              "          await google.colab.output.renderOutput(dataTable, element);\n",
              "          const docLink = document.createElement('div');\n",
              "          docLink.innerHTML = docLinkHtml;\n",
              "          element.appendChild(docLink);\n",
              "        }\n",
              "      </script>\n",
              "    </div>\n",
              "  </div>\n",
              "  "
            ]
          },
          "metadata": {},
          "execution_count": 47
        }
      ]
    },
    {
      "cell_type": "markdown",
      "metadata": {
        "id": "nS6wKSUMZA01"
      },
      "source": [
        "## Normalizar os atributos numéricos"
      ]
    },
    {
      "cell_type": "code",
      "metadata": {
        "id": "r763M5dvXkS8",
        "colab": {
          "base_uri": "https://localhost:8080/",
          "height": 364
        },
        "outputId": "fd615d82-6e1d-4050-a699-cd7574de28ab"
      },
      "source": [
        "# Verificar se há necessidade de normalizar. \n",
        "# Têm escalas muito diferentes?\n",
        "df.describe()"
      ],
      "execution_count": null,
      "outputs": [
        {
          "output_type": "execute_result",
          "data": {
            "text/plain": [
              "           std_iii      stn_iii       std_ii       stn_ii        std_i  \\\n",
              "count  1308.000000  1308.000000  1308.000000  1308.000000  1308.000000   \n",
              "mean    301.477524   290.845847   303.822749   292.714545   305.231572   \n",
              "std       3.069252     1.835666     2.590952     1.272012     3.295159   \n",
              "min     294.781429   285.114347   298.069668   288.183780   296.887806   \n",
              "25%     299.386371   289.697163   301.564640   291.823829   302.687172   \n",
              "50%     300.840161   290.798472   303.590783   292.770127   305.546667   \n",
              "75%     303.212588   292.100462   305.755009   293.671316   307.904097   \n",
              "max     311.293606   295.458620   312.077846   295.670252   312.720222   \n",
              "\n",
              "             stn_i        ppt_i       ppt_ii      ppt_iii      n_corte  \\\n",
              "count  1308.000000  1308.000000  1308.000000  1308.000000  1308.000000   \n",
              "mean    290.794500   270.912309  1033.257416   274.015367     3.071101   \n",
              "std       2.363089   210.401912   300.849621   180.136814     1.257993   \n",
              "min     284.645217     8.800000   252.500000    10.900000     1.000000   \n",
              "25%     288.902192    99.900000   820.325000   126.225000     2.000000   \n",
              "50%     290.413599   215.250000  1007.200000   243.000000     3.000000   \n",
              "75%     292.715542   386.450000  1230.275000   381.200000     4.000000   \n",
              "max     296.812000  1052.700000  2162.800000   950.200000     5.000000   \n",
              "\n",
              "               tch  variedade_RB855156  variedade_RB855453  \\\n",
              "count  1308.000000         1308.000000         1308.000000   \n",
              "mean     62.832416            0.090214            0.106269   \n",
              "std      20.228332            0.286598            0.308300   \n",
              "min      15.400000            0.000000            0.000000   \n",
              "25%      49.127500            0.000000            0.000000   \n",
              "50%      61.690000            0.000000            0.000000   \n",
              "75%      76.155000            0.000000            0.000000   \n",
              "max     123.300000            1.000000            1.000000   \n",
              "\n",
              "       variedade_RB867515  variedade_SP813250      solo_LP       solo_O  \\\n",
              "count         1308.000000         1308.000000  1308.000000  1308.000000   \n",
              "mean             0.559633            0.243884     0.473242     0.022936   \n",
              "std              0.496621            0.429588     0.499474     0.149756   \n",
              "min              0.000000            0.000000     0.000000     0.000000   \n",
              "25%              0.000000            0.000000     0.000000     0.000000   \n",
              "50%              1.000000            0.000000     0.000000     0.000000   \n",
              "75%              1.000000            0.000000     1.000000     0.000000   \n",
              "max              1.000000            1.000000     1.000000     1.000000   \n",
              "\n",
              "            solo_R  \n",
              "count  1308.000000  \n",
              "mean      0.503823  \n",
              "std       0.500177  \n",
              "min       0.000000  \n",
              "25%       0.000000  \n",
              "50%       1.000000  \n",
              "75%       1.000000  \n",
              "max       1.000000  "
            ],
            "text/html": [
              "\n",
              "  <div id=\"df-887215f3-ce43-4787-9696-e30efc2327e8\">\n",
              "    <div class=\"colab-df-container\">\n",
              "      <div>\n",
              "<style scoped>\n",
              "    .dataframe tbody tr th:only-of-type {\n",
              "        vertical-align: middle;\n",
              "    }\n",
              "\n",
              "    .dataframe tbody tr th {\n",
              "        vertical-align: top;\n",
              "    }\n",
              "\n",
              "    .dataframe thead th {\n",
              "        text-align: right;\n",
              "    }\n",
              "</style>\n",
              "<table border=\"1\" class=\"dataframe\">\n",
              "  <thead>\n",
              "    <tr style=\"text-align: right;\">\n",
              "      <th></th>\n",
              "      <th>std_iii</th>\n",
              "      <th>stn_iii</th>\n",
              "      <th>std_ii</th>\n",
              "      <th>stn_ii</th>\n",
              "      <th>std_i</th>\n",
              "      <th>stn_i</th>\n",
              "      <th>ppt_i</th>\n",
              "      <th>ppt_ii</th>\n",
              "      <th>ppt_iii</th>\n",
              "      <th>n_corte</th>\n",
              "      <th>tch</th>\n",
              "      <th>variedade_RB855156</th>\n",
              "      <th>variedade_RB855453</th>\n",
              "      <th>variedade_RB867515</th>\n",
              "      <th>variedade_SP813250</th>\n",
              "      <th>solo_LP</th>\n",
              "      <th>solo_O</th>\n",
              "      <th>solo_R</th>\n",
              "    </tr>\n",
              "  </thead>\n",
              "  <tbody>\n",
              "    <tr>\n",
              "      <th>count</th>\n",
              "      <td>1308.000000</td>\n",
              "      <td>1308.000000</td>\n",
              "      <td>1308.000000</td>\n",
              "      <td>1308.000000</td>\n",
              "      <td>1308.000000</td>\n",
              "      <td>1308.000000</td>\n",
              "      <td>1308.000000</td>\n",
              "      <td>1308.000000</td>\n",
              "      <td>1308.000000</td>\n",
              "      <td>1308.000000</td>\n",
              "      <td>1308.000000</td>\n",
              "      <td>1308.000000</td>\n",
              "      <td>1308.000000</td>\n",
              "      <td>1308.000000</td>\n",
              "      <td>1308.000000</td>\n",
              "      <td>1308.000000</td>\n",
              "      <td>1308.000000</td>\n",
              "      <td>1308.000000</td>\n",
              "    </tr>\n",
              "    <tr>\n",
              "      <th>mean</th>\n",
              "      <td>301.477524</td>\n",
              "      <td>290.845847</td>\n",
              "      <td>303.822749</td>\n",
              "      <td>292.714545</td>\n",
              "      <td>305.231572</td>\n",
              "      <td>290.794500</td>\n",
              "      <td>270.912309</td>\n",
              "      <td>1033.257416</td>\n",
              "      <td>274.015367</td>\n",
              "      <td>3.071101</td>\n",
              "      <td>62.832416</td>\n",
              "      <td>0.090214</td>\n",
              "      <td>0.106269</td>\n",
              "      <td>0.559633</td>\n",
              "      <td>0.243884</td>\n",
              "      <td>0.473242</td>\n",
              "      <td>0.022936</td>\n",
              "      <td>0.503823</td>\n",
              "    </tr>\n",
              "    <tr>\n",
              "      <th>std</th>\n",
              "      <td>3.069252</td>\n",
              "      <td>1.835666</td>\n",
              "      <td>2.590952</td>\n",
              "      <td>1.272012</td>\n",
              "      <td>3.295159</td>\n",
              "      <td>2.363089</td>\n",
              "      <td>210.401912</td>\n",
              "      <td>300.849621</td>\n",
              "      <td>180.136814</td>\n",
              "      <td>1.257993</td>\n",
              "      <td>20.228332</td>\n",
              "      <td>0.286598</td>\n",
              "      <td>0.308300</td>\n",
              "      <td>0.496621</td>\n",
              "      <td>0.429588</td>\n",
              "      <td>0.499474</td>\n",
              "      <td>0.149756</td>\n",
              "      <td>0.500177</td>\n",
              "    </tr>\n",
              "    <tr>\n",
              "      <th>min</th>\n",
              "      <td>294.781429</td>\n",
              "      <td>285.114347</td>\n",
              "      <td>298.069668</td>\n",
              "      <td>288.183780</td>\n",
              "      <td>296.887806</td>\n",
              "      <td>284.645217</td>\n",
              "      <td>8.800000</td>\n",
              "      <td>252.500000</td>\n",
              "      <td>10.900000</td>\n",
              "      <td>1.000000</td>\n",
              "      <td>15.400000</td>\n",
              "      <td>0.000000</td>\n",
              "      <td>0.000000</td>\n",
              "      <td>0.000000</td>\n",
              "      <td>0.000000</td>\n",
              "      <td>0.000000</td>\n",
              "      <td>0.000000</td>\n",
              "      <td>0.000000</td>\n",
              "    </tr>\n",
              "    <tr>\n",
              "      <th>25%</th>\n",
              "      <td>299.386371</td>\n",
              "      <td>289.697163</td>\n",
              "      <td>301.564640</td>\n",
              "      <td>291.823829</td>\n",
              "      <td>302.687172</td>\n",
              "      <td>288.902192</td>\n",
              "      <td>99.900000</td>\n",
              "      <td>820.325000</td>\n",
              "      <td>126.225000</td>\n",
              "      <td>2.000000</td>\n",
              "      <td>49.127500</td>\n",
              "      <td>0.000000</td>\n",
              "      <td>0.000000</td>\n",
              "      <td>0.000000</td>\n",
              "      <td>0.000000</td>\n",
              "      <td>0.000000</td>\n",
              "      <td>0.000000</td>\n",
              "      <td>0.000000</td>\n",
              "    </tr>\n",
              "    <tr>\n",
              "      <th>50%</th>\n",
              "      <td>300.840161</td>\n",
              "      <td>290.798472</td>\n",
              "      <td>303.590783</td>\n",
              "      <td>292.770127</td>\n",
              "      <td>305.546667</td>\n",
              "      <td>290.413599</td>\n",
              "      <td>215.250000</td>\n",
              "      <td>1007.200000</td>\n",
              "      <td>243.000000</td>\n",
              "      <td>3.000000</td>\n",
              "      <td>61.690000</td>\n",
              "      <td>0.000000</td>\n",
              "      <td>0.000000</td>\n",
              "      <td>1.000000</td>\n",
              "      <td>0.000000</td>\n",
              "      <td>0.000000</td>\n",
              "      <td>0.000000</td>\n",
              "      <td>1.000000</td>\n",
              "    </tr>\n",
              "    <tr>\n",
              "      <th>75%</th>\n",
              "      <td>303.212588</td>\n",
              "      <td>292.100462</td>\n",
              "      <td>305.755009</td>\n",
              "      <td>293.671316</td>\n",
              "      <td>307.904097</td>\n",
              "      <td>292.715542</td>\n",
              "      <td>386.450000</td>\n",
              "      <td>1230.275000</td>\n",
              "      <td>381.200000</td>\n",
              "      <td>4.000000</td>\n",
              "      <td>76.155000</td>\n",
              "      <td>0.000000</td>\n",
              "      <td>0.000000</td>\n",
              "      <td>1.000000</td>\n",
              "      <td>0.000000</td>\n",
              "      <td>1.000000</td>\n",
              "      <td>0.000000</td>\n",
              "      <td>1.000000</td>\n",
              "    </tr>\n",
              "    <tr>\n",
              "      <th>max</th>\n",
              "      <td>311.293606</td>\n",
              "      <td>295.458620</td>\n",
              "      <td>312.077846</td>\n",
              "      <td>295.670252</td>\n",
              "      <td>312.720222</td>\n",
              "      <td>296.812000</td>\n",
              "      <td>1052.700000</td>\n",
              "      <td>2162.800000</td>\n",
              "      <td>950.200000</td>\n",
              "      <td>5.000000</td>\n",
              "      <td>123.300000</td>\n",
              "      <td>1.000000</td>\n",
              "      <td>1.000000</td>\n",
              "      <td>1.000000</td>\n",
              "      <td>1.000000</td>\n",
              "      <td>1.000000</td>\n",
              "      <td>1.000000</td>\n",
              "      <td>1.000000</td>\n",
              "    </tr>\n",
              "  </tbody>\n",
              "</table>\n",
              "</div>\n",
              "      <button class=\"colab-df-convert\" onclick=\"convertToInteractive('df-887215f3-ce43-4787-9696-e30efc2327e8')\"\n",
              "              title=\"Convert this dataframe to an interactive table.\"\n",
              "              style=\"display:none;\">\n",
              "        \n",
              "  <svg xmlns=\"http://www.w3.org/2000/svg\" height=\"24px\"viewBox=\"0 0 24 24\"\n",
              "       width=\"24px\">\n",
              "    <path d=\"M0 0h24v24H0V0z\" fill=\"none\"/>\n",
              "    <path d=\"M18.56 5.44l.94 2.06.94-2.06 2.06-.94-2.06-.94-.94-2.06-.94 2.06-2.06.94zm-11 1L8.5 8.5l.94-2.06 2.06-.94-2.06-.94L8.5 2.5l-.94 2.06-2.06.94zm10 10l.94 2.06.94-2.06 2.06-.94-2.06-.94-.94-2.06-.94 2.06-2.06.94z\"/><path d=\"M17.41 7.96l-1.37-1.37c-.4-.4-.92-.59-1.43-.59-.52 0-1.04.2-1.43.59L10.3 9.45l-7.72 7.72c-.78.78-.78 2.05 0 2.83L4 21.41c.39.39.9.59 1.41.59.51 0 1.02-.2 1.41-.59l7.78-7.78 2.81-2.81c.8-.78.8-2.07 0-2.86zM5.41 20L4 18.59l7.72-7.72 1.47 1.35L5.41 20z\"/>\n",
              "  </svg>\n",
              "      </button>\n",
              "      \n",
              "  <style>\n",
              "    .colab-df-container {\n",
              "      display:flex;\n",
              "      flex-wrap:wrap;\n",
              "      gap: 12px;\n",
              "    }\n",
              "\n",
              "    .colab-df-convert {\n",
              "      background-color: #E8F0FE;\n",
              "      border: none;\n",
              "      border-radius: 50%;\n",
              "      cursor: pointer;\n",
              "      display: none;\n",
              "      fill: #1967D2;\n",
              "      height: 32px;\n",
              "      padding: 0 0 0 0;\n",
              "      width: 32px;\n",
              "    }\n",
              "\n",
              "    .colab-df-convert:hover {\n",
              "      background-color: #E2EBFA;\n",
              "      box-shadow: 0px 1px 2px rgba(60, 64, 67, 0.3), 0px 1px 3px 1px rgba(60, 64, 67, 0.15);\n",
              "      fill: #174EA6;\n",
              "    }\n",
              "\n",
              "    [theme=dark] .colab-df-convert {\n",
              "      background-color: #3B4455;\n",
              "      fill: #D2E3FC;\n",
              "    }\n",
              "\n",
              "    [theme=dark] .colab-df-convert:hover {\n",
              "      background-color: #434B5C;\n",
              "      box-shadow: 0px 1px 3px 1px rgba(0, 0, 0, 0.15);\n",
              "      filter: drop-shadow(0px 1px 2px rgba(0, 0, 0, 0.3));\n",
              "      fill: #FFFFFF;\n",
              "    }\n",
              "  </style>\n",
              "\n",
              "      <script>\n",
              "        const buttonEl =\n",
              "          document.querySelector('#df-887215f3-ce43-4787-9696-e30efc2327e8 button.colab-df-convert');\n",
              "        buttonEl.style.display =\n",
              "          google.colab.kernel.accessAllowed ? 'block' : 'none';\n",
              "\n",
              "        async function convertToInteractive(key) {\n",
              "          const element = document.querySelector('#df-887215f3-ce43-4787-9696-e30efc2327e8');\n",
              "          const dataTable =\n",
              "            await google.colab.kernel.invokeFunction('convertToInteractive',\n",
              "                                                     [key], {});\n",
              "          if (!dataTable) return;\n",
              "\n",
              "          const docLinkHtml = 'Like what you see? Visit the ' +\n",
              "            '<a target=\"_blank\" href=https://colab.research.google.com/notebooks/data_table.ipynb>data table notebook</a>'\n",
              "            + ' to learn more about interactive tables.';\n",
              "          element.innerHTML = '';\n",
              "          dataTable['output_type'] = 'display_data';\n",
              "          await google.colab.output.renderOutput(dataTable, element);\n",
              "          const docLink = document.createElement('div');\n",
              "          docLink.innerHTML = docLinkHtml;\n",
              "          element.appendChild(docLink);\n",
              "        }\n",
              "      </script>\n",
              "    </div>\n",
              "  </div>\n",
              "  "
            ]
          },
          "metadata": {},
          "execution_count": 48
        }
      ]
    },
    {
      "cell_type": "code",
      "metadata": {
        "id": "REExtvP2ZA02"
      },
      "source": [
        "# Normalizar Z-score (Média 0 e Desvio Padrão 1). Usar sklearn.preprocessing StandardScaler (já importado no início do script)\n",
        "# Fazer a normalização no conjunto de treino (X_train) e usar a mesma 'transformação' no conjunto de teste (X_teste)\n",
        "# Passo 1: Definir o 'scaler' no X_train\n",
        "scaler = StandardScaler().fit(X_train)\n",
        "X_train_norm = pd.DataFrame(scaler.transform(X_train), columns=X_train.columns)\n",
        "# Passo 2: Usar no X_test a mesma operação feita para a normalização de X_train\n",
        "X_test_norm = pd.DataFrame(scaler.transform(X_test), columns=X_test.columns)"
      ],
      "execution_count": null,
      "outputs": []
    },
    {
      "cell_type": "markdown",
      "metadata": {
        "id": "QDS3NIljYTVI"
      },
      "source": [
        "## Otimizar Hiperparâmetro K"
      ]
    },
    {
      "cell_type": "markdown",
      "metadata": {
        "id": "5LzVRekrZmrR"
      },
      "source": [
        "### GridSearch CV"
      ]
    },
    {
      "cell_type": "code",
      "metadata": {
        "id": "9xwkwkrwY074",
        "colab": {
          "base_uri": "https://localhost:8080/"
        },
        "outputId": "3599e17d-2c05-4277-9f5a-89ad35b63e80"
      },
      "source": [
        "# Cronometrar o tempo de execução\n",
        "%%time\n",
        "\n",
        "# Passo 1: Definir a faixa do grid em que o hiperparâmetro vai variar\n",
        "# IMPORTANTE: Formato de 'dictionary' {'label':valor}\n",
        "faixa_K = {'n_neighbors': np.arange(7,16)}\n",
        "\n",
        "# Passo 2: Definir o objeto com a técnica e os parâmetros da otimização\n",
        "knn_gsearch = GridSearchCV(KNeighborsRegressor(),\n",
        "                           param_grid=faixa_K,\n",
        "                           cv=5)\n",
        "\n",
        "# Passo 3: Otimizar o objeto definido anteriormente no conjunto de dados\n",
        "knn_gsearch.fit(X_train_norm, y_train)\n",
        "\n",
        "# Passo 4: Apresentar o melhor K (K quando se obteve o melhor resultado)\n",
        "opt_K = knn_gsearch.best_params_\n",
        "print(opt_K)"
      ],
      "execution_count": null,
      "outputs": [
        {
          "output_type": "stream",
          "name": "stdout",
          "text": [
            "{'n_neighbors': 10}\n",
            "CPU times: user 404 ms, sys: 334 ms, total: 738 ms\n",
            "Wall time: 391 ms\n"
          ]
        }
      ]
    },
    {
      "cell_type": "code",
      "metadata": {
        "id": "aPrcCVz6dyEH",
        "colab": {
          "base_uri": "https://localhost:8080/"
        },
        "outputId": "e162aa5c-d68f-4879-a946-3a5da7203706"
      },
      "source": [
        "# Otimizado o hiperparâmetro\n",
        "%%time\n",
        "# Passo 1: Criar um objeto e ajustar o objeto ao Conjunto de Treino, utilizando o hiperparâmetro ótimo\n",
        "knn = KNeighborsRegressor(n_neighbors=opt_K['n_neighbors']).fit(X_train_norm, y_train)\n",
        "\n",
        "# Passo 2: Fazer predição do modelo no Conjunto de Teste\n",
        "y_pred =knn.predict(X_test_norm)\n",
        "\n",
        "# Passo 3: Avaliar o modelo, calculando R2, MAE e RMSE\n",
        "r2_knn = r2_score(y_test,y_pred)\n",
        "mae_knn = mean_absolute_error(y_test,y_pred)\n",
        "rmse_knn = np.sqrt(mean_absolute_error(y_test,y_pred))\n",
        "\n",
        "print('R2 = ',r2_knn)\n",
        "print('MAE = ', mae_knn)\n",
        "print('RMSE = ', rmse_knn)\n"
      ],
      "execution_count": null,
      "outputs": [
        {
          "output_type": "stream",
          "name": "stdout",
          "text": [
            "R2 =  0.2815415738047884\n",
            "MAE =  13.459722646310434\n",
            "RMSE =  3.6687494662773625\n",
            "CPU times: user 20.2 ms, sys: 5.04 ms, total: 25.2 ms\n",
            "Wall time: 19 ms\n"
          ]
        }
      ]
    },
    {
      "cell_type": "code",
      "metadata": {
        "id": "CffNLmzlclKO"
      },
      "source": [
        "# A título de comparação, vamos utilizar o 'Dummy Regressor' do Scikit-learn\n",
        "from sklearn.dummy import DummyRegressor\n",
        "# Importar 'DummyRegressor' do componente 'dummy' do sklearn\n"
      ],
      "execution_count": null,
      "outputs": []
    },
    {
      "cell_type": "code",
      "metadata": {
        "id": "mga6zdqgg1hG",
        "colab": {
          "base_uri": "https://localhost:8080/"
        },
        "outputId": "e85bc654-c5d4-427b-b301-74b685dbb39e"
      },
      "source": [
        "# Criar objeto definindo estratégia para estimativa e ajustar ao conjunto de treino\n",
        "dummy= DummyRegressor(strategy='mean').fit(X_train_norm,y_train)\n",
        "\n",
        "# Fazer a predição no conjunto de teste utilizando o objeto definido e ajustado anteriormente\n",
        "y_pred_dummy = dummy.predict(X_test_norm)\n",
        "\n",
        "# Avaliar a estimativa feita com 'dummy' (R2, MAE e RMSE)\n",
        "r2_dummy = r2_score(y_test,y_pred_dummy)\n",
        "mae_dummy = mean_absolute_error(y_test,y_pred_dummy)\n",
        "rmse_dummy = np.sqrt(mean_squared_error(y_test,y_pred_dummy))\n",
        "\n",
        "print('R2_dummy = ',r2_dummy)\n",
        "print('MAE_dummy = ', mae_dummy)\n",
        "print('RMSE_dummy = ', rmse_dummy)\n"
      ],
      "execution_count": null,
      "outputs": [
        {
          "output_type": "stream",
          "name": "stdout",
          "text": [
            "R2_dummy =  -0.0044371357107857445\n",
            "MAE_dummy =  15.918614274392024\n",
            "RMSE_dummy =  19.915239000588326\n"
          ]
        }
      ]
    },
    {
      "cell_type": "markdown",
      "metadata": {
        "id": "YOynuRcqh8ol"
      },
      "source": [
        "### Randomized Search CV"
      ]
    },
    {
      "cell_type": "code",
      "metadata": {
        "id": "OYaVJ2xBh8om",
        "colab": {
          "base_uri": "https://localhost:8080/"
        },
        "outputId": "04bddf8a-1598-4114-efd5-a7232cc07a1e"
      },
      "source": [
        "from pandas.core.common import random_state\n",
        "# Cronometrar o tempo de execução\n",
        "\n",
        "# Passo 1: Definir a faixa do grid em que o hiperparâmetro vai variar e o número desejado de iterações\n",
        "faixa_K ={'n_neighbors':np.arange(1,42)} #vai do 1 ao 41, de 1 em 1, fará isso em:\n",
        "niter = 15                                #15 vezes\n",
        "\n",
        "# Passo 2: Definir o objeto com a técnica e os parâmetros da otimização\n",
        "knn_rsearch = RandomizedSearchCV(KNeighborsRegressor(),\n",
        "                                 param_distributions=faixa_K,\n",
        "                                 n_iter=niter,\n",
        "                                 cv=5,\n",
        "                                 random_state=2021)\n",
        "\n",
        "# Passo 3: Otimizar o objeto definido anteriormente no conjunto de dados\n",
        "\n",
        "knn_rsearch.fit(X_train_norm,y_train)\n",
        "# Passo 4: Apresentar o melhor K (K quando se obteve o melhor resultado)\n",
        "opt_K = knn_rsearch.best_params_\n",
        "print(opt_K)"
      ],
      "execution_count": null,
      "outputs": [
        {
          "output_type": "stream",
          "name": "stdout",
          "text": [
            "{'n_neighbors': 10}\n"
          ]
        }
      ]
    },
    {
      "cell_type": "markdown",
      "metadata": {
        "id": "4lP3xhQYRGj3"
      },
      "source": [
        "# ATIVIDADE PRÁTICA\n",
        "\n",
        "## Conjunto de dados: FA084-1s2021-Dataset-UCR.csv\n",
        "(Conjunto de dados de produção da Usina Costa Rica, do Grupo ATVOS)\n",
        "\n",
        "Descrição dos atributos:\n",
        "\n",
        "*  **safra:**  Ano da Safra (Plantio/Colheita): 21213 (2012/2013), 21314 (2013/2014), etc.  \n",
        "*  **codFaz:**  Código da Fazenda onde se realizou a colheita\n",
        "\n",
        "* **bloco:**  Bloco onde se realizou a colheita \n",
        "* **talhão:**  Talhão onde se realizou a colheita \n",
        "* **estagio:**  Número de corte da colheita: 1° corte (12m, 15M e 18m), 2° corte, 3° corte, etc \n",
        "* **variedade:**  Variedade da cana \n",
        "* **usina:**  Código da Usina \n",
        "* **ambProd:**  Ambiente de Produção do talhão \n",
        "* **tchEst:**  Produtividade (TCH – t/ha) ESTIMADA do talhão \n",
        "* **tchReal:**  Produtividade (TCH – t/ha) REAL do talhão \n",
        "* **days:**  Intervalo (em dias) entre a última colheita e a colheita anterior\n",
        "\n"
      ]
    },
    {
      "cell_type": "markdown",
      "metadata": {
        "id": "284whnbio_nf"
      },
      "source": [
        "## 1) Adequação do Conjunto de Dados"
      ]
    },
    {
      "cell_type": "code",
      "source": [
        "df1=pd.read_csv('/content/FA084-1s2021-Dataset-UCR.csv')\n",
        "df1\n"
      ],
      "metadata": {
        "id": "daCa-gSFkSR4"
      },
      "execution_count": null,
      "outputs": []
    },
    {
      "cell_type": "code",
      "source": [
        "df1.drop(columns=(df1.iloc[:,0:1]),inplace=True)"
      ],
      "metadata": {
        "id": "3tbckZrolM94"
      },
      "execution_count": null,
      "outputs": []
    },
    {
      "cell_type": "code",
      "source": [
        "df1.dtypes"
      ],
      "metadata": {
        "id": "Qv-nVOEVmHyx"
      },
      "execution_count": null,
      "outputs": []
    },
    {
      "cell_type": "markdown",
      "metadata": {
        "id": "qPhYzN5wpCw5"
      },
      "source": [
        "### 1.A) Mantenha apenas os dados das **QUATRO SAFRAS** COM MAIOR NÚMERO DE REGISTROS, DESCARTANDO OS DEMAIS REGISTROS"
      ]
    },
    {
      "cell_type": "code",
      "source": [
        "c_safra= df1.safra.value_counts()[:4].index.tolist()\n",
        "df1=df1[df1.safra.isin(c_safra)]"
      ],
      "metadata": {
        "id": "1TWXrcmZm9aX"
      },
      "execution_count": null,
      "outputs": []
    },
    {
      "cell_type": "code",
      "source": [
        "df1.safra.value_counts()"
      ],
      "metadata": {
        "id": "DuGkNOOzJgOF"
      },
      "execution_count": null,
      "outputs": []
    },
    {
      "cell_type": "markdown",
      "metadata": {
        "id": "B1EHdFI2pTQK"
      },
      "source": [
        "### 1.B) Mantenha apenas os dados das **TRÊS VARIEDADES** COM MAIOR NÚMERO DE REGISTROS, DESCARTANDO OS DEMAIS REGISTROS"
      ]
    },
    {
      "cell_type": "code",
      "source": [
        "varie=df1.variedade.value_counts()[:3].index.tolist()\n",
        "df1=df1[df1.variedade.isin(varie)]\n",
        "df1.variedade.value_counts()"
      ],
      "metadata": {
        "id": "FR2B5dzuKFpl",
        "colab": {
          "base_uri": "https://localhost:8080/"
        },
        "outputId": "90a6747d-879e-4473-8e3a-78f9340b3397"
      },
      "execution_count": null,
      "outputs": [
        {
          "output_type": "execute_result",
          "data": {
            "text/plain": [
              "RB867515    1765\n",
              "SP813250     745\n",
              "RB855453     524\n",
              "Name: variedade, dtype: int64"
            ]
          },
          "metadata": {},
          "execution_count": 9
        }
      ]
    },
    {
      "cell_type": "markdown",
      "metadata": {
        "id": "UT8Im9oHphVh"
      },
      "source": [
        "### 1.C) ESTÁGIOS (NÚMERO DE CORTES)"
      ]
    },
    {
      "cell_type": "markdown",
      "metadata": {
        "id": "y9Zo-d2Rpqmn"
      },
      "source": [
        "#### 1.C.1) \n",
        "\n",
        "> Estágios ‘12m’, ‘15M’ e ‘18m’ são CANA PLANTA (1° corte).  \n",
        "O que os diferencia é que são cana de  12 meses, 15 meses ou 18 meses.  \n",
        "Para que todos esses registros sejam **‘cana de primeiro corte’**, considere todos como **estágio ‘1’**. \n"
      ]
    },
    {
      "cell_type": "code",
      "source": [
        "lista=['12m','15M','18m']\n",
        "for k in lista: \n",
        "  df1.estagio.replace({k:1}, inplace=True)\n",
        "df1.estagio.value_counts()"
      ],
      "metadata": {
        "id": "DakcVy_J9979"
      },
      "execution_count": null,
      "outputs": []
    },
    {
      "cell_type": "markdown",
      "metadata": {
        "id": "k4SptTjeqQj7"
      },
      "source": [
        "#### 1.C.2) \n",
        "\n",
        "> Mantenha apenas os dados dos registros dos **CINCO PRIMEIROS CORTES** (cortes de 1 a 5), DESCARTANDO OS DEMAIS REGISTROS\n"
      ]
    },
    {
      "cell_type": "code",
      "source": [
        "df1=df1.drop(df1[df1.estagio.astype(int)>=6].index)\n",
        "df1.estagio.value_counts()"
      ],
      "metadata": {
        "id": "4bFdJRYKEjC8"
      },
      "execution_count": null,
      "outputs": []
    },
    {
      "cell_type": "markdown",
      "metadata": {
        "id": "Qpl6fU7mrF-B"
      },
      "source": [
        "## 2. Exploração Inicial do Conjunto de Dados"
      ]
    },
    {
      "cell_type": "markdown",
      "metadata": {
        "id": "b4tmNbqkrF-B"
      },
      "source": [
        "### 2.A) Qual a média de Produtividade Real da cana para cada estágio de corte?"
      ]
    },
    {
      "cell_type": "code",
      "source": [
        "df1.tchReal.groupby(df1.estagio).mean()"
      ],
      "metadata": {
        "id": "1pgXA-61JbIO"
      },
      "execution_count": null,
      "outputs": []
    },
    {
      "cell_type": "markdown",
      "metadata": {
        "id": "QhXYdPKwrfwq"
      },
      "source": [
        "### 2.B) Qual a média de Produtividade Real da cana para cada variedade?"
      ]
    },
    {
      "cell_type": "code",
      "source": [
        "df1.tchReal.groupby(df1.variedade).mean()"
      ],
      "metadata": {
        "id": "ypjfnpliKiEc"
      },
      "execution_count": null,
      "outputs": []
    },
    {
      "cell_type": "markdown",
      "metadata": {
        "id": "Tc2ij21QrrCy"
      },
      "source": [
        "### 2.C) Construa um 'Boxplot' da Produtividade Real da cana para cada estágio de corte"
      ]
    },
    {
      "cell_type": "code",
      "source": [
        "df1.boxplot(column='tchReal',by='estagio');"
      ],
      "metadata": {
        "id": "96n6SB8UKraV"
      },
      "execution_count": null,
      "outputs": []
    },
    {
      "cell_type": "markdown",
      "metadata": {
        "id": "wF4RW67wr1gY"
      },
      "source": [
        "### 2.D) Construa um 'Boxplot' da Produtividade Real da cana para cada variedade"
      ]
    },
    {
      "cell_type": "code",
      "source": [
        "df1.boxplot(column='tchReal',by='variedade');"
      ],
      "metadata": {
        "id": "fUXt4zv5Lcj2"
      },
      "execution_count": null,
      "outputs": []
    },
    {
      "cell_type": "markdown",
      "metadata": {
        "id": "_yR-L4ZRsCEh"
      },
      "source": [
        "## 3. Análise do Erro da Produtividade Estimada"
      ]
    },
    {
      "cell_type": "markdown",
      "metadata": {
        "id": "gC3oN9fwsJgv"
      },
      "source": [
        "### 3.A) Faça uma análise crítica dos resultados obtidos com as figuras solicitadas a seguir:\n",
        "\n",
        "*   Histograma dos erros entre as produtividades estimada (tchEst) e real (tchReal)  \n",
        "  * Geral\n",
        "  * Por variedade\n",
        "  * Por estágio (número de corte)\n",
        "*    Gráfico ‘scatter’ comparando tchReal (eixo x) e tchEst (eixo y)\n",
        "\n"
      ]
    },
    {
      "cell_type": "code",
      "source": [
        "df1['Erro']=df1.tchEst-df1.tchReal"
      ],
      "metadata": {
        "id": "MMSxvG6hL-Hu"
      },
      "execution_count": null,
      "outputs": []
    },
    {
      "cell_type": "code",
      "source": [
        "df1.hist(column='Erro');"
      ],
      "metadata": {
        "id": "zZXGrPHtOblW"
      },
      "execution_count": null,
      "outputs": []
    },
    {
      "cell_type": "code",
      "source": [
        "df1.hist(column='Erro', by='variedade', figsize=(10,10));"
      ],
      "metadata": {
        "id": "KHbrjecdPiMO"
      },
      "execution_count": null,
      "outputs": []
    },
    {
      "cell_type": "code",
      "source": [
        "df1.hist(column='Erro', by='estagio', figsize=(10,10));"
      ],
      "metadata": {
        "id": "qoqfao9TP6OV"
      },
      "execution_count": null,
      "outputs": []
    },
    {
      "cell_type": "code",
      "source": [
        "df1.plot.scatter(x='tchReal', y='tchEst');"
      ],
      "metadata": {
        "id": "JspxVNsdQECj"
      },
      "execution_count": null,
      "outputs": []
    },
    {
      "cell_type": "markdown",
      "metadata": {
        "id": "AX0JZMVAsw9a"
      },
      "source": [
        "### 3.B) Faça uma análise crítica dos resultados obtidos com os itens a seguir:\n",
        "\n",
        "*    Valores da produtividade estimada e real, quando o erro foi máximo  \n",
        "*    Estágio (número do corte) e variedade quando o erro foi máximo  \n",
        "*    Produtividade real média, máxima e mínima para esta variedade neste corte\n",
        "\n"
      ]
    },
    {
      "cell_type": "code",
      "source": [
        "df1[df1.Erro==df1.Erro.max()]"
      ],
      "metadata": {
        "colab": {
          "base_uri": "https://localhost:8080/",
          "height": 81
        },
        "id": "BWvEBlS5SJNV",
        "outputId": "3cc3b7cb-f64c-4286-8f4a-a970e1ce0a6b"
      },
      "execution_count": null,
      "outputs": [
        {
          "output_type": "execute_result",
          "data": {
            "text/plain": [
              "      safra  codFaz  bloco  talhao estagio variedade usina ambProd  tchEst  \\\n",
              "3297  21516  430045      1      17       4  RB855453   COR       B  122.75   \n",
              "\n",
              "      tchReal  days    Erro  \n",
              "3297     2.44   387  120.31  "
            ],
            "text/html": [
              "\n",
              "  <div id=\"df-86885114-80dd-4ed2-b978-85c60e7fdc64\">\n",
              "    <div class=\"colab-df-container\">\n",
              "      <div>\n",
              "<style scoped>\n",
              "    .dataframe tbody tr th:only-of-type {\n",
              "        vertical-align: middle;\n",
              "    }\n",
              "\n",
              "    .dataframe tbody tr th {\n",
              "        vertical-align: top;\n",
              "    }\n",
              "\n",
              "    .dataframe thead th {\n",
              "        text-align: right;\n",
              "    }\n",
              "</style>\n",
              "<table border=\"1\" class=\"dataframe\">\n",
              "  <thead>\n",
              "    <tr style=\"text-align: right;\">\n",
              "      <th></th>\n",
              "      <th>safra</th>\n",
              "      <th>codFaz</th>\n",
              "      <th>bloco</th>\n",
              "      <th>talhao</th>\n",
              "      <th>estagio</th>\n",
              "      <th>variedade</th>\n",
              "      <th>usina</th>\n",
              "      <th>ambProd</th>\n",
              "      <th>tchEst</th>\n",
              "      <th>tchReal</th>\n",
              "      <th>days</th>\n",
              "      <th>Erro</th>\n",
              "    </tr>\n",
              "  </thead>\n",
              "  <tbody>\n",
              "    <tr>\n",
              "      <th>3297</th>\n",
              "      <td>21516</td>\n",
              "      <td>430045</td>\n",
              "      <td>1</td>\n",
              "      <td>17</td>\n",
              "      <td>4</td>\n",
              "      <td>RB855453</td>\n",
              "      <td>COR</td>\n",
              "      <td>B</td>\n",
              "      <td>122.75</td>\n",
              "      <td>2.44</td>\n",
              "      <td>387</td>\n",
              "      <td>120.31</td>\n",
              "    </tr>\n",
              "  </tbody>\n",
              "</table>\n",
              "</div>\n",
              "      <button class=\"colab-df-convert\" onclick=\"convertToInteractive('df-86885114-80dd-4ed2-b978-85c60e7fdc64')\"\n",
              "              title=\"Convert this dataframe to an interactive table.\"\n",
              "              style=\"display:none;\">\n",
              "        \n",
              "  <svg xmlns=\"http://www.w3.org/2000/svg\" height=\"24px\"viewBox=\"0 0 24 24\"\n",
              "       width=\"24px\">\n",
              "    <path d=\"M0 0h24v24H0V0z\" fill=\"none\"/>\n",
              "    <path d=\"M18.56 5.44l.94 2.06.94-2.06 2.06-.94-2.06-.94-.94-2.06-.94 2.06-2.06.94zm-11 1L8.5 8.5l.94-2.06 2.06-.94-2.06-.94L8.5 2.5l-.94 2.06-2.06.94zm10 10l.94 2.06.94-2.06 2.06-.94-2.06-.94-.94-2.06-.94 2.06-2.06.94z\"/><path d=\"M17.41 7.96l-1.37-1.37c-.4-.4-.92-.59-1.43-.59-.52 0-1.04.2-1.43.59L10.3 9.45l-7.72 7.72c-.78.78-.78 2.05 0 2.83L4 21.41c.39.39.9.59 1.41.59.51 0 1.02-.2 1.41-.59l7.78-7.78 2.81-2.81c.8-.78.8-2.07 0-2.86zM5.41 20L4 18.59l7.72-7.72 1.47 1.35L5.41 20z\"/>\n",
              "  </svg>\n",
              "      </button>\n",
              "      \n",
              "  <style>\n",
              "    .colab-df-container {\n",
              "      display:flex;\n",
              "      flex-wrap:wrap;\n",
              "      gap: 12px;\n",
              "    }\n",
              "\n",
              "    .colab-df-convert {\n",
              "      background-color: #E8F0FE;\n",
              "      border: none;\n",
              "      border-radius: 50%;\n",
              "      cursor: pointer;\n",
              "      display: none;\n",
              "      fill: #1967D2;\n",
              "      height: 32px;\n",
              "      padding: 0 0 0 0;\n",
              "      width: 32px;\n",
              "    }\n",
              "\n",
              "    .colab-df-convert:hover {\n",
              "      background-color: #E2EBFA;\n",
              "      box-shadow: 0px 1px 2px rgba(60, 64, 67, 0.3), 0px 1px 3px 1px rgba(60, 64, 67, 0.15);\n",
              "      fill: #174EA6;\n",
              "    }\n",
              "\n",
              "    [theme=dark] .colab-df-convert {\n",
              "      background-color: #3B4455;\n",
              "      fill: #D2E3FC;\n",
              "    }\n",
              "\n",
              "    [theme=dark] .colab-df-convert:hover {\n",
              "      background-color: #434B5C;\n",
              "      box-shadow: 0px 1px 3px 1px rgba(0, 0, 0, 0.15);\n",
              "      filter: drop-shadow(0px 1px 2px rgba(0, 0, 0, 0.3));\n",
              "      fill: #FFFFFF;\n",
              "    }\n",
              "  </style>\n",
              "\n",
              "      <script>\n",
              "        const buttonEl =\n",
              "          document.querySelector('#df-86885114-80dd-4ed2-b978-85c60e7fdc64 button.colab-df-convert');\n",
              "        buttonEl.style.display =\n",
              "          google.colab.kernel.accessAllowed ? 'block' : 'none';\n",
              "\n",
              "        async function convertToInteractive(key) {\n",
              "          const element = document.querySelector('#df-86885114-80dd-4ed2-b978-85c60e7fdc64');\n",
              "          const dataTable =\n",
              "            await google.colab.kernel.invokeFunction('convertToInteractive',\n",
              "                                                     [key], {});\n",
              "          if (!dataTable) return;\n",
              "\n",
              "          const docLinkHtml = 'Like what you see? Visit the ' +\n",
              "            '<a target=\"_blank\" href=https://colab.research.google.com/notebooks/data_table.ipynb>data table notebook</a>'\n",
              "            + ' to learn more about interactive tables.';\n",
              "          element.innerHTML = '';\n",
              "          dataTable['output_type'] = 'display_data';\n",
              "          await google.colab.output.renderOutput(dataTable, element);\n",
              "          const docLink = document.createElement('div');\n",
              "          docLink.innerHTML = docLinkHtml;\n",
              "          element.appendChild(docLink);\n",
              "        }\n",
              "      </script>\n",
              "    </div>\n",
              "  </div>\n",
              "  "
            ]
          },
          "metadata": {},
          "execution_count": 21
        }
      ]
    },
    {
      "cell_type": "code",
      "source": [
        "df1[abs(df1.Erro)==abs(df1.Erro.max())][['tchReal','tchEst','Erro','variedade','estagio']]"
      ],
      "metadata": {
        "colab": {
          "base_uri": "https://localhost:8080/",
          "height": 81
        },
        "id": "OBPAWl0ZSg02",
        "outputId": "7b0eea6a-9099-4bab-8721-e1907fe76926"
      },
      "execution_count": null,
      "outputs": [
        {
          "output_type": "execute_result",
          "data": {
            "text/plain": [
              "      tchReal  tchEst    Erro variedade estagio\n",
              "3297     2.44  122.75  120.31  RB855453       4"
            ],
            "text/html": [
              "\n",
              "  <div id=\"df-56830436-88d2-4edb-9b69-801a1f40f837\">\n",
              "    <div class=\"colab-df-container\">\n",
              "      <div>\n",
              "<style scoped>\n",
              "    .dataframe tbody tr th:only-of-type {\n",
              "        vertical-align: middle;\n",
              "    }\n",
              "\n",
              "    .dataframe tbody tr th {\n",
              "        vertical-align: top;\n",
              "    }\n",
              "\n",
              "    .dataframe thead th {\n",
              "        text-align: right;\n",
              "    }\n",
              "</style>\n",
              "<table border=\"1\" class=\"dataframe\">\n",
              "  <thead>\n",
              "    <tr style=\"text-align: right;\">\n",
              "      <th></th>\n",
              "      <th>tchReal</th>\n",
              "      <th>tchEst</th>\n",
              "      <th>Erro</th>\n",
              "      <th>variedade</th>\n",
              "      <th>estagio</th>\n",
              "    </tr>\n",
              "  </thead>\n",
              "  <tbody>\n",
              "    <tr>\n",
              "      <th>3297</th>\n",
              "      <td>2.44</td>\n",
              "      <td>122.75</td>\n",
              "      <td>120.31</td>\n",
              "      <td>RB855453</td>\n",
              "      <td>4</td>\n",
              "    </tr>\n",
              "  </tbody>\n",
              "</table>\n",
              "</div>\n",
              "      <button class=\"colab-df-convert\" onclick=\"convertToInteractive('df-56830436-88d2-4edb-9b69-801a1f40f837')\"\n",
              "              title=\"Convert this dataframe to an interactive table.\"\n",
              "              style=\"display:none;\">\n",
              "        \n",
              "  <svg xmlns=\"http://www.w3.org/2000/svg\" height=\"24px\"viewBox=\"0 0 24 24\"\n",
              "       width=\"24px\">\n",
              "    <path d=\"M0 0h24v24H0V0z\" fill=\"none\"/>\n",
              "    <path d=\"M18.56 5.44l.94 2.06.94-2.06 2.06-.94-2.06-.94-.94-2.06-.94 2.06-2.06.94zm-11 1L8.5 8.5l.94-2.06 2.06-.94-2.06-.94L8.5 2.5l-.94 2.06-2.06.94zm10 10l.94 2.06.94-2.06 2.06-.94-2.06-.94-.94-2.06-.94 2.06-2.06.94z\"/><path d=\"M17.41 7.96l-1.37-1.37c-.4-.4-.92-.59-1.43-.59-.52 0-1.04.2-1.43.59L10.3 9.45l-7.72 7.72c-.78.78-.78 2.05 0 2.83L4 21.41c.39.39.9.59 1.41.59.51 0 1.02-.2 1.41-.59l7.78-7.78 2.81-2.81c.8-.78.8-2.07 0-2.86zM5.41 20L4 18.59l7.72-7.72 1.47 1.35L5.41 20z\"/>\n",
              "  </svg>\n",
              "      </button>\n",
              "      \n",
              "  <style>\n",
              "    .colab-df-container {\n",
              "      display:flex;\n",
              "      flex-wrap:wrap;\n",
              "      gap: 12px;\n",
              "    }\n",
              "\n",
              "    .colab-df-convert {\n",
              "      background-color: #E8F0FE;\n",
              "      border: none;\n",
              "      border-radius: 50%;\n",
              "      cursor: pointer;\n",
              "      display: none;\n",
              "      fill: #1967D2;\n",
              "      height: 32px;\n",
              "      padding: 0 0 0 0;\n",
              "      width: 32px;\n",
              "    }\n",
              "\n",
              "    .colab-df-convert:hover {\n",
              "      background-color: #E2EBFA;\n",
              "      box-shadow: 0px 1px 2px rgba(60, 64, 67, 0.3), 0px 1px 3px 1px rgba(60, 64, 67, 0.15);\n",
              "      fill: #174EA6;\n",
              "    }\n",
              "\n",
              "    [theme=dark] .colab-df-convert {\n",
              "      background-color: #3B4455;\n",
              "      fill: #D2E3FC;\n",
              "    }\n",
              "\n",
              "    [theme=dark] .colab-df-convert:hover {\n",
              "      background-color: #434B5C;\n",
              "      box-shadow: 0px 1px 3px 1px rgba(0, 0, 0, 0.15);\n",
              "      filter: drop-shadow(0px 1px 2px rgba(0, 0, 0, 0.3));\n",
              "      fill: #FFFFFF;\n",
              "    }\n",
              "  </style>\n",
              "\n",
              "      <script>\n",
              "        const buttonEl =\n",
              "          document.querySelector('#df-56830436-88d2-4edb-9b69-801a1f40f837 button.colab-df-convert');\n",
              "        buttonEl.style.display =\n",
              "          google.colab.kernel.accessAllowed ? 'block' : 'none';\n",
              "\n",
              "        async function convertToInteractive(key) {\n",
              "          const element = document.querySelector('#df-56830436-88d2-4edb-9b69-801a1f40f837');\n",
              "          const dataTable =\n",
              "            await google.colab.kernel.invokeFunction('convertToInteractive',\n",
              "                                                     [key], {});\n",
              "          if (!dataTable) return;\n",
              "\n",
              "          const docLinkHtml = 'Like what you see? Visit the ' +\n",
              "            '<a target=\"_blank\" href=https://colab.research.google.com/notebooks/data_table.ipynb>data table notebook</a>'\n",
              "            + ' to learn more about interactive tables.';\n",
              "          element.innerHTML = '';\n",
              "          dataTable['output_type'] = 'display_data';\n",
              "          await google.colab.output.renderOutput(dataTable, element);\n",
              "          const docLink = document.createElement('div');\n",
              "          docLink.innerHTML = docLinkHtml;\n",
              "          element.appendChild(docLink);\n",
              "        }\n",
              "      </script>\n",
              "    </div>\n",
              "  </div>\n",
              "  "
            ]
          },
          "metadata": {},
          "execution_count": 22
        }
      ]
    },
    {
      "cell_type": "code",
      "source": [
        "kmaxesta=df1[abs(df1.Erro)==abs(df1.Erro.max())]['estagio']\n",
        "kmaxvarie=df1[abs(df1.Erro)==abs(df1.Erro.max())]['variedade']\n",
        "kmaxesta=kmaxesta.astype(int)\n"
      ],
      "metadata": {
        "id": "4I4sdOp4mhiy"
      },
      "execution_count": null,
      "outputs": []
    },
    {
      "cell_type": "code",
      "source": [
        "kminesta=df1[abs(df1.Erro)==abs(df1.Erro.min())]['estagio']\n",
        "kminesta=kminesta.astype(int)\n",
        "kminvarie=df1[abs(df1.Erro)==abs(df1.Erro.min())]['variedade']"
      ],
      "metadata": {
        "id": "JmJd584-Sr9g"
      },
      "execution_count": null,
      "outputs": []
    },
    {
      "cell_type": "code",
      "source": [
        "#df1.loc[df1['ClusterID'].isin(df2['ClusterID'])]\n",
        "#Both df1['ClusterID'] & df2['ClusterID'] are series. Equating two series within loc method will throw the exception. \n",
        "#Instead, calling isin method will give bool outputs and hence for all True values you will get the corresponding output with loc method.\n",
        "#PESQUISEI PQ TAVA TENTANDo FAZER DF1['ESTAGIO']==KMAXESTA, MAS NÃO PODE PELA EXPLICAÇÃO\n",
        "df1.tchReal.where(df1['estagio'].astype(int).isin(kmaxesta) & df1['variedade'].isin(kmaxvarie)).mean()\n"
      ],
      "metadata": {
        "colab": {
          "base_uri": "https://localhost:8080/"
        },
        "id": "CN9ThWIFi6k-",
        "outputId": "1155bf11-9ea1-4473-d8d9-5fa0f843b5a1"
      },
      "execution_count": null,
      "outputs": [
        {
          "output_type": "execute_result",
          "data": {
            "text/plain": [
              "81.67382022471911"
            ]
          },
          "metadata": {},
          "execution_count": 25
        }
      ]
    },
    {
      "cell_type": "code",
      "source": [
        "df1.tchReal.where(df1['estagio'].astype(int).isin(kminesta) & df1['variedade'].isin(kminvarie)).mean()"
      ],
      "metadata": {
        "colab": {
          "base_uri": "https://localhost:8080/"
        },
        "id": "ZafyHy5VswBY",
        "outputId": "931f03c6-de3e-43f9-e517-f3f09a2a2296"
      },
      "execution_count": null,
      "outputs": [
        {
          "output_type": "execute_result",
          "data": {
            "text/plain": [
              "68.42534117647057"
            ]
          },
          "metadata": {},
          "execution_count": 26
        }
      ]
    },
    {
      "cell_type": "markdown",
      "metadata": {
        "id": "TcvAg3oqtTZX"
      },
      "source": [
        "### 3.C) Faça uma análise crítica dos resultados obtidos com as figuras solicitadas:\n",
        "\n",
        "*  Gráfico 'scatter' com estagio de corte (eixo x) e tchErro (eixo y)  \n",
        "*  Gráfico 'scatter' com variedade (eixo x) e tchErro (eixo y)  \n",
        "*  Gráfico 'scatter' com safra (eixo x) e tchErro (eixo y)  \n",
        "*  Gráfico 'scatter' com ambProd (eixo x) e tchErro (eixo y)  \n",
        "\n"
      ]
    },
    {
      "cell_type": "code",
      "source": [
        "df1['estagio']=df1['estagio'].astype(str)\n",
        "df1.plot.scatter(x='estagio', y='Erro');\n",
        "df1.plot.scatter(x='variedade', y='Erro');\n",
        "df1.plot.scatter(x='safra', y='Erro');\n",
        "df1.plot.scatter(x='ambProd', y='Erro');"
      ],
      "metadata": {
        "id": "epj_NM4ExAff"
      },
      "execution_count": null,
      "outputs": []
    },
    {
      "cell_type": "markdown",
      "metadata": {
        "id": "9TtkvAkOuT67"
      },
      "source": [
        "## 4. Modelagem e Avaliação dos Resultados"
      ]
    },
    {
      "cell_type": "markdown",
      "metadata": {
        "id": "GBOj4bngufhs"
      },
      "source": [
        "### Considere o conjunto de dados: FA084-1s2021-Dataset-UCR.csv COM TODAS AS ALTERAÇÕES REALIZADAS ANTERIORMENTE\n",
        "\n",
        "### INSTRUÇÕES GERAIS:\n",
        "* SEMPRE QUE PERTINENTE, utilizar random_state = 2021  \n",
        "\n",
        "* SEMPRE QUE PERTINENTE, transformar variáveis categóricas em numéricas  \n",
        "OBS: Você deve escolher que método utilizar: One-Hot-Encode ou Label Encode\n",
        "\n",
        "* SEMPRE QUE PERTINENTE, normalizar as variáveis numéricas (você escolhe o tipo de normalização)\n",
        "\n",
        "* SEMPRE OTIMIZAR os hiperparâmetros  \n",
        "OBS: Você deve escolher como otimizar (GridSearchCV ou RandomizedSearchCV) e quais parâmetros otimizar, indicando a faixa (range) escolhida e o valor ótimo obtido.\n",
        "\n",
        "* SEMPRE CRIAR CONJUNTO DE TREINO e TESTE com PROPORÇÃO 70/30 (e ESTRATIFICADO pelo atributo meta, se for um problema de Classificação).\n",
        "\n",
        "* SEMPRE AVALIAR o modelo no CONJUNTO DE TESTE  \n",
        "  * Se Problema de Regressão, avaliar usando as métricas R2, MAE e RMSE  \n",
        "  * Se Problema de Classificação, construir a Matriz de Confusão e apresentar o relatório com Acurácia Geral, Precision, Recall e F1-score."
      ]
    },
    {
      "cell_type": "code",
      "source": [
        "# No One-Hot Enconde temos que por todos os categoricos como numericos (int, float etc)\n",
        "df1.dtypes"
      ],
      "metadata": {
        "id": "R5jwUkmey0DG",
        "colab": {
          "base_uri": "https://localhost:8080/"
        },
        "outputId": "4165cc6f-5084-4791-adbb-40a260b8b548"
      },
      "execution_count": null,
      "outputs": [
        {
          "output_type": "execute_result",
          "data": {
            "text/plain": [
              "safra          int64\n",
              "codFaz         int64\n",
              "bloco          int64\n",
              "talhao         int64\n",
              "estagio       object\n",
              "variedade     object\n",
              "usina         object\n",
              "ambProd       object\n",
              "tchEst       float64\n",
              "tchReal      float64\n",
              "days           int64\n",
              "Erro         float64\n",
              "dtype: object"
            ]
          },
          "metadata": {},
          "execution_count": 28
        }
      ]
    },
    {
      "cell_type": "code",
      "metadata": {
        "id": "UFSkuNwsPuh6"
      },
      "source": [
        "# Criar lista com os atributos que sofrerão a transformação\n",
        "df1.codFaz= df1.codFaz.astype(str)\n",
        "df1.bloco= df1.bloco.astype(str)\n",
        "df1.talhao= df1.talhao.astype(str)\n",
        "df1.safra= df1.safra.astype(str)\n",
        "atrib_ohe = ['estagio','variedade','talhao','codFaz','bloco','safra', 'usina','ambProd']\n",
        "\n",
        "# Criar um DataFrame auxiliar (terá apenas os atributos OHE)\n",
        "dfaux = pd.get_dummies(df1[atrib_ohe])"
      ],
      "execution_count": null,
      "outputs": []
    },
    {
      "cell_type": "code",
      "metadata": {
        "id": "Ak1S3AD3Puh6",
        "colab": {
          "base_uri": "https://localhost:8080/",
          "height": 299
        },
        "outputId": "922d41bd-63af-49d6-ee1d-c467d2e07049"
      },
      "source": [
        "dfaux.head()"
      ],
      "execution_count": null,
      "outputs": [
        {
          "output_type": "execute_result",
          "data": {
            "text/plain": [
              "    estagio_1  estagio_2  estagio_3  estagio_4  estagio_5  variedade_RB855453  \\\n",
              "0           0          0          0          1          0                   1   \n",
              "1           0          0          0          1          0                   0   \n",
              "2           0          0          0          1          0                   0   \n",
              "3           0          0          0          1          0                   0   \n",
              "10          0          0          0          1          0                   1   \n",
              "\n",
              "    variedade_RB867515  variedade_SP813250  talhao_1  talhao_10  ...  \\\n",
              "0                    0                   0         1          0  ...   \n",
              "1                    0                   1         0          0  ...   \n",
              "2                    0                   1         0          0  ...   \n",
              "3                    0                   1         0          0  ...   \n",
              "10                   0                   0         0          1  ...   \n",
              "\n",
              "    safra_21516  usina_COR  ambProd_A  ambProd_ADEF  ambProd_B  ambProd_C  \\\n",
              "0             0          1          0             0          1          0   \n",
              "1             0          1          0             0          1          0   \n",
              "2             0          1          0             0          1          0   \n",
              "3             0          1          0             0          1          0   \n",
              "10            0          1          0             0          1          0   \n",
              "\n",
              "    ambProd_D  ambProd_E  ambProd_F  ambProd_G  \n",
              "0           0          0          0          0  \n",
              "1           0          0          0          0  \n",
              "2           0          0          0          0  \n",
              "3           0          0          0          0  \n",
              "10          0          0          0          0  \n",
              "\n",
              "[5 rows x 205 columns]"
            ],
            "text/html": [
              "\n",
              "  <div id=\"df-c9154946-b860-427c-9387-5fcda0331c87\">\n",
              "    <div class=\"colab-df-container\">\n",
              "      <div>\n",
              "<style scoped>\n",
              "    .dataframe tbody tr th:only-of-type {\n",
              "        vertical-align: middle;\n",
              "    }\n",
              "\n",
              "    .dataframe tbody tr th {\n",
              "        vertical-align: top;\n",
              "    }\n",
              "\n",
              "    .dataframe thead th {\n",
              "        text-align: right;\n",
              "    }\n",
              "</style>\n",
              "<table border=\"1\" class=\"dataframe\">\n",
              "  <thead>\n",
              "    <tr style=\"text-align: right;\">\n",
              "      <th></th>\n",
              "      <th>estagio_1</th>\n",
              "      <th>estagio_2</th>\n",
              "      <th>estagio_3</th>\n",
              "      <th>estagio_4</th>\n",
              "      <th>estagio_5</th>\n",
              "      <th>variedade_RB855453</th>\n",
              "      <th>variedade_RB867515</th>\n",
              "      <th>variedade_SP813250</th>\n",
              "      <th>talhao_1</th>\n",
              "      <th>talhao_10</th>\n",
              "      <th>...</th>\n",
              "      <th>safra_21516</th>\n",
              "      <th>usina_COR</th>\n",
              "      <th>ambProd_A</th>\n",
              "      <th>ambProd_ADEF</th>\n",
              "      <th>ambProd_B</th>\n",
              "      <th>ambProd_C</th>\n",
              "      <th>ambProd_D</th>\n",
              "      <th>ambProd_E</th>\n",
              "      <th>ambProd_F</th>\n",
              "      <th>ambProd_G</th>\n",
              "    </tr>\n",
              "  </thead>\n",
              "  <tbody>\n",
              "    <tr>\n",
              "      <th>0</th>\n",
              "      <td>0</td>\n",
              "      <td>0</td>\n",
              "      <td>0</td>\n",
              "      <td>1</td>\n",
              "      <td>0</td>\n",
              "      <td>1</td>\n",
              "      <td>0</td>\n",
              "      <td>0</td>\n",
              "      <td>1</td>\n",
              "      <td>0</td>\n",
              "      <td>...</td>\n",
              "      <td>0</td>\n",
              "      <td>1</td>\n",
              "      <td>0</td>\n",
              "      <td>0</td>\n",
              "      <td>1</td>\n",
              "      <td>0</td>\n",
              "      <td>0</td>\n",
              "      <td>0</td>\n",
              "      <td>0</td>\n",
              "      <td>0</td>\n",
              "    </tr>\n",
              "    <tr>\n",
              "      <th>1</th>\n",
              "      <td>0</td>\n",
              "      <td>0</td>\n",
              "      <td>0</td>\n",
              "      <td>1</td>\n",
              "      <td>0</td>\n",
              "      <td>0</td>\n",
              "      <td>0</td>\n",
              "      <td>1</td>\n",
              "      <td>0</td>\n",
              "      <td>0</td>\n",
              "      <td>...</td>\n",
              "      <td>0</td>\n",
              "      <td>1</td>\n",
              "      <td>0</td>\n",
              "      <td>0</td>\n",
              "      <td>1</td>\n",
              "      <td>0</td>\n",
              "      <td>0</td>\n",
              "      <td>0</td>\n",
              "      <td>0</td>\n",
              "      <td>0</td>\n",
              "    </tr>\n",
              "    <tr>\n",
              "      <th>2</th>\n",
              "      <td>0</td>\n",
              "      <td>0</td>\n",
              "      <td>0</td>\n",
              "      <td>1</td>\n",
              "      <td>0</td>\n",
              "      <td>0</td>\n",
              "      <td>0</td>\n",
              "      <td>1</td>\n",
              "      <td>0</td>\n",
              "      <td>0</td>\n",
              "      <td>...</td>\n",
              "      <td>0</td>\n",
              "      <td>1</td>\n",
              "      <td>0</td>\n",
              "      <td>0</td>\n",
              "      <td>1</td>\n",
              "      <td>0</td>\n",
              "      <td>0</td>\n",
              "      <td>0</td>\n",
              "      <td>0</td>\n",
              "      <td>0</td>\n",
              "    </tr>\n",
              "    <tr>\n",
              "      <th>3</th>\n",
              "      <td>0</td>\n",
              "      <td>0</td>\n",
              "      <td>0</td>\n",
              "      <td>1</td>\n",
              "      <td>0</td>\n",
              "      <td>0</td>\n",
              "      <td>0</td>\n",
              "      <td>1</td>\n",
              "      <td>0</td>\n",
              "      <td>0</td>\n",
              "      <td>...</td>\n",
              "      <td>0</td>\n",
              "      <td>1</td>\n",
              "      <td>0</td>\n",
              "      <td>0</td>\n",
              "      <td>1</td>\n",
              "      <td>0</td>\n",
              "      <td>0</td>\n",
              "      <td>0</td>\n",
              "      <td>0</td>\n",
              "      <td>0</td>\n",
              "    </tr>\n",
              "    <tr>\n",
              "      <th>10</th>\n",
              "      <td>0</td>\n",
              "      <td>0</td>\n",
              "      <td>0</td>\n",
              "      <td>1</td>\n",
              "      <td>0</td>\n",
              "      <td>1</td>\n",
              "      <td>0</td>\n",
              "      <td>0</td>\n",
              "      <td>0</td>\n",
              "      <td>1</td>\n",
              "      <td>...</td>\n",
              "      <td>0</td>\n",
              "      <td>1</td>\n",
              "      <td>0</td>\n",
              "      <td>0</td>\n",
              "      <td>1</td>\n",
              "      <td>0</td>\n",
              "      <td>0</td>\n",
              "      <td>0</td>\n",
              "      <td>0</td>\n",
              "      <td>0</td>\n",
              "    </tr>\n",
              "  </tbody>\n",
              "</table>\n",
              "<p>5 rows × 205 columns</p>\n",
              "</div>\n",
              "      <button class=\"colab-df-convert\" onclick=\"convertToInteractive('df-c9154946-b860-427c-9387-5fcda0331c87')\"\n",
              "              title=\"Convert this dataframe to an interactive table.\"\n",
              "              style=\"display:none;\">\n",
              "        \n",
              "  <svg xmlns=\"http://www.w3.org/2000/svg\" height=\"24px\"viewBox=\"0 0 24 24\"\n",
              "       width=\"24px\">\n",
              "    <path d=\"M0 0h24v24H0V0z\" fill=\"none\"/>\n",
              "    <path d=\"M18.56 5.44l.94 2.06.94-2.06 2.06-.94-2.06-.94-.94-2.06-.94 2.06-2.06.94zm-11 1L8.5 8.5l.94-2.06 2.06-.94-2.06-.94L8.5 2.5l-.94 2.06-2.06.94zm10 10l.94 2.06.94-2.06 2.06-.94-2.06-.94-.94-2.06-.94 2.06-2.06.94z\"/><path d=\"M17.41 7.96l-1.37-1.37c-.4-.4-.92-.59-1.43-.59-.52 0-1.04.2-1.43.59L10.3 9.45l-7.72 7.72c-.78.78-.78 2.05 0 2.83L4 21.41c.39.39.9.59 1.41.59.51 0 1.02-.2 1.41-.59l7.78-7.78 2.81-2.81c.8-.78.8-2.07 0-2.86zM5.41 20L4 18.59l7.72-7.72 1.47 1.35L5.41 20z\"/>\n",
              "  </svg>\n",
              "      </button>\n",
              "      \n",
              "  <style>\n",
              "    .colab-df-container {\n",
              "      display:flex;\n",
              "      flex-wrap:wrap;\n",
              "      gap: 12px;\n",
              "    }\n",
              "\n",
              "    .colab-df-convert {\n",
              "      background-color: #E8F0FE;\n",
              "      border: none;\n",
              "      border-radius: 50%;\n",
              "      cursor: pointer;\n",
              "      display: none;\n",
              "      fill: #1967D2;\n",
              "      height: 32px;\n",
              "      padding: 0 0 0 0;\n",
              "      width: 32px;\n",
              "    }\n",
              "\n",
              "    .colab-df-convert:hover {\n",
              "      background-color: #E2EBFA;\n",
              "      box-shadow: 0px 1px 2px rgba(60, 64, 67, 0.3), 0px 1px 3px 1px rgba(60, 64, 67, 0.15);\n",
              "      fill: #174EA6;\n",
              "    }\n",
              "\n",
              "    [theme=dark] .colab-df-convert {\n",
              "      background-color: #3B4455;\n",
              "      fill: #D2E3FC;\n",
              "    }\n",
              "\n",
              "    [theme=dark] .colab-df-convert:hover {\n",
              "      background-color: #434B5C;\n",
              "      box-shadow: 0px 1px 3px 1px rgba(0, 0, 0, 0.15);\n",
              "      filter: drop-shadow(0px 1px 2px rgba(0, 0, 0, 0.3));\n",
              "      fill: #FFFFFF;\n",
              "    }\n",
              "  </style>\n",
              "\n",
              "      <script>\n",
              "        const buttonEl =\n",
              "          document.querySelector('#df-c9154946-b860-427c-9387-5fcda0331c87 button.colab-df-convert');\n",
              "        buttonEl.style.display =\n",
              "          google.colab.kernel.accessAllowed ? 'block' : 'none';\n",
              "\n",
              "        async function convertToInteractive(key) {\n",
              "          const element = document.querySelector('#df-c9154946-b860-427c-9387-5fcda0331c87');\n",
              "          const dataTable =\n",
              "            await google.colab.kernel.invokeFunction('convertToInteractive',\n",
              "                                                     [key], {});\n",
              "          if (!dataTable) return;\n",
              "\n",
              "          const docLinkHtml = 'Like what you see? Visit the ' +\n",
              "            '<a target=\"_blank\" href=https://colab.research.google.com/notebooks/data_table.ipynb>data table notebook</a>'\n",
              "            + ' to learn more about interactive tables.';\n",
              "          element.innerHTML = '';\n",
              "          dataTable['output_type'] = 'display_data';\n",
              "          await google.colab.output.renderOutput(dataTable, element);\n",
              "          const docLink = document.createElement('div');\n",
              "          docLink.innerHTML = docLinkHtml;\n",
              "          element.appendChild(docLink);\n",
              "        }\n",
              "      </script>\n",
              "    </div>\n",
              "  </div>\n",
              "  "
            ]
          },
          "metadata": {},
          "execution_count": 30
        }
      ]
    },
    {
      "cell_type": "code",
      "metadata": {
        "id": "HZnIsihbPuh7"
      },
      "source": [
        "# Juntar (concatenar) o DataFrame original (df) e o recem criado (dfaux)\n",
        "df1=pd.concat([df1,dfaux], axis=1)"
      ],
      "execution_count": null,
      "outputs": []
    },
    {
      "cell_type": "code",
      "metadata": {
        "colab": {
          "base_uri": "https://localhost:8080/",
          "height": 299
        },
        "id": "RFk4g1-YPuh7",
        "outputId": "b327f767-8465-46da-f845-9a1d05f56f14"
      },
      "source": [
        "# Verificar primeiras linhas\n",
        "df1.head()"
      ],
      "execution_count": null,
      "outputs": [
        {
          "output_type": "execute_result",
          "data": {
            "text/plain": [
              "    safra  codFaz bloco talhao estagio variedade usina ambProd  tchEst  \\\n",
              "0   21213  430001     1      1       4  RB855453   COR       B    60.0   \n",
              "1   21213  430001     1      2       4  SP813250   COR       B    80.0   \n",
              "2   21213  430001     1      3       4  SP813250   COR       B    80.0   \n",
              "3   21213  430001     1      4       4  SP813250   COR       B    80.0   \n",
              "10  21213  430001     1     10       4  RB855453   COR       B    60.0   \n",
              "\n",
              "    tchReal  ...  safra_21516  usina_COR  ambProd_A  ambProd_ADEF  ambProd_B  \\\n",
              "0     56.30  ...            0          1          0             0          1   \n",
              "1     75.07  ...            0          1          0             0          1   \n",
              "2     74.95  ...            0          1          0             0          1   \n",
              "3     72.89  ...            0          1          0             0          1   \n",
              "10    56.29  ...            0          1          0             0          1   \n",
              "\n",
              "    ambProd_C  ambProd_D  ambProd_E  ambProd_F  ambProd_G  \n",
              "0           0          0          0          0          0  \n",
              "1           0          0          0          0          0  \n",
              "2           0          0          0          0          0  \n",
              "3           0          0          0          0          0  \n",
              "10          0          0          0          0          0  \n",
              "\n",
              "[5 rows x 217 columns]"
            ],
            "text/html": [
              "\n",
              "  <div id=\"df-b045dae9-21b5-4007-8125-72f85d2dd4d9\">\n",
              "    <div class=\"colab-df-container\">\n",
              "      <div>\n",
              "<style scoped>\n",
              "    .dataframe tbody tr th:only-of-type {\n",
              "        vertical-align: middle;\n",
              "    }\n",
              "\n",
              "    .dataframe tbody tr th {\n",
              "        vertical-align: top;\n",
              "    }\n",
              "\n",
              "    .dataframe thead th {\n",
              "        text-align: right;\n",
              "    }\n",
              "</style>\n",
              "<table border=\"1\" class=\"dataframe\">\n",
              "  <thead>\n",
              "    <tr style=\"text-align: right;\">\n",
              "      <th></th>\n",
              "      <th>safra</th>\n",
              "      <th>codFaz</th>\n",
              "      <th>bloco</th>\n",
              "      <th>talhao</th>\n",
              "      <th>estagio</th>\n",
              "      <th>variedade</th>\n",
              "      <th>usina</th>\n",
              "      <th>ambProd</th>\n",
              "      <th>tchEst</th>\n",
              "      <th>tchReal</th>\n",
              "      <th>...</th>\n",
              "      <th>safra_21516</th>\n",
              "      <th>usina_COR</th>\n",
              "      <th>ambProd_A</th>\n",
              "      <th>ambProd_ADEF</th>\n",
              "      <th>ambProd_B</th>\n",
              "      <th>ambProd_C</th>\n",
              "      <th>ambProd_D</th>\n",
              "      <th>ambProd_E</th>\n",
              "      <th>ambProd_F</th>\n",
              "      <th>ambProd_G</th>\n",
              "    </tr>\n",
              "  </thead>\n",
              "  <tbody>\n",
              "    <tr>\n",
              "      <th>0</th>\n",
              "      <td>21213</td>\n",
              "      <td>430001</td>\n",
              "      <td>1</td>\n",
              "      <td>1</td>\n",
              "      <td>4</td>\n",
              "      <td>RB855453</td>\n",
              "      <td>COR</td>\n",
              "      <td>B</td>\n",
              "      <td>60.0</td>\n",
              "      <td>56.30</td>\n",
              "      <td>...</td>\n",
              "      <td>0</td>\n",
              "      <td>1</td>\n",
              "      <td>0</td>\n",
              "      <td>0</td>\n",
              "      <td>1</td>\n",
              "      <td>0</td>\n",
              "      <td>0</td>\n",
              "      <td>0</td>\n",
              "      <td>0</td>\n",
              "      <td>0</td>\n",
              "    </tr>\n",
              "    <tr>\n",
              "      <th>1</th>\n",
              "      <td>21213</td>\n",
              "      <td>430001</td>\n",
              "      <td>1</td>\n",
              "      <td>2</td>\n",
              "      <td>4</td>\n",
              "      <td>SP813250</td>\n",
              "      <td>COR</td>\n",
              "      <td>B</td>\n",
              "      <td>80.0</td>\n",
              "      <td>75.07</td>\n",
              "      <td>...</td>\n",
              "      <td>0</td>\n",
              "      <td>1</td>\n",
              "      <td>0</td>\n",
              "      <td>0</td>\n",
              "      <td>1</td>\n",
              "      <td>0</td>\n",
              "      <td>0</td>\n",
              "      <td>0</td>\n",
              "      <td>0</td>\n",
              "      <td>0</td>\n",
              "    </tr>\n",
              "    <tr>\n",
              "      <th>2</th>\n",
              "      <td>21213</td>\n",
              "      <td>430001</td>\n",
              "      <td>1</td>\n",
              "      <td>3</td>\n",
              "      <td>4</td>\n",
              "      <td>SP813250</td>\n",
              "      <td>COR</td>\n",
              "      <td>B</td>\n",
              "      <td>80.0</td>\n",
              "      <td>74.95</td>\n",
              "      <td>...</td>\n",
              "      <td>0</td>\n",
              "      <td>1</td>\n",
              "      <td>0</td>\n",
              "      <td>0</td>\n",
              "      <td>1</td>\n",
              "      <td>0</td>\n",
              "      <td>0</td>\n",
              "      <td>0</td>\n",
              "      <td>0</td>\n",
              "      <td>0</td>\n",
              "    </tr>\n",
              "    <tr>\n",
              "      <th>3</th>\n",
              "      <td>21213</td>\n",
              "      <td>430001</td>\n",
              "      <td>1</td>\n",
              "      <td>4</td>\n",
              "      <td>4</td>\n",
              "      <td>SP813250</td>\n",
              "      <td>COR</td>\n",
              "      <td>B</td>\n",
              "      <td>80.0</td>\n",
              "      <td>72.89</td>\n",
              "      <td>...</td>\n",
              "      <td>0</td>\n",
              "      <td>1</td>\n",
              "      <td>0</td>\n",
              "      <td>0</td>\n",
              "      <td>1</td>\n",
              "      <td>0</td>\n",
              "      <td>0</td>\n",
              "      <td>0</td>\n",
              "      <td>0</td>\n",
              "      <td>0</td>\n",
              "    </tr>\n",
              "    <tr>\n",
              "      <th>10</th>\n",
              "      <td>21213</td>\n",
              "      <td>430001</td>\n",
              "      <td>1</td>\n",
              "      <td>10</td>\n",
              "      <td>4</td>\n",
              "      <td>RB855453</td>\n",
              "      <td>COR</td>\n",
              "      <td>B</td>\n",
              "      <td>60.0</td>\n",
              "      <td>56.29</td>\n",
              "      <td>...</td>\n",
              "      <td>0</td>\n",
              "      <td>1</td>\n",
              "      <td>0</td>\n",
              "      <td>0</td>\n",
              "      <td>1</td>\n",
              "      <td>0</td>\n",
              "      <td>0</td>\n",
              "      <td>0</td>\n",
              "      <td>0</td>\n",
              "      <td>0</td>\n",
              "    </tr>\n",
              "  </tbody>\n",
              "</table>\n",
              "<p>5 rows × 217 columns</p>\n",
              "</div>\n",
              "      <button class=\"colab-df-convert\" onclick=\"convertToInteractive('df-b045dae9-21b5-4007-8125-72f85d2dd4d9')\"\n",
              "              title=\"Convert this dataframe to an interactive table.\"\n",
              "              style=\"display:none;\">\n",
              "        \n",
              "  <svg xmlns=\"http://www.w3.org/2000/svg\" height=\"24px\"viewBox=\"0 0 24 24\"\n",
              "       width=\"24px\">\n",
              "    <path d=\"M0 0h24v24H0V0z\" fill=\"none\"/>\n",
              "    <path d=\"M18.56 5.44l.94 2.06.94-2.06 2.06-.94-2.06-.94-.94-2.06-.94 2.06-2.06.94zm-11 1L8.5 8.5l.94-2.06 2.06-.94-2.06-.94L8.5 2.5l-.94 2.06-2.06.94zm10 10l.94 2.06.94-2.06 2.06-.94-2.06-.94-.94-2.06-.94 2.06-2.06.94z\"/><path d=\"M17.41 7.96l-1.37-1.37c-.4-.4-.92-.59-1.43-.59-.52 0-1.04.2-1.43.59L10.3 9.45l-7.72 7.72c-.78.78-.78 2.05 0 2.83L4 21.41c.39.39.9.59 1.41.59.51 0 1.02-.2 1.41-.59l7.78-7.78 2.81-2.81c.8-.78.8-2.07 0-2.86zM5.41 20L4 18.59l7.72-7.72 1.47 1.35L5.41 20z\"/>\n",
              "  </svg>\n",
              "      </button>\n",
              "      \n",
              "  <style>\n",
              "    .colab-df-container {\n",
              "      display:flex;\n",
              "      flex-wrap:wrap;\n",
              "      gap: 12px;\n",
              "    }\n",
              "\n",
              "    .colab-df-convert {\n",
              "      background-color: #E8F0FE;\n",
              "      border: none;\n",
              "      border-radius: 50%;\n",
              "      cursor: pointer;\n",
              "      display: none;\n",
              "      fill: #1967D2;\n",
              "      height: 32px;\n",
              "      padding: 0 0 0 0;\n",
              "      width: 32px;\n",
              "    }\n",
              "\n",
              "    .colab-df-convert:hover {\n",
              "      background-color: #E2EBFA;\n",
              "      box-shadow: 0px 1px 2px rgba(60, 64, 67, 0.3), 0px 1px 3px 1px rgba(60, 64, 67, 0.15);\n",
              "      fill: #174EA6;\n",
              "    }\n",
              "\n",
              "    [theme=dark] .colab-df-convert {\n",
              "      background-color: #3B4455;\n",
              "      fill: #D2E3FC;\n",
              "    }\n",
              "\n",
              "    [theme=dark] .colab-df-convert:hover {\n",
              "      background-color: #434B5C;\n",
              "      box-shadow: 0px 1px 3px 1px rgba(0, 0, 0, 0.15);\n",
              "      filter: drop-shadow(0px 1px 2px rgba(0, 0, 0, 0.3));\n",
              "      fill: #FFFFFF;\n",
              "    }\n",
              "  </style>\n",
              "\n",
              "      <script>\n",
              "        const buttonEl =\n",
              "          document.querySelector('#df-b045dae9-21b5-4007-8125-72f85d2dd4d9 button.colab-df-convert');\n",
              "        buttonEl.style.display =\n",
              "          google.colab.kernel.accessAllowed ? 'block' : 'none';\n",
              "\n",
              "        async function convertToInteractive(key) {\n",
              "          const element = document.querySelector('#df-b045dae9-21b5-4007-8125-72f85d2dd4d9');\n",
              "          const dataTable =\n",
              "            await google.colab.kernel.invokeFunction('convertToInteractive',\n",
              "                                                     [key], {});\n",
              "          if (!dataTable) return;\n",
              "\n",
              "          const docLinkHtml = 'Like what you see? Visit the ' +\n",
              "            '<a target=\"_blank\" href=https://colab.research.google.com/notebooks/data_table.ipynb>data table notebook</a>'\n",
              "            + ' to learn more about interactive tables.';\n",
              "          element.innerHTML = '';\n",
              "          dataTable['output_type'] = 'display_data';\n",
              "          await google.colab.output.renderOutput(dataTable, element);\n",
              "          const docLink = document.createElement('div');\n",
              "          docLink.innerHTML = docLinkHtml;\n",
              "          element.appendChild(docLink);\n",
              "        }\n",
              "      </script>\n",
              "    </div>\n",
              "  </div>\n",
              "  "
            ]
          },
          "metadata": {},
          "execution_count": 32
        }
      ]
    },
    {
      "cell_type": "code",
      "metadata": {
        "id": "SxUzitQmPuh7"
      },
      "source": [
        "# Considerando que NÃO HÁ MAIS NECESSIDADE dos atributos 'variedade' e 'solo', vamos exclui-los\n",
        "df1=df1.drop(['estagio','variedade','talhao','codFaz','bloco','safra', 'usina','ambProd','Erro'],axis=1)"
      ],
      "execution_count": null,
      "outputs": []
    },
    {
      "cell_type": "code",
      "source": [
        "df1"
      ],
      "metadata": {
        "colab": {
          "base_uri": "https://localhost:8080/",
          "height": 488
        },
        "id": "8XOG9BJ5Wj0Y",
        "outputId": "7609d920-9da6-4635-f2eb-419c15b18371"
      },
      "execution_count": null,
      "outputs": [
        {
          "output_type": "execute_result",
          "data": {
            "text/plain": [
              "      tchEst  tchReal  days  estagio_1  estagio_2  estagio_3  estagio_4  \\\n",
              "0      60.00    56.30   412          0          0          0          1   \n",
              "1      80.00    75.07   412          0          0          0          1   \n",
              "2      80.00    74.95   407          0          0          0          1   \n",
              "3      80.00    72.89   402          0          0          0          1   \n",
              "10     60.00    56.29   412          0          0          0          1   \n",
              "...      ...      ...   ...        ...        ...        ...        ...   \n",
              "4060   57.72    53.85   389          0          1          0          0   \n",
              "4061   57.72    53.84   389          0          0          0          1   \n",
              "4062   57.72    53.73   389          0          0          0          1   \n",
              "4063   57.72    52.96   389          0          0          0          1   \n",
              "4064   57.72    53.83   389          0          0          1          0   \n",
              "\n",
              "      estagio_5  variedade_RB855453  variedade_RB867515  ...  safra_21516  \\\n",
              "0             0                   1                   0  ...            0   \n",
              "1             0                   0                   0  ...            0   \n",
              "2             0                   0                   0  ...            0   \n",
              "3             0                   0                   0  ...            0   \n",
              "10            0                   1                   0  ...            0   \n",
              "...         ...                 ...                 ...  ...          ...   \n",
              "4060          0                   0                   1  ...            1   \n",
              "4061          0                   0                   1  ...            1   \n",
              "4062          0                   0                   1  ...            1   \n",
              "4063          0                   0                   1  ...            1   \n",
              "4064          0                   0                   1  ...            1   \n",
              "\n",
              "      usina_COR  ambProd_A  ambProd_ADEF  ambProd_B  ambProd_C  ambProd_D  \\\n",
              "0             1          0             0          1          0          0   \n",
              "1             1          0             0          1          0          0   \n",
              "2             1          0             0          1          0          0   \n",
              "3             1          0             0          1          0          0   \n",
              "10            1          0             0          1          0          0   \n",
              "...         ...        ...           ...        ...        ...        ...   \n",
              "4060          1          0             0          0          0          0   \n",
              "4061          1          0             0          0          0          0   \n",
              "4062          1          0             0          0          0          0   \n",
              "4063          1          0             0          0          0          0   \n",
              "4064          1          0             0          0          0          0   \n",
              "\n",
              "      ambProd_E  ambProd_F  ambProd_G  \n",
              "0             0          0          0  \n",
              "1             0          0          0  \n",
              "2             0          0          0  \n",
              "3             0          0          0  \n",
              "10            0          0          0  \n",
              "...         ...        ...        ...  \n",
              "4060          0          0          1  \n",
              "4061          0          0          1  \n",
              "4062          0          0          1  \n",
              "4063          0          0          1  \n",
              "4064          0          0          1  \n",
              "\n",
              "[2918 rows x 208 columns]"
            ],
            "text/html": [
              "\n",
              "  <div id=\"df-c8f198f0-1d85-4111-b3f9-03757018dc66\">\n",
              "    <div class=\"colab-df-container\">\n",
              "      <div>\n",
              "<style scoped>\n",
              "    .dataframe tbody tr th:only-of-type {\n",
              "        vertical-align: middle;\n",
              "    }\n",
              "\n",
              "    .dataframe tbody tr th {\n",
              "        vertical-align: top;\n",
              "    }\n",
              "\n",
              "    .dataframe thead th {\n",
              "        text-align: right;\n",
              "    }\n",
              "</style>\n",
              "<table border=\"1\" class=\"dataframe\">\n",
              "  <thead>\n",
              "    <tr style=\"text-align: right;\">\n",
              "      <th></th>\n",
              "      <th>tchEst</th>\n",
              "      <th>tchReal</th>\n",
              "      <th>days</th>\n",
              "      <th>estagio_1</th>\n",
              "      <th>estagio_2</th>\n",
              "      <th>estagio_3</th>\n",
              "      <th>estagio_4</th>\n",
              "      <th>estagio_5</th>\n",
              "      <th>variedade_RB855453</th>\n",
              "      <th>variedade_RB867515</th>\n",
              "      <th>...</th>\n",
              "      <th>safra_21516</th>\n",
              "      <th>usina_COR</th>\n",
              "      <th>ambProd_A</th>\n",
              "      <th>ambProd_ADEF</th>\n",
              "      <th>ambProd_B</th>\n",
              "      <th>ambProd_C</th>\n",
              "      <th>ambProd_D</th>\n",
              "      <th>ambProd_E</th>\n",
              "      <th>ambProd_F</th>\n",
              "      <th>ambProd_G</th>\n",
              "    </tr>\n",
              "  </thead>\n",
              "  <tbody>\n",
              "    <tr>\n",
              "      <th>0</th>\n",
              "      <td>60.00</td>\n",
              "      <td>56.30</td>\n",
              "      <td>412</td>\n",
              "      <td>0</td>\n",
              "      <td>0</td>\n",
              "      <td>0</td>\n",
              "      <td>1</td>\n",
              "      <td>0</td>\n",
              "      <td>1</td>\n",
              "      <td>0</td>\n",
              "      <td>...</td>\n",
              "      <td>0</td>\n",
              "      <td>1</td>\n",
              "      <td>0</td>\n",
              "      <td>0</td>\n",
              "      <td>1</td>\n",
              "      <td>0</td>\n",
              "      <td>0</td>\n",
              "      <td>0</td>\n",
              "      <td>0</td>\n",
              "      <td>0</td>\n",
              "    </tr>\n",
              "    <tr>\n",
              "      <th>1</th>\n",
              "      <td>80.00</td>\n",
              "      <td>75.07</td>\n",
              "      <td>412</td>\n",
              "      <td>0</td>\n",
              "      <td>0</td>\n",
              "      <td>0</td>\n",
              "      <td>1</td>\n",
              "      <td>0</td>\n",
              "      <td>0</td>\n",
              "      <td>0</td>\n",
              "      <td>...</td>\n",
              "      <td>0</td>\n",
              "      <td>1</td>\n",
              "      <td>0</td>\n",
              "      <td>0</td>\n",
              "      <td>1</td>\n",
              "      <td>0</td>\n",
              "      <td>0</td>\n",
              "      <td>0</td>\n",
              "      <td>0</td>\n",
              "      <td>0</td>\n",
              "    </tr>\n",
              "    <tr>\n",
              "      <th>2</th>\n",
              "      <td>80.00</td>\n",
              "      <td>74.95</td>\n",
              "      <td>407</td>\n",
              "      <td>0</td>\n",
              "      <td>0</td>\n",
              "      <td>0</td>\n",
              "      <td>1</td>\n",
              "      <td>0</td>\n",
              "      <td>0</td>\n",
              "      <td>0</td>\n",
              "      <td>...</td>\n",
              "      <td>0</td>\n",
              "      <td>1</td>\n",
              "      <td>0</td>\n",
              "      <td>0</td>\n",
              "      <td>1</td>\n",
              "      <td>0</td>\n",
              "      <td>0</td>\n",
              "      <td>0</td>\n",
              "      <td>0</td>\n",
              "      <td>0</td>\n",
              "    </tr>\n",
              "    <tr>\n",
              "      <th>3</th>\n",
              "      <td>80.00</td>\n",
              "      <td>72.89</td>\n",
              "      <td>402</td>\n",
              "      <td>0</td>\n",
              "      <td>0</td>\n",
              "      <td>0</td>\n",
              "      <td>1</td>\n",
              "      <td>0</td>\n",
              "      <td>0</td>\n",
              "      <td>0</td>\n",
              "      <td>...</td>\n",
              "      <td>0</td>\n",
              "      <td>1</td>\n",
              "      <td>0</td>\n",
              "      <td>0</td>\n",
              "      <td>1</td>\n",
              "      <td>0</td>\n",
              "      <td>0</td>\n",
              "      <td>0</td>\n",
              "      <td>0</td>\n",
              "      <td>0</td>\n",
              "    </tr>\n",
              "    <tr>\n",
              "      <th>10</th>\n",
              "      <td>60.00</td>\n",
              "      <td>56.29</td>\n",
              "      <td>412</td>\n",
              "      <td>0</td>\n",
              "      <td>0</td>\n",
              "      <td>0</td>\n",
              "      <td>1</td>\n",
              "      <td>0</td>\n",
              "      <td>1</td>\n",
              "      <td>0</td>\n",
              "      <td>...</td>\n",
              "      <td>0</td>\n",
              "      <td>1</td>\n",
              "      <td>0</td>\n",
              "      <td>0</td>\n",
              "      <td>1</td>\n",
              "      <td>0</td>\n",
              "      <td>0</td>\n",
              "      <td>0</td>\n",
              "      <td>0</td>\n",
              "      <td>0</td>\n",
              "    </tr>\n",
              "    <tr>\n",
              "      <th>...</th>\n",
              "      <td>...</td>\n",
              "      <td>...</td>\n",
              "      <td>...</td>\n",
              "      <td>...</td>\n",
              "      <td>...</td>\n",
              "      <td>...</td>\n",
              "      <td>...</td>\n",
              "      <td>...</td>\n",
              "      <td>...</td>\n",
              "      <td>...</td>\n",
              "      <td>...</td>\n",
              "      <td>...</td>\n",
              "      <td>...</td>\n",
              "      <td>...</td>\n",
              "      <td>...</td>\n",
              "      <td>...</td>\n",
              "      <td>...</td>\n",
              "      <td>...</td>\n",
              "      <td>...</td>\n",
              "      <td>...</td>\n",
              "      <td>...</td>\n",
              "    </tr>\n",
              "    <tr>\n",
              "      <th>4060</th>\n",
              "      <td>57.72</td>\n",
              "      <td>53.85</td>\n",
              "      <td>389</td>\n",
              "      <td>0</td>\n",
              "      <td>1</td>\n",
              "      <td>0</td>\n",
              "      <td>0</td>\n",
              "      <td>0</td>\n",
              "      <td>0</td>\n",
              "      <td>1</td>\n",
              "      <td>...</td>\n",
              "      <td>1</td>\n",
              "      <td>1</td>\n",
              "      <td>0</td>\n",
              "      <td>0</td>\n",
              "      <td>0</td>\n",
              "      <td>0</td>\n",
              "      <td>0</td>\n",
              "      <td>0</td>\n",
              "      <td>0</td>\n",
              "      <td>1</td>\n",
              "    </tr>\n",
              "    <tr>\n",
              "      <th>4061</th>\n",
              "      <td>57.72</td>\n",
              "      <td>53.84</td>\n",
              "      <td>389</td>\n",
              "      <td>0</td>\n",
              "      <td>0</td>\n",
              "      <td>0</td>\n",
              "      <td>1</td>\n",
              "      <td>0</td>\n",
              "      <td>0</td>\n",
              "      <td>1</td>\n",
              "      <td>...</td>\n",
              "      <td>1</td>\n",
              "      <td>1</td>\n",
              "      <td>0</td>\n",
              "      <td>0</td>\n",
              "      <td>0</td>\n",
              "      <td>0</td>\n",
              "      <td>0</td>\n",
              "      <td>0</td>\n",
              "      <td>0</td>\n",
              "      <td>1</td>\n",
              "    </tr>\n",
              "    <tr>\n",
              "      <th>4062</th>\n",
              "      <td>57.72</td>\n",
              "      <td>53.73</td>\n",
              "      <td>389</td>\n",
              "      <td>0</td>\n",
              "      <td>0</td>\n",
              "      <td>0</td>\n",
              "      <td>1</td>\n",
              "      <td>0</td>\n",
              "      <td>0</td>\n",
              "      <td>1</td>\n",
              "      <td>...</td>\n",
              "      <td>1</td>\n",
              "      <td>1</td>\n",
              "      <td>0</td>\n",
              "      <td>0</td>\n",
              "      <td>0</td>\n",
              "      <td>0</td>\n",
              "      <td>0</td>\n",
              "      <td>0</td>\n",
              "      <td>0</td>\n",
              "      <td>1</td>\n",
              "    </tr>\n",
              "    <tr>\n",
              "      <th>4063</th>\n",
              "      <td>57.72</td>\n",
              "      <td>52.96</td>\n",
              "      <td>389</td>\n",
              "      <td>0</td>\n",
              "      <td>0</td>\n",
              "      <td>0</td>\n",
              "      <td>1</td>\n",
              "      <td>0</td>\n",
              "      <td>0</td>\n",
              "      <td>1</td>\n",
              "      <td>...</td>\n",
              "      <td>1</td>\n",
              "      <td>1</td>\n",
              "      <td>0</td>\n",
              "      <td>0</td>\n",
              "      <td>0</td>\n",
              "      <td>0</td>\n",
              "      <td>0</td>\n",
              "      <td>0</td>\n",
              "      <td>0</td>\n",
              "      <td>1</td>\n",
              "    </tr>\n",
              "    <tr>\n",
              "      <th>4064</th>\n",
              "      <td>57.72</td>\n",
              "      <td>53.83</td>\n",
              "      <td>389</td>\n",
              "      <td>0</td>\n",
              "      <td>0</td>\n",
              "      <td>1</td>\n",
              "      <td>0</td>\n",
              "      <td>0</td>\n",
              "      <td>0</td>\n",
              "      <td>1</td>\n",
              "      <td>...</td>\n",
              "      <td>1</td>\n",
              "      <td>1</td>\n",
              "      <td>0</td>\n",
              "      <td>0</td>\n",
              "      <td>0</td>\n",
              "      <td>0</td>\n",
              "      <td>0</td>\n",
              "      <td>0</td>\n",
              "      <td>0</td>\n",
              "      <td>1</td>\n",
              "    </tr>\n",
              "  </tbody>\n",
              "</table>\n",
              "<p>2918 rows × 208 columns</p>\n",
              "</div>\n",
              "      <button class=\"colab-df-convert\" onclick=\"convertToInteractive('df-c8f198f0-1d85-4111-b3f9-03757018dc66')\"\n",
              "              title=\"Convert this dataframe to an interactive table.\"\n",
              "              style=\"display:none;\">\n",
              "        \n",
              "  <svg xmlns=\"http://www.w3.org/2000/svg\" height=\"24px\"viewBox=\"0 0 24 24\"\n",
              "       width=\"24px\">\n",
              "    <path d=\"M0 0h24v24H0V0z\" fill=\"none\"/>\n",
              "    <path d=\"M18.56 5.44l.94 2.06.94-2.06 2.06-.94-2.06-.94-.94-2.06-.94 2.06-2.06.94zm-11 1L8.5 8.5l.94-2.06 2.06-.94-2.06-.94L8.5 2.5l-.94 2.06-2.06.94zm10 10l.94 2.06.94-2.06 2.06-.94-2.06-.94-.94-2.06-.94 2.06-2.06.94z\"/><path d=\"M17.41 7.96l-1.37-1.37c-.4-.4-.92-.59-1.43-.59-.52 0-1.04.2-1.43.59L10.3 9.45l-7.72 7.72c-.78.78-.78 2.05 0 2.83L4 21.41c.39.39.9.59 1.41.59.51 0 1.02-.2 1.41-.59l7.78-7.78 2.81-2.81c.8-.78.8-2.07 0-2.86zM5.41 20L4 18.59l7.72-7.72 1.47 1.35L5.41 20z\"/>\n",
              "  </svg>\n",
              "      </button>\n",
              "      \n",
              "  <style>\n",
              "    .colab-df-container {\n",
              "      display:flex;\n",
              "      flex-wrap:wrap;\n",
              "      gap: 12px;\n",
              "    }\n",
              "\n",
              "    .colab-df-convert {\n",
              "      background-color: #E8F0FE;\n",
              "      border: none;\n",
              "      border-radius: 50%;\n",
              "      cursor: pointer;\n",
              "      display: none;\n",
              "      fill: #1967D2;\n",
              "      height: 32px;\n",
              "      padding: 0 0 0 0;\n",
              "      width: 32px;\n",
              "    }\n",
              "\n",
              "    .colab-df-convert:hover {\n",
              "      background-color: #E2EBFA;\n",
              "      box-shadow: 0px 1px 2px rgba(60, 64, 67, 0.3), 0px 1px 3px 1px rgba(60, 64, 67, 0.15);\n",
              "      fill: #174EA6;\n",
              "    }\n",
              "\n",
              "    [theme=dark] .colab-df-convert {\n",
              "      background-color: #3B4455;\n",
              "      fill: #D2E3FC;\n",
              "    }\n",
              "\n",
              "    [theme=dark] .colab-df-convert:hover {\n",
              "      background-color: #434B5C;\n",
              "      box-shadow: 0px 1px 3px 1px rgba(0, 0, 0, 0.15);\n",
              "      filter: drop-shadow(0px 1px 2px rgba(0, 0, 0, 0.3));\n",
              "      fill: #FFFFFF;\n",
              "    }\n",
              "  </style>\n",
              "\n",
              "      <script>\n",
              "        const buttonEl =\n",
              "          document.querySelector('#df-c8f198f0-1d85-4111-b3f9-03757018dc66 button.colab-df-convert');\n",
              "        buttonEl.style.display =\n",
              "          google.colab.kernel.accessAllowed ? 'block' : 'none';\n",
              "\n",
              "        async function convertToInteractive(key) {\n",
              "          const element = document.querySelector('#df-c8f198f0-1d85-4111-b3f9-03757018dc66');\n",
              "          const dataTable =\n",
              "            await google.colab.kernel.invokeFunction('convertToInteractive',\n",
              "                                                     [key], {});\n",
              "          if (!dataTable) return;\n",
              "\n",
              "          const docLinkHtml = 'Like what you see? Visit the ' +\n",
              "            '<a target=\"_blank\" href=https://colab.research.google.com/notebooks/data_table.ipynb>data table notebook</a>'\n",
              "            + ' to learn more about interactive tables.';\n",
              "          element.innerHTML = '';\n",
              "          dataTable['output_type'] = 'display_data';\n",
              "          await google.colab.output.renderOutput(dataTable, element);\n",
              "          const docLink = document.createElement('div');\n",
              "          docLink.innerHTML = docLinkHtml;\n",
              "          element.appendChild(docLink);\n",
              "        }\n",
              "      </script>\n",
              "    </div>\n",
              "  </div>\n",
              "  "
            ]
          },
          "metadata": {},
          "execution_count": 34
        }
      ]
    },
    {
      "cell_type": "markdown",
      "metadata": {
        "id": "HAthAHHCv0RD"
      },
      "source": [
        "### 4.A) Usando KNN, construir um Modelo de Regressão para predizer a Produtividade Real"
      ]
    },
    {
      "cell_type": "code",
      "source": [
        "y=df1.tchReal\n",
        "X=df1.drop(['tchReal'], axis=1)"
      ],
      "metadata": {
        "id": "GN3dVsdvhZai"
      },
      "execution_count": null,
      "outputs": []
    },
    {
      "cell_type": "code",
      "source": [
        "X.head()"
      ],
      "metadata": {
        "colab": {
          "base_uri": "https://localhost:8080/",
          "height": 299
        },
        "id": "4axQBrtLinSx",
        "outputId": "446ed677-29b5-4c6c-b2dd-9296b315a718"
      },
      "execution_count": null,
      "outputs": [
        {
          "output_type": "execute_result",
          "data": {
            "text/plain": [
              "    tchEst  days  estagio_1  estagio_2  estagio_3  estagio_4  estagio_5  \\\n",
              "0     60.0   412          0          0          0          1          0   \n",
              "1     80.0   412          0          0          0          1          0   \n",
              "2     80.0   407          0          0          0          1          0   \n",
              "3     80.0   402          0          0          0          1          0   \n",
              "10    60.0   412          0          0          0          1          0   \n",
              "\n",
              "    variedade_RB855453  variedade_RB867515  variedade_SP813250  ...  \\\n",
              "0                    1                   0                   0  ...   \n",
              "1                    0                   0                   1  ...   \n",
              "2                    0                   0                   1  ...   \n",
              "3                    0                   0                   1  ...   \n",
              "10                   1                   0                   0  ...   \n",
              "\n",
              "    safra_21516  usina_COR  ambProd_A  ambProd_ADEF  ambProd_B  ambProd_C  \\\n",
              "0             0          1          0             0          1          0   \n",
              "1             0          1          0             0          1          0   \n",
              "2             0          1          0             0          1          0   \n",
              "3             0          1          0             0          1          0   \n",
              "10            0          1          0             0          1          0   \n",
              "\n",
              "    ambProd_D  ambProd_E  ambProd_F  ambProd_G  \n",
              "0           0          0          0          0  \n",
              "1           0          0          0          0  \n",
              "2           0          0          0          0  \n",
              "3           0          0          0          0  \n",
              "10          0          0          0          0  \n",
              "\n",
              "[5 rows x 207 columns]"
            ],
            "text/html": [
              "\n",
              "  <div id=\"df-74bfe639-04e2-4561-b8cc-ffd1b9ab4158\">\n",
              "    <div class=\"colab-df-container\">\n",
              "      <div>\n",
              "<style scoped>\n",
              "    .dataframe tbody tr th:only-of-type {\n",
              "        vertical-align: middle;\n",
              "    }\n",
              "\n",
              "    .dataframe tbody tr th {\n",
              "        vertical-align: top;\n",
              "    }\n",
              "\n",
              "    .dataframe thead th {\n",
              "        text-align: right;\n",
              "    }\n",
              "</style>\n",
              "<table border=\"1\" class=\"dataframe\">\n",
              "  <thead>\n",
              "    <tr style=\"text-align: right;\">\n",
              "      <th></th>\n",
              "      <th>tchEst</th>\n",
              "      <th>days</th>\n",
              "      <th>estagio_1</th>\n",
              "      <th>estagio_2</th>\n",
              "      <th>estagio_3</th>\n",
              "      <th>estagio_4</th>\n",
              "      <th>estagio_5</th>\n",
              "      <th>variedade_RB855453</th>\n",
              "      <th>variedade_RB867515</th>\n",
              "      <th>variedade_SP813250</th>\n",
              "      <th>...</th>\n",
              "      <th>safra_21516</th>\n",
              "      <th>usina_COR</th>\n",
              "      <th>ambProd_A</th>\n",
              "      <th>ambProd_ADEF</th>\n",
              "      <th>ambProd_B</th>\n",
              "      <th>ambProd_C</th>\n",
              "      <th>ambProd_D</th>\n",
              "      <th>ambProd_E</th>\n",
              "      <th>ambProd_F</th>\n",
              "      <th>ambProd_G</th>\n",
              "    </tr>\n",
              "  </thead>\n",
              "  <tbody>\n",
              "    <tr>\n",
              "      <th>0</th>\n",
              "      <td>60.0</td>\n",
              "      <td>412</td>\n",
              "      <td>0</td>\n",
              "      <td>0</td>\n",
              "      <td>0</td>\n",
              "      <td>1</td>\n",
              "      <td>0</td>\n",
              "      <td>1</td>\n",
              "      <td>0</td>\n",
              "      <td>0</td>\n",
              "      <td>...</td>\n",
              "      <td>0</td>\n",
              "      <td>1</td>\n",
              "      <td>0</td>\n",
              "      <td>0</td>\n",
              "      <td>1</td>\n",
              "      <td>0</td>\n",
              "      <td>0</td>\n",
              "      <td>0</td>\n",
              "      <td>0</td>\n",
              "      <td>0</td>\n",
              "    </tr>\n",
              "    <tr>\n",
              "      <th>1</th>\n",
              "      <td>80.0</td>\n",
              "      <td>412</td>\n",
              "      <td>0</td>\n",
              "      <td>0</td>\n",
              "      <td>0</td>\n",
              "      <td>1</td>\n",
              "      <td>0</td>\n",
              "      <td>0</td>\n",
              "      <td>0</td>\n",
              "      <td>1</td>\n",
              "      <td>...</td>\n",
              "      <td>0</td>\n",
              "      <td>1</td>\n",
              "      <td>0</td>\n",
              "      <td>0</td>\n",
              "      <td>1</td>\n",
              "      <td>0</td>\n",
              "      <td>0</td>\n",
              "      <td>0</td>\n",
              "      <td>0</td>\n",
              "      <td>0</td>\n",
              "    </tr>\n",
              "    <tr>\n",
              "      <th>2</th>\n",
              "      <td>80.0</td>\n",
              "      <td>407</td>\n",
              "      <td>0</td>\n",
              "      <td>0</td>\n",
              "      <td>0</td>\n",
              "      <td>1</td>\n",
              "      <td>0</td>\n",
              "      <td>0</td>\n",
              "      <td>0</td>\n",
              "      <td>1</td>\n",
              "      <td>...</td>\n",
              "      <td>0</td>\n",
              "      <td>1</td>\n",
              "      <td>0</td>\n",
              "      <td>0</td>\n",
              "      <td>1</td>\n",
              "      <td>0</td>\n",
              "      <td>0</td>\n",
              "      <td>0</td>\n",
              "      <td>0</td>\n",
              "      <td>0</td>\n",
              "    </tr>\n",
              "    <tr>\n",
              "      <th>3</th>\n",
              "      <td>80.0</td>\n",
              "      <td>402</td>\n",
              "      <td>0</td>\n",
              "      <td>0</td>\n",
              "      <td>0</td>\n",
              "      <td>1</td>\n",
              "      <td>0</td>\n",
              "      <td>0</td>\n",
              "      <td>0</td>\n",
              "      <td>1</td>\n",
              "      <td>...</td>\n",
              "      <td>0</td>\n",
              "      <td>1</td>\n",
              "      <td>0</td>\n",
              "      <td>0</td>\n",
              "      <td>1</td>\n",
              "      <td>0</td>\n",
              "      <td>0</td>\n",
              "      <td>0</td>\n",
              "      <td>0</td>\n",
              "      <td>0</td>\n",
              "    </tr>\n",
              "    <tr>\n",
              "      <th>10</th>\n",
              "      <td>60.0</td>\n",
              "      <td>412</td>\n",
              "      <td>0</td>\n",
              "      <td>0</td>\n",
              "      <td>0</td>\n",
              "      <td>1</td>\n",
              "      <td>0</td>\n",
              "      <td>1</td>\n",
              "      <td>0</td>\n",
              "      <td>0</td>\n",
              "      <td>...</td>\n",
              "      <td>0</td>\n",
              "      <td>1</td>\n",
              "      <td>0</td>\n",
              "      <td>0</td>\n",
              "      <td>1</td>\n",
              "      <td>0</td>\n",
              "      <td>0</td>\n",
              "      <td>0</td>\n",
              "      <td>0</td>\n",
              "      <td>0</td>\n",
              "    </tr>\n",
              "  </tbody>\n",
              "</table>\n",
              "<p>5 rows × 207 columns</p>\n",
              "</div>\n",
              "      <button class=\"colab-df-convert\" onclick=\"convertToInteractive('df-74bfe639-04e2-4561-b8cc-ffd1b9ab4158')\"\n",
              "              title=\"Convert this dataframe to an interactive table.\"\n",
              "              style=\"display:none;\">\n",
              "        \n",
              "  <svg xmlns=\"http://www.w3.org/2000/svg\" height=\"24px\"viewBox=\"0 0 24 24\"\n",
              "       width=\"24px\">\n",
              "    <path d=\"M0 0h24v24H0V0z\" fill=\"none\"/>\n",
              "    <path d=\"M18.56 5.44l.94 2.06.94-2.06 2.06-.94-2.06-.94-.94-2.06-.94 2.06-2.06.94zm-11 1L8.5 8.5l.94-2.06 2.06-.94-2.06-.94L8.5 2.5l-.94 2.06-2.06.94zm10 10l.94 2.06.94-2.06 2.06-.94-2.06-.94-.94-2.06-.94 2.06-2.06.94z\"/><path d=\"M17.41 7.96l-1.37-1.37c-.4-.4-.92-.59-1.43-.59-.52 0-1.04.2-1.43.59L10.3 9.45l-7.72 7.72c-.78.78-.78 2.05 0 2.83L4 21.41c.39.39.9.59 1.41.59.51 0 1.02-.2 1.41-.59l7.78-7.78 2.81-2.81c.8-.78.8-2.07 0-2.86zM5.41 20L4 18.59l7.72-7.72 1.47 1.35L5.41 20z\"/>\n",
              "  </svg>\n",
              "      </button>\n",
              "      \n",
              "  <style>\n",
              "    .colab-df-container {\n",
              "      display:flex;\n",
              "      flex-wrap:wrap;\n",
              "      gap: 12px;\n",
              "    }\n",
              "\n",
              "    .colab-df-convert {\n",
              "      background-color: #E8F0FE;\n",
              "      border: none;\n",
              "      border-radius: 50%;\n",
              "      cursor: pointer;\n",
              "      display: none;\n",
              "      fill: #1967D2;\n",
              "      height: 32px;\n",
              "      padding: 0 0 0 0;\n",
              "      width: 32px;\n",
              "    }\n",
              "\n",
              "    .colab-df-convert:hover {\n",
              "      background-color: #E2EBFA;\n",
              "      box-shadow: 0px 1px 2px rgba(60, 64, 67, 0.3), 0px 1px 3px 1px rgba(60, 64, 67, 0.15);\n",
              "      fill: #174EA6;\n",
              "    }\n",
              "\n",
              "    [theme=dark] .colab-df-convert {\n",
              "      background-color: #3B4455;\n",
              "      fill: #D2E3FC;\n",
              "    }\n",
              "\n",
              "    [theme=dark] .colab-df-convert:hover {\n",
              "      background-color: #434B5C;\n",
              "      box-shadow: 0px 1px 3px 1px rgba(0, 0, 0, 0.15);\n",
              "      filter: drop-shadow(0px 1px 2px rgba(0, 0, 0, 0.3));\n",
              "      fill: #FFFFFF;\n",
              "    }\n",
              "  </style>\n",
              "\n",
              "      <script>\n",
              "        const buttonEl =\n",
              "          document.querySelector('#df-74bfe639-04e2-4561-b8cc-ffd1b9ab4158 button.colab-df-convert');\n",
              "        buttonEl.style.display =\n",
              "          google.colab.kernel.accessAllowed ? 'block' : 'none';\n",
              "\n",
              "        async function convertToInteractive(key) {\n",
              "          const element = document.querySelector('#df-74bfe639-04e2-4561-b8cc-ffd1b9ab4158');\n",
              "          const dataTable =\n",
              "            await google.colab.kernel.invokeFunction('convertToInteractive',\n",
              "                                                     [key], {});\n",
              "          if (!dataTable) return;\n",
              "\n",
              "          const docLinkHtml = 'Like what you see? Visit the ' +\n",
              "            '<a target=\"_blank\" href=https://colab.research.google.com/notebooks/data_table.ipynb>data table notebook</a>'\n",
              "            + ' to learn more about interactive tables.';\n",
              "          element.innerHTML = '';\n",
              "          dataTable['output_type'] = 'display_data';\n",
              "          await google.colab.output.renderOutput(dataTable, element);\n",
              "          const docLink = document.createElement('div');\n",
              "          docLink.innerHTML = docLinkHtml;\n",
              "          element.appendChild(docLink);\n",
              "        }\n",
              "      </script>\n",
              "    </div>\n",
              "  </div>\n",
              "  "
            ]
          },
          "metadata": {},
          "execution_count": 36
        }
      ]
    },
    {
      "cell_type": "code",
      "source": [
        "y.head()"
      ],
      "metadata": {
        "colab": {
          "base_uri": "https://localhost:8080/"
        },
        "id": "GKuIG3PzirLN",
        "outputId": "746614e5-e970-4a3f-d119-899f9585db5d"
      },
      "execution_count": null,
      "outputs": [
        {
          "output_type": "execute_result",
          "data": {
            "text/plain": [
              "0     56.30\n",
              "1     75.07\n",
              "2     74.95\n",
              "3     72.89\n",
              "10    56.29\n",
              "Name: tchReal, dtype: float64"
            ]
          },
          "metadata": {},
          "execution_count": 37
        }
      ]
    },
    {
      "cell_type": "code",
      "source": [
        "X_train, X_test, y_train, y_test = train_test_split(X,y.iloc[:,1], test_size=0.3, random_state=2021, stratify=y.iloc[:,1])"
      ],
      "metadata": {
        "id": "CYKI7NLCixeV",
        "colab": {
          "base_uri": "https://localhost:8080/",
          "height": 329
        },
        "outputId": "f90d1fc6-3703-41c2-9dbe-cc12dbf8eef4"
      },
      "execution_count": null,
      "outputs": [
        {
          "output_type": "error",
          "ename": "IndexingError",
          "evalue": "ignored",
          "traceback": [
            "\u001b[0;31m---------------------------------------------------------------------------\u001b[0m",
            "\u001b[0;31mIndexingError\u001b[0m                             Traceback (most recent call last)",
            "\u001b[0;32m<ipython-input-42-cb64368b9f32>\u001b[0m in \u001b[0;36m<module>\u001b[0;34m()\u001b[0m\n\u001b[0;32m----> 1\u001b[0;31m \u001b[0mX_train\u001b[0m\u001b[0;34m,\u001b[0m \u001b[0mX_test\u001b[0m\u001b[0;34m,\u001b[0m \u001b[0my_train\u001b[0m\u001b[0;34m,\u001b[0m \u001b[0my_test\u001b[0m \u001b[0;34m=\u001b[0m \u001b[0mtrain_test_split\u001b[0m\u001b[0;34m(\u001b[0m\u001b[0mX\u001b[0m\u001b[0;34m,\u001b[0m\u001b[0my\u001b[0m\u001b[0;34m.\u001b[0m\u001b[0miloc\u001b[0m\u001b[0;34m[\u001b[0m\u001b[0;34m:\u001b[0m\u001b[0;34m,\u001b[0m\u001b[0;36m1\u001b[0m\u001b[0;34m]\u001b[0m\u001b[0;34m,\u001b[0m \u001b[0mtest_size\u001b[0m\u001b[0;34m=\u001b[0m\u001b[0;36m0.3\u001b[0m\u001b[0;34m,\u001b[0m \u001b[0mrandom_state\u001b[0m\u001b[0;34m=\u001b[0m\u001b[0;36m2021\u001b[0m\u001b[0;34m,\u001b[0m \u001b[0mstratify\u001b[0m\u001b[0;34m=\u001b[0m\u001b[0my\u001b[0m\u001b[0;34m.\u001b[0m\u001b[0miloc\u001b[0m\u001b[0;34m[\u001b[0m\u001b[0;34m:\u001b[0m\u001b[0;34m,\u001b[0m\u001b[0;36m1\u001b[0m\u001b[0;34m]\u001b[0m\u001b[0;34m)\u001b[0m\u001b[0;34m\u001b[0m\u001b[0;34m\u001b[0m\u001b[0m\n\u001b[0m",
            "\u001b[0;32m/usr/local/lib/python3.7/dist-packages/pandas/core/indexing.py\u001b[0m in \u001b[0;36m__getitem__\u001b[0;34m(self, key)\u001b[0m\n\u001b[1;32m    923\u001b[0m                 \u001b[0;32mwith\u001b[0m \u001b[0msuppress\u001b[0m\u001b[0;34m(\u001b[0m\u001b[0mKeyError\u001b[0m\u001b[0;34m,\u001b[0m \u001b[0mIndexError\u001b[0m\u001b[0;34m)\u001b[0m\u001b[0;34m:\u001b[0m\u001b[0;34m\u001b[0m\u001b[0;34m\u001b[0m\u001b[0m\n\u001b[1;32m    924\u001b[0m                     \u001b[0;32mreturn\u001b[0m \u001b[0mself\u001b[0m\u001b[0;34m.\u001b[0m\u001b[0mobj\u001b[0m\u001b[0;34m.\u001b[0m\u001b[0m_get_value\u001b[0m\u001b[0;34m(\u001b[0m\u001b[0;34m*\u001b[0m\u001b[0mkey\u001b[0m\u001b[0;34m,\u001b[0m \u001b[0mtakeable\u001b[0m\u001b[0;34m=\u001b[0m\u001b[0mself\u001b[0m\u001b[0;34m.\u001b[0m\u001b[0m_takeable\u001b[0m\u001b[0;34m)\u001b[0m\u001b[0;34m\u001b[0m\u001b[0;34m\u001b[0m\u001b[0m\n\u001b[0;32m--> 925\u001b[0;31m             \u001b[0;32mreturn\u001b[0m \u001b[0mself\u001b[0m\u001b[0;34m.\u001b[0m\u001b[0m_getitem_tuple\u001b[0m\u001b[0;34m(\u001b[0m\u001b[0mkey\u001b[0m\u001b[0;34m)\u001b[0m\u001b[0;34m\u001b[0m\u001b[0;34m\u001b[0m\u001b[0m\n\u001b[0m\u001b[1;32m    926\u001b[0m         \u001b[0;32melse\u001b[0m\u001b[0;34m:\u001b[0m\u001b[0;34m\u001b[0m\u001b[0;34m\u001b[0m\u001b[0m\n\u001b[1;32m    927\u001b[0m             \u001b[0;31m# we by definition only have the 0th axis\u001b[0m\u001b[0;34m\u001b[0m\u001b[0;34m\u001b[0m\u001b[0;34m\u001b[0m\u001b[0m\n",
            "\u001b[0;32m/usr/local/lib/python3.7/dist-packages/pandas/core/indexing.py\u001b[0m in \u001b[0;36m_getitem_tuple\u001b[0;34m(self, tup)\u001b[0m\n\u001b[1;32m   1504\u001b[0m     \u001b[0;32mdef\u001b[0m \u001b[0m_getitem_tuple\u001b[0m\u001b[0;34m(\u001b[0m\u001b[0mself\u001b[0m\u001b[0;34m,\u001b[0m \u001b[0mtup\u001b[0m\u001b[0;34m:\u001b[0m \u001b[0mtuple\u001b[0m\u001b[0;34m)\u001b[0m\u001b[0;34m:\u001b[0m\u001b[0;34m\u001b[0m\u001b[0;34m\u001b[0m\u001b[0m\n\u001b[1;32m   1505\u001b[0m \u001b[0;34m\u001b[0m\u001b[0m\n\u001b[0;32m-> 1506\u001b[0;31m         \u001b[0mself\u001b[0m\u001b[0;34m.\u001b[0m\u001b[0m_has_valid_tuple\u001b[0m\u001b[0;34m(\u001b[0m\u001b[0mtup\u001b[0m\u001b[0;34m)\u001b[0m\u001b[0;34m\u001b[0m\u001b[0;34m\u001b[0m\u001b[0m\n\u001b[0m\u001b[1;32m   1507\u001b[0m         \u001b[0;32mwith\u001b[0m \u001b[0msuppress\u001b[0m\u001b[0;34m(\u001b[0m\u001b[0mIndexingError\u001b[0m\u001b[0;34m)\u001b[0m\u001b[0;34m:\u001b[0m\u001b[0;34m\u001b[0m\u001b[0;34m\u001b[0m\u001b[0m\n\u001b[1;32m   1508\u001b[0m             \u001b[0;32mreturn\u001b[0m \u001b[0mself\u001b[0m\u001b[0;34m.\u001b[0m\u001b[0m_getitem_lowerdim\u001b[0m\u001b[0;34m(\u001b[0m\u001b[0mtup\u001b[0m\u001b[0;34m)\u001b[0m\u001b[0;34m\u001b[0m\u001b[0;34m\u001b[0m\u001b[0m\n",
            "\u001b[0;32m/usr/local/lib/python3.7/dist-packages/pandas/core/indexing.py\u001b[0m in \u001b[0;36m_has_valid_tuple\u001b[0;34m(self, key)\u001b[0m\n\u001b[1;32m    749\u001b[0m         \u001b[0mCheck\u001b[0m \u001b[0mthe\u001b[0m \u001b[0mkey\u001b[0m \u001b[0;32mfor\u001b[0m \u001b[0mvalid\u001b[0m \u001b[0mkeys\u001b[0m \u001b[0macross\u001b[0m \u001b[0mmy\u001b[0m \u001b[0mindexer\u001b[0m\u001b[0;34m.\u001b[0m\u001b[0;34m\u001b[0m\u001b[0;34m\u001b[0m\u001b[0m\n\u001b[1;32m    750\u001b[0m         \"\"\"\n\u001b[0;32m--> 751\u001b[0;31m         \u001b[0mself\u001b[0m\u001b[0;34m.\u001b[0m\u001b[0m_validate_key_length\u001b[0m\u001b[0;34m(\u001b[0m\u001b[0mkey\u001b[0m\u001b[0;34m)\u001b[0m\u001b[0;34m\u001b[0m\u001b[0;34m\u001b[0m\u001b[0m\n\u001b[0m\u001b[1;32m    752\u001b[0m         \u001b[0;32mfor\u001b[0m \u001b[0mi\u001b[0m\u001b[0;34m,\u001b[0m \u001b[0mk\u001b[0m \u001b[0;32min\u001b[0m \u001b[0menumerate\u001b[0m\u001b[0;34m(\u001b[0m\u001b[0mkey\u001b[0m\u001b[0;34m)\u001b[0m\u001b[0;34m:\u001b[0m\u001b[0;34m\u001b[0m\u001b[0;34m\u001b[0m\u001b[0m\n\u001b[1;32m    753\u001b[0m             \u001b[0;32mtry\u001b[0m\u001b[0;34m:\u001b[0m\u001b[0;34m\u001b[0m\u001b[0;34m\u001b[0m\u001b[0m\n",
            "\u001b[0;32m/usr/local/lib/python3.7/dist-packages/pandas/core/indexing.py\u001b[0m in \u001b[0;36m_validate_key_length\u001b[0;34m(self, key)\u001b[0m\n\u001b[1;32m    790\u001b[0m     \u001b[0;32mdef\u001b[0m \u001b[0m_validate_key_length\u001b[0m\u001b[0;34m(\u001b[0m\u001b[0mself\u001b[0m\u001b[0;34m,\u001b[0m \u001b[0mkey\u001b[0m\u001b[0;34m:\u001b[0m \u001b[0mSequence\u001b[0m\u001b[0;34m[\u001b[0m\u001b[0mAny\u001b[0m\u001b[0;34m]\u001b[0m\u001b[0;34m)\u001b[0m \u001b[0;34m->\u001b[0m \u001b[0;32mNone\u001b[0m\u001b[0;34m:\u001b[0m\u001b[0;34m\u001b[0m\u001b[0;34m\u001b[0m\u001b[0m\n\u001b[1;32m    791\u001b[0m         \u001b[0;32mif\u001b[0m \u001b[0mlen\u001b[0m\u001b[0;34m(\u001b[0m\u001b[0mkey\u001b[0m\u001b[0;34m)\u001b[0m \u001b[0;34m>\u001b[0m \u001b[0mself\u001b[0m\u001b[0;34m.\u001b[0m\u001b[0mndim\u001b[0m\u001b[0;34m:\u001b[0m\u001b[0;34m\u001b[0m\u001b[0;34m\u001b[0m\u001b[0m\n\u001b[0;32m--> 792\u001b[0;31m             \u001b[0;32mraise\u001b[0m \u001b[0mIndexingError\u001b[0m\u001b[0;34m(\u001b[0m\u001b[0;34m\"Too many indexers\"\u001b[0m\u001b[0;34m)\u001b[0m\u001b[0;34m\u001b[0m\u001b[0;34m\u001b[0m\u001b[0m\n\u001b[0m\u001b[1;32m    793\u001b[0m \u001b[0;34m\u001b[0m\u001b[0m\n\u001b[1;32m    794\u001b[0m     \u001b[0;32mdef\u001b[0m \u001b[0m_getitem_tuple_same_dim\u001b[0m\u001b[0;34m(\u001b[0m\u001b[0mself\u001b[0m\u001b[0;34m,\u001b[0m \u001b[0mtup\u001b[0m\u001b[0;34m:\u001b[0m \u001b[0mtuple\u001b[0m\u001b[0;34m)\u001b[0m\u001b[0;34m:\u001b[0m\u001b[0;34m\u001b[0m\u001b[0;34m\u001b[0m\u001b[0m\n",
            "\u001b[0;31mIndexingError\u001b[0m: Too many indexers"
          ]
        }
      ]
    },
    {
      "cell_type": "code",
      "source": [
        "X_test.head()"
      ],
      "metadata": {
        "id": "hiKI8a4pjfO9",
        "colab": {
          "base_uri": "https://localhost:8080/",
          "height": 166
        },
        "outputId": "7d1320e0-c2a0-4c62-ca49-16f52f540a96"
      },
      "execution_count": null,
      "outputs": [
        {
          "output_type": "error",
          "ename": "NameError",
          "evalue": "ignored",
          "traceback": [
            "\u001b[0;31m---------------------------------------------------------------------------\u001b[0m",
            "\u001b[0;31mNameError\u001b[0m                                 Traceback (most recent call last)",
            "\u001b[0;32m<ipython-input-39-c8ff277ea5c9>\u001b[0m in \u001b[0;36m<module>\u001b[0;34m()\u001b[0m\n\u001b[0;32m----> 1\u001b[0;31m \u001b[0mX_test\u001b[0m\u001b[0;34m.\u001b[0m\u001b[0mhead\u001b[0m\u001b[0;34m(\u001b[0m\u001b[0;34m)\u001b[0m\u001b[0;34m\u001b[0m\u001b[0;34m\u001b[0m\u001b[0m\n\u001b[0m",
            "\u001b[0;31mNameError\u001b[0m: name 'X_test' is not defined"
          ]
        }
      ]
    },
    {
      "cell_type": "code",
      "source": [
        "y_test.head()"
      ],
      "metadata": {
        "id": "24Zbf_8Ejhxi",
        "colab": {
          "base_uri": "https://localhost:8080/"
        },
        "outputId": "0da43210-0485-4f3a-84bf-52e4e34fe624"
      },
      "execution_count": null,
      "outputs": [
        {
          "output_type": "execute_result",
          "data": {
            "text/plain": [
              "414     40.15\n",
              "3583    45.50\n",
              "1840    79.70\n",
              "3086    73.13\n",
              "3400    69.71\n",
              "Name: tchReal, dtype: float64"
            ]
          },
          "metadata": {},
          "execution_count": 40
        }
      ]
    },
    {
      "cell_type": "code",
      "source": [
        "scaler=StandardScaler().fit(X_train)\n",
        "X_train_norma=pd.DataFrame(scaler.transform(X_train), columns=X_train.columns)\n",
        "X_test_norm=pd.DataFrame(scaler.transform(X_test), columns=X_test.columns)"
      ],
      "metadata": {
        "id": "UdaYJIvLGMYT"
      },
      "execution_count": null,
      "outputs": []
    },
    {
      "cell_type": "code",
      "source": [
        "faixak={'n_neighbors':np.arange(5,7)}\n",
        "knn_gsearch=GridSearchCV(KNeighborsRegressor(),\n",
        "                         param_grid=faixak,\n",
        "                         cv=5)\n",
        "knn_gsearch.fit(X_train_norma,y_train)\n",
        "optk=knn_gsearch.best_params_\n",
        "print(optk)"
      ],
      "metadata": {
        "colab": {
          "base_uri": "https://localhost:8080/"
        },
        "id": "qvkKbbQcJPJU",
        "outputId": "dfecbefe-529b-4784-8513-7e2f6b0b6066"
      },
      "execution_count": null,
      "outputs": [
        {
          "output_type": "stream",
          "name": "stdout",
          "text": [
            "{'n_neighbors': 6}\n"
          ]
        }
      ]
    },
    {
      "cell_type": "code",
      "source": [
        "knn= KNeighborsRegressor(n_neighbors=optk['n_neighbors']).fit(X_train_norma, y_train)\n",
        "y_pred=knn.predict(X_test_norm)\n",
        "r2_knn=r2_score(y_test,y_pred)\n",
        "mae_knn=mean_absolute_error(y_test,y_pred)\n",
        "rmse_knn=np.sqrt(mean_squared_error(y_test,y_pred))\n",
        "\n",
        "print('R2= ',r2_knn)\n",
        "print('MAE= ',mae_knn)\n",
        "print('RMSE= ',rmse_knn)\n"
      ],
      "metadata": {
        "colab": {
          "base_uri": "https://localhost:8080/"
        },
        "id": "0Q_l5o3MJje4",
        "outputId": "4793cb60-c3eb-4293-bc2f-07cecf4aafda"
      },
      "execution_count": null,
      "outputs": [
        {
          "output_type": "stream",
          "name": "stdout",
          "text": [
            "R2=  0.4676752088937296\n",
            "MAE=  14.038879375951295\n",
            "RMSE=  20.747403234128804\n"
          ]
        }
      ]
    },
    {
      "cell_type": "markdown",
      "metadata": {
        "id": "NdwysyjXwLoi"
      },
      "source": [
        "### 4.B) \n",
        "\n",
        "* Criar y_dummy utilizando o 'Dummy Regressor' do Scikit-learn (média)  \n",
        "* Calcular R2, MAE e RMSE para os erros    \n",
        "  * Do modelo (y_pred)\n",
        "  * Da estimativa (tchEst)\n",
        "  * Do 'Dummy' (y_dummy)\n",
        "\n",
        "* Fazer uma ANÁLISE CRÍTICA dos resultados"
      ]
    },
    {
      "cell_type": "code",
      "source": [
        "from sklearn.dummy import DummyRegressor\n",
        "dummy=DummyRegressor(strategy='mean').fit(X_train, y_train)\n",
        "y_pred_dummy=dummy.predict(X_test_norm)\n",
        "r2_dummy=r2_score(y_test, y_pred_dummy)\n",
        "mae_dummy=mean_absolute_error(y_test, y_pred_dummy)\n",
        "rmse_dummy= np.sqrt(mean_squared_error(y_test, y_pred_dummy))\n",
        "print('R2_dummy = ',r2_dummy)\n",
        "print('MAE_dummy = ', mae_dummy)\n",
        "print('RMSE_dummy = ', rmse_dummy)"
      ],
      "metadata": {
        "colab": {
          "base_uri": "https://localhost:8080/"
        },
        "id": "A40fnJtLPQpO",
        "outputId": "bf87a756-aee1-48ca-dea4-60517d60f7ab"
      },
      "execution_count": null,
      "outputs": [
        {
          "output_type": "stream",
          "name": "stdout",
          "text": [
            "R2_dummy =  -0.0013953784627156463\n",
            "MAE_dummy =  22.351629691993253\n",
            "RMSE_dummy =  28.456284417239818\n"
          ]
        }
      ]
    },
    {
      "cell_type": "code",
      "source": [
        "%%time\n",
        "\n",
        "# Passo 1: Definir a faixa do grid em que o hiperparâmetro vai variar e o número desejado de iterações\n",
        "faixa_K = {\"n_neighbors\":np.arange(1,40)}\n",
        "niter = 15\n",
        "\n",
        "# Passo 2: Definir o objeto com a técnica e os parâmetros da otimização\n",
        "knn_rsearch = RandomizedSearchCV(KNeighborsRegressor(),\n",
        "                                 param_distributions = faixa_K,\n",
        "                                 n_iter = niter,\n",
        "                                 cv = 5,\n",
        "                                 random_state = 2021)\n",
        "\n",
        "# Passo 3: Otimizar o objeto definido anteriormente no conjunto de dados\n",
        "knn_rsearch.fit(X_train_norma, y_train)\n",
        "\n",
        "# Passo 4: Apresentar o melhor K (K quando se obteve o melhor resultado)\n",
        "opt_K = knn_rsearch.best_params_\n",
        "print(opt_K)"
      ],
      "metadata": {
        "colab": {
          "base_uri": "https://localhost:8080/"
        },
        "id": "cXyO6XYHQWOe",
        "outputId": "15c356a6-7b13-4057-d769-bcd53bc72d34"
      },
      "execution_count": null,
      "outputs": [
        {
          "output_type": "stream",
          "name": "stdout",
          "text": [
            "{'n_neighbors': 5}\n",
            "CPU times: user 3.98 s, sys: 2.1 s, total: 6.08 s\n",
            "Wall time: 3.17 s\n"
          ]
        }
      ]
    },
    {
      "cell_type": "code",
      "source": [
        "# R2, MAE e RMSE para os erros\n",
        "\n",
        "# Do modelo (y_pred)\n",
        "print('R2 = ',r2_knn)\n",
        "print('MAE = ', mae_knn)\n",
        "print('RMSE = ', rmse_knn)\n",
        "print(\"\\n\")\n",
        "\n",
        "# Da estimativa (tchEst)\n",
        "r2_est = r2_score(X_test.tchEst, y_pred)\n",
        "mae_est = mean_absolute_error(X_test.tchEst, y_pred)\n",
        "rmse_est = np.sqrt(mean_squared_error(X_test.tchEst, y_pred))\n",
        "\n",
        "print('R2_est = ',r2_est)\n",
        "print('MAE_est = ', mae_est)\n",
        "print('RMSE_est = ', rmse_est)\n",
        "print(\"\\n\")\n",
        "\n",
        "# Do 'Dummy' (y_dummy)\n",
        "print('R2_dummy = ',r2_dummy)\n",
        "print('MAE_dummy = ', mae_dummy)\n",
        "print('RMSE_dummy = ', rmse_dummy)"
      ],
      "metadata": {
        "colab": {
          "base_uri": "https://localhost:8080/"
        },
        "id": "I7QfPdJKRoMe",
        "outputId": "964d9f27-8867-4060-e112-b53b9abef3dc"
      },
      "execution_count": null,
      "outputs": [
        {
          "output_type": "stream",
          "name": "stdout",
          "text": [
            "R2 =  0.4676752088937296\n",
            "MAE =  14.038879375951295\n",
            "RMSE =  20.747403234128804\n",
            "\n",
            "\n",
            "R2_est =  0.3933520630655014\n",
            "MAE_est =  13.177456240487064\n",
            "RMSE_est =  17.66351624836748\n",
            "\n",
            "\n",
            "R2_dummy =  -0.0013953784627156463\n",
            "MAE_dummy =  22.351629691993253\n",
            "RMSE_dummy =  28.456284417239818\n"
          ]
        }
      ]
    },
    {
      "cell_type": "markdown",
      "metadata": {
        "id": "wsJKDjdUxqoU"
      },
      "source": [
        "### 4.C) \n",
        "\n",
        "*  Construir os seguintes gráficos ‘scatter’, tendo sempre tchReal no eixo x:  \n",
        "  * tchReal x y_pred  \n",
        "  * tchReal x tchEst\n",
        "  * tchReal x y_dummy\n",
        "\n",
        "* Fazer uma ANÁLISE CRÍTICA dos resultados"
      ]
    },
    {
      "cell_type": "code",
      "source": [
        "y_test = pd.DataFrame(y_test)\n",
        "y_test.reset_index(inplace=True)\n",
        "y_test= y_test.drop(columns={\"index\",\"level_0\"},axis=1)\n",
        "y_test.head()\n"
      ],
      "metadata": {
        "colab": {
          "base_uri": "https://localhost:8080/",
          "height": 206
        },
        "id": "Oy0FA1URF9sR",
        "outputId": "b45176fc-e5ae-4033-c3de-82a61a38ceb8"
      },
      "execution_count": null,
      "outputs": [
        {
          "output_type": "execute_result",
          "data": {
            "text/plain": [
              "   tchReal\n",
              "0    40.15\n",
              "1    45.50\n",
              "2    79.70\n",
              "3    73.13\n",
              "4    69.71"
            ],
            "text/html": [
              "\n",
              "  <div id=\"df-fdf75860-b55d-4ca8-93ba-541b9eb28606\">\n",
              "    <div class=\"colab-df-container\">\n",
              "      <div>\n",
              "<style scoped>\n",
              "    .dataframe tbody tr th:only-of-type {\n",
              "        vertical-align: middle;\n",
              "    }\n",
              "\n",
              "    .dataframe tbody tr th {\n",
              "        vertical-align: top;\n",
              "    }\n",
              "\n",
              "    .dataframe thead th {\n",
              "        text-align: right;\n",
              "    }\n",
              "</style>\n",
              "<table border=\"1\" class=\"dataframe\">\n",
              "  <thead>\n",
              "    <tr style=\"text-align: right;\">\n",
              "      <th></th>\n",
              "      <th>tchReal</th>\n",
              "    </tr>\n",
              "  </thead>\n",
              "  <tbody>\n",
              "    <tr>\n",
              "      <th>0</th>\n",
              "      <td>40.15</td>\n",
              "    </tr>\n",
              "    <tr>\n",
              "      <th>1</th>\n",
              "      <td>45.50</td>\n",
              "    </tr>\n",
              "    <tr>\n",
              "      <th>2</th>\n",
              "      <td>79.70</td>\n",
              "    </tr>\n",
              "    <tr>\n",
              "      <th>3</th>\n",
              "      <td>73.13</td>\n",
              "    </tr>\n",
              "    <tr>\n",
              "      <th>4</th>\n",
              "      <td>69.71</td>\n",
              "    </tr>\n",
              "  </tbody>\n",
              "</table>\n",
              "</div>\n",
              "      <button class=\"colab-df-convert\" onclick=\"convertToInteractive('df-fdf75860-b55d-4ca8-93ba-541b9eb28606')\"\n",
              "              title=\"Convert this dataframe to an interactive table.\"\n",
              "              style=\"display:none;\">\n",
              "        \n",
              "  <svg xmlns=\"http://www.w3.org/2000/svg\" height=\"24px\"viewBox=\"0 0 24 24\"\n",
              "       width=\"24px\">\n",
              "    <path d=\"M0 0h24v24H0V0z\" fill=\"none\"/>\n",
              "    <path d=\"M18.56 5.44l.94 2.06.94-2.06 2.06-.94-2.06-.94-.94-2.06-.94 2.06-2.06.94zm-11 1L8.5 8.5l.94-2.06 2.06-.94-2.06-.94L8.5 2.5l-.94 2.06-2.06.94zm10 10l.94 2.06.94-2.06 2.06-.94-2.06-.94-.94-2.06-.94 2.06-2.06.94z\"/><path d=\"M17.41 7.96l-1.37-1.37c-.4-.4-.92-.59-1.43-.59-.52 0-1.04.2-1.43.59L10.3 9.45l-7.72 7.72c-.78.78-.78 2.05 0 2.83L4 21.41c.39.39.9.59 1.41.59.51 0 1.02-.2 1.41-.59l7.78-7.78 2.81-2.81c.8-.78.8-2.07 0-2.86zM5.41 20L4 18.59l7.72-7.72 1.47 1.35L5.41 20z\"/>\n",
              "  </svg>\n",
              "      </button>\n",
              "      \n",
              "  <style>\n",
              "    .colab-df-container {\n",
              "      display:flex;\n",
              "      flex-wrap:wrap;\n",
              "      gap: 12px;\n",
              "    }\n",
              "\n",
              "    .colab-df-convert {\n",
              "      background-color: #E8F0FE;\n",
              "      border: none;\n",
              "      border-radius: 50%;\n",
              "      cursor: pointer;\n",
              "      display: none;\n",
              "      fill: #1967D2;\n",
              "      height: 32px;\n",
              "      padding: 0 0 0 0;\n",
              "      width: 32px;\n",
              "    }\n",
              "\n",
              "    .colab-df-convert:hover {\n",
              "      background-color: #E2EBFA;\n",
              "      box-shadow: 0px 1px 2px rgba(60, 64, 67, 0.3), 0px 1px 3px 1px rgba(60, 64, 67, 0.15);\n",
              "      fill: #174EA6;\n",
              "    }\n",
              "\n",
              "    [theme=dark] .colab-df-convert {\n",
              "      background-color: #3B4455;\n",
              "      fill: #D2E3FC;\n",
              "    }\n",
              "\n",
              "    [theme=dark] .colab-df-convert:hover {\n",
              "      background-color: #434B5C;\n",
              "      box-shadow: 0px 1px 3px 1px rgba(0, 0, 0, 0.15);\n",
              "      filter: drop-shadow(0px 1px 2px rgba(0, 0, 0, 0.3));\n",
              "      fill: #FFFFFF;\n",
              "    }\n",
              "  </style>\n",
              "\n",
              "      <script>\n",
              "        const buttonEl =\n",
              "          document.querySelector('#df-fdf75860-b55d-4ca8-93ba-541b9eb28606 button.colab-df-convert');\n",
              "        buttonEl.style.display =\n",
              "          google.colab.kernel.accessAllowed ? 'block' : 'none';\n",
              "\n",
              "        async function convertToInteractive(key) {\n",
              "          const element = document.querySelector('#df-fdf75860-b55d-4ca8-93ba-541b9eb28606');\n",
              "          const dataTable =\n",
              "            await google.colab.kernel.invokeFunction('convertToInteractive',\n",
              "                                                     [key], {});\n",
              "          if (!dataTable) return;\n",
              "\n",
              "          const docLinkHtml = 'Like what you see? Visit the ' +\n",
              "            '<a target=\"_blank\" href=https://colab.research.google.com/notebooks/data_table.ipynb>data table notebook</a>'\n",
              "            + ' to learn more about interactive tables.';\n",
              "          element.innerHTML = '';\n",
              "          dataTable['output_type'] = 'display_data';\n",
              "          await google.colab.output.renderOutput(dataTable, element);\n",
              "          const docLink = document.createElement('div');\n",
              "          docLink.innerHTML = docLinkHtml;\n",
              "          element.appendChild(docLink);\n",
              "        }\n",
              "      </script>\n",
              "    </div>\n",
              "  </div>\n",
              "  "
            ]
          },
          "metadata": {},
          "execution_count": 51
        }
      ]
    },
    {
      "cell_type": "code",
      "source": [
        "y_pred= pd.DataFrame(y_pred)\n",
        "y_pred.rename(columns={0:'y_pred'}, inplace= True)\n",
        "y_pred"
      ],
      "metadata": {
        "colab": {
          "base_uri": "https://localhost:8080/",
          "height": 424
        },
        "id": "331uMbAZYSDF",
        "outputId": "dce734c7-05f4-49b2-d06c-cb35e5e3a317"
      },
      "execution_count": null,
      "outputs": [
        {
          "output_type": "execute_result",
          "data": {
            "text/plain": [
              "         y_pred\n",
              "0     60.755000\n",
              "1     52.418333\n",
              "2    103.303333\n",
              "3     93.251667\n",
              "4     67.060000\n",
              "..          ...\n",
              "871   41.960000\n",
              "872   94.671667\n",
              "873   73.100000\n",
              "874   23.115000\n",
              "875   91.288333\n",
              "\n",
              "[876 rows x 1 columns]"
            ],
            "text/html": [
              "\n",
              "  <div id=\"df-b76ac805-2828-458d-b272-5bfa25c47e7e\">\n",
              "    <div class=\"colab-df-container\">\n",
              "      <div>\n",
              "<style scoped>\n",
              "    .dataframe tbody tr th:only-of-type {\n",
              "        vertical-align: middle;\n",
              "    }\n",
              "\n",
              "    .dataframe tbody tr th {\n",
              "        vertical-align: top;\n",
              "    }\n",
              "\n",
              "    .dataframe thead th {\n",
              "        text-align: right;\n",
              "    }\n",
              "</style>\n",
              "<table border=\"1\" class=\"dataframe\">\n",
              "  <thead>\n",
              "    <tr style=\"text-align: right;\">\n",
              "      <th></th>\n",
              "      <th>y_pred</th>\n",
              "    </tr>\n",
              "  </thead>\n",
              "  <tbody>\n",
              "    <tr>\n",
              "      <th>0</th>\n",
              "      <td>60.755000</td>\n",
              "    </tr>\n",
              "    <tr>\n",
              "      <th>1</th>\n",
              "      <td>52.418333</td>\n",
              "    </tr>\n",
              "    <tr>\n",
              "      <th>2</th>\n",
              "      <td>103.303333</td>\n",
              "    </tr>\n",
              "    <tr>\n",
              "      <th>3</th>\n",
              "      <td>93.251667</td>\n",
              "    </tr>\n",
              "    <tr>\n",
              "      <th>4</th>\n",
              "      <td>67.060000</td>\n",
              "    </tr>\n",
              "    <tr>\n",
              "      <th>...</th>\n",
              "      <td>...</td>\n",
              "    </tr>\n",
              "    <tr>\n",
              "      <th>871</th>\n",
              "      <td>41.960000</td>\n",
              "    </tr>\n",
              "    <tr>\n",
              "      <th>872</th>\n",
              "      <td>94.671667</td>\n",
              "    </tr>\n",
              "    <tr>\n",
              "      <th>873</th>\n",
              "      <td>73.100000</td>\n",
              "    </tr>\n",
              "    <tr>\n",
              "      <th>874</th>\n",
              "      <td>23.115000</td>\n",
              "    </tr>\n",
              "    <tr>\n",
              "      <th>875</th>\n",
              "      <td>91.288333</td>\n",
              "    </tr>\n",
              "  </tbody>\n",
              "</table>\n",
              "<p>876 rows × 1 columns</p>\n",
              "</div>\n",
              "      <button class=\"colab-df-convert\" onclick=\"convertToInteractive('df-b76ac805-2828-458d-b272-5bfa25c47e7e')\"\n",
              "              title=\"Convert this dataframe to an interactive table.\"\n",
              "              style=\"display:none;\">\n",
              "        \n",
              "  <svg xmlns=\"http://www.w3.org/2000/svg\" height=\"24px\"viewBox=\"0 0 24 24\"\n",
              "       width=\"24px\">\n",
              "    <path d=\"M0 0h24v24H0V0z\" fill=\"none\"/>\n",
              "    <path d=\"M18.56 5.44l.94 2.06.94-2.06 2.06-.94-2.06-.94-.94-2.06-.94 2.06-2.06.94zm-11 1L8.5 8.5l.94-2.06 2.06-.94-2.06-.94L8.5 2.5l-.94 2.06-2.06.94zm10 10l.94 2.06.94-2.06 2.06-.94-2.06-.94-.94-2.06-.94 2.06-2.06.94z\"/><path d=\"M17.41 7.96l-1.37-1.37c-.4-.4-.92-.59-1.43-.59-.52 0-1.04.2-1.43.59L10.3 9.45l-7.72 7.72c-.78.78-.78 2.05 0 2.83L4 21.41c.39.39.9.59 1.41.59.51 0 1.02-.2 1.41-.59l7.78-7.78 2.81-2.81c.8-.78.8-2.07 0-2.86zM5.41 20L4 18.59l7.72-7.72 1.47 1.35L5.41 20z\"/>\n",
              "  </svg>\n",
              "      </button>\n",
              "      \n",
              "  <style>\n",
              "    .colab-df-container {\n",
              "      display:flex;\n",
              "      flex-wrap:wrap;\n",
              "      gap: 12px;\n",
              "    }\n",
              "\n",
              "    .colab-df-convert {\n",
              "      background-color: #E8F0FE;\n",
              "      border: none;\n",
              "      border-radius: 50%;\n",
              "      cursor: pointer;\n",
              "      display: none;\n",
              "      fill: #1967D2;\n",
              "      height: 32px;\n",
              "      padding: 0 0 0 0;\n",
              "      width: 32px;\n",
              "    }\n",
              "\n",
              "    .colab-df-convert:hover {\n",
              "      background-color: #E2EBFA;\n",
              "      box-shadow: 0px 1px 2px rgba(60, 64, 67, 0.3), 0px 1px 3px 1px rgba(60, 64, 67, 0.15);\n",
              "      fill: #174EA6;\n",
              "    }\n",
              "\n",
              "    [theme=dark] .colab-df-convert {\n",
              "      background-color: #3B4455;\n",
              "      fill: #D2E3FC;\n",
              "    }\n",
              "\n",
              "    [theme=dark] .colab-df-convert:hover {\n",
              "      background-color: #434B5C;\n",
              "      box-shadow: 0px 1px 3px 1px rgba(0, 0, 0, 0.15);\n",
              "      filter: drop-shadow(0px 1px 2px rgba(0, 0, 0, 0.3));\n",
              "      fill: #FFFFFF;\n",
              "    }\n",
              "  </style>\n",
              "\n",
              "      <script>\n",
              "        const buttonEl =\n",
              "          document.querySelector('#df-b76ac805-2828-458d-b272-5bfa25c47e7e button.colab-df-convert');\n",
              "        buttonEl.style.display =\n",
              "          google.colab.kernel.accessAllowed ? 'block' : 'none';\n",
              "\n",
              "        async function convertToInteractive(key) {\n",
              "          const element = document.querySelector('#df-b76ac805-2828-458d-b272-5bfa25c47e7e');\n",
              "          const dataTable =\n",
              "            await google.colab.kernel.invokeFunction('convertToInteractive',\n",
              "                                                     [key], {});\n",
              "          if (!dataTable) return;\n",
              "\n",
              "          const docLinkHtml = 'Like what you see? Visit the ' +\n",
              "            '<a target=\"_blank\" href=https://colab.research.google.com/notebooks/data_table.ipynb>data table notebook</a>'\n",
              "            + ' to learn more about interactive tables.';\n",
              "          element.innerHTML = '';\n",
              "          dataTable['output_type'] = 'display_data';\n",
              "          await google.colab.output.renderOutput(dataTable, element);\n",
              "          const docLink = document.createElement('div');\n",
              "          docLink.innerHTML = docLinkHtml;\n",
              "          element.appendChild(docLink);\n",
              "        }\n",
              "      </script>\n",
              "    </div>\n",
              "  </div>\n",
              "  "
            ]
          },
          "metadata": {},
          "execution_count": 53
        }
      ]
    },
    {
      "cell_type": "code",
      "source": [
        "dfy = pd.concat([y_test, y_pred], axis = 1)\n",
        "dfy"
      ],
      "metadata": {
        "colab": {
          "base_uri": "https://localhost:8080/",
          "height": 424
        },
        "id": "kcmG3V3zSlF0",
        "outputId": "f5c631b5-0dcb-430a-bbb9-97368aca1fab"
      },
      "execution_count": null,
      "outputs": [
        {
          "output_type": "execute_result",
          "data": {
            "text/plain": [
              "     tchReal      y_pred\n",
              "0      40.15   60.755000\n",
              "1      45.50   52.418333\n",
              "2      79.70  103.303333\n",
              "3      73.13   93.251667\n",
              "4      69.71   67.060000\n",
              "..       ...         ...\n",
              "871    49.64   41.960000\n",
              "872    74.03   94.671667\n",
              "873    89.67   73.100000\n",
              "874    27.69   23.115000\n",
              "875   105.09   91.288333\n",
              "\n",
              "[876 rows x 2 columns]"
            ],
            "text/html": [
              "\n",
              "  <div id=\"df-4d8df0bd-a398-4447-8e7f-bc868c40a3e8\">\n",
              "    <div class=\"colab-df-container\">\n",
              "      <div>\n",
              "<style scoped>\n",
              "    .dataframe tbody tr th:only-of-type {\n",
              "        vertical-align: middle;\n",
              "    }\n",
              "\n",
              "    .dataframe tbody tr th {\n",
              "        vertical-align: top;\n",
              "    }\n",
              "\n",
              "    .dataframe thead th {\n",
              "        text-align: right;\n",
              "    }\n",
              "</style>\n",
              "<table border=\"1\" class=\"dataframe\">\n",
              "  <thead>\n",
              "    <tr style=\"text-align: right;\">\n",
              "      <th></th>\n",
              "      <th>tchReal</th>\n",
              "      <th>y_pred</th>\n",
              "    </tr>\n",
              "  </thead>\n",
              "  <tbody>\n",
              "    <tr>\n",
              "      <th>0</th>\n",
              "      <td>40.15</td>\n",
              "      <td>60.755000</td>\n",
              "    </tr>\n",
              "    <tr>\n",
              "      <th>1</th>\n",
              "      <td>45.50</td>\n",
              "      <td>52.418333</td>\n",
              "    </tr>\n",
              "    <tr>\n",
              "      <th>2</th>\n",
              "      <td>79.70</td>\n",
              "      <td>103.303333</td>\n",
              "    </tr>\n",
              "    <tr>\n",
              "      <th>3</th>\n",
              "      <td>73.13</td>\n",
              "      <td>93.251667</td>\n",
              "    </tr>\n",
              "    <tr>\n",
              "      <th>4</th>\n",
              "      <td>69.71</td>\n",
              "      <td>67.060000</td>\n",
              "    </tr>\n",
              "    <tr>\n",
              "      <th>...</th>\n",
              "      <td>...</td>\n",
              "      <td>...</td>\n",
              "    </tr>\n",
              "    <tr>\n",
              "      <th>871</th>\n",
              "      <td>49.64</td>\n",
              "      <td>41.960000</td>\n",
              "    </tr>\n",
              "    <tr>\n",
              "      <th>872</th>\n",
              "      <td>74.03</td>\n",
              "      <td>94.671667</td>\n",
              "    </tr>\n",
              "    <tr>\n",
              "      <th>873</th>\n",
              "      <td>89.67</td>\n",
              "      <td>73.100000</td>\n",
              "    </tr>\n",
              "    <tr>\n",
              "      <th>874</th>\n",
              "      <td>27.69</td>\n",
              "      <td>23.115000</td>\n",
              "    </tr>\n",
              "    <tr>\n",
              "      <th>875</th>\n",
              "      <td>105.09</td>\n",
              "      <td>91.288333</td>\n",
              "    </tr>\n",
              "  </tbody>\n",
              "</table>\n",
              "<p>876 rows × 2 columns</p>\n",
              "</div>\n",
              "      <button class=\"colab-df-convert\" onclick=\"convertToInteractive('df-4d8df0bd-a398-4447-8e7f-bc868c40a3e8')\"\n",
              "              title=\"Convert this dataframe to an interactive table.\"\n",
              "              style=\"display:none;\">\n",
              "        \n",
              "  <svg xmlns=\"http://www.w3.org/2000/svg\" height=\"24px\"viewBox=\"0 0 24 24\"\n",
              "       width=\"24px\">\n",
              "    <path d=\"M0 0h24v24H0V0z\" fill=\"none\"/>\n",
              "    <path d=\"M18.56 5.44l.94 2.06.94-2.06 2.06-.94-2.06-.94-.94-2.06-.94 2.06-2.06.94zm-11 1L8.5 8.5l.94-2.06 2.06-.94-2.06-.94L8.5 2.5l-.94 2.06-2.06.94zm10 10l.94 2.06.94-2.06 2.06-.94-2.06-.94-.94-2.06-.94 2.06-2.06.94z\"/><path d=\"M17.41 7.96l-1.37-1.37c-.4-.4-.92-.59-1.43-.59-.52 0-1.04.2-1.43.59L10.3 9.45l-7.72 7.72c-.78.78-.78 2.05 0 2.83L4 21.41c.39.39.9.59 1.41.59.51 0 1.02-.2 1.41-.59l7.78-7.78 2.81-2.81c.8-.78.8-2.07 0-2.86zM5.41 20L4 18.59l7.72-7.72 1.47 1.35L5.41 20z\"/>\n",
              "  </svg>\n",
              "      </button>\n",
              "      \n",
              "  <style>\n",
              "    .colab-df-container {\n",
              "      display:flex;\n",
              "      flex-wrap:wrap;\n",
              "      gap: 12px;\n",
              "    }\n",
              "\n",
              "    .colab-df-convert {\n",
              "      background-color: #E8F0FE;\n",
              "      border: none;\n",
              "      border-radius: 50%;\n",
              "      cursor: pointer;\n",
              "      display: none;\n",
              "      fill: #1967D2;\n",
              "      height: 32px;\n",
              "      padding: 0 0 0 0;\n",
              "      width: 32px;\n",
              "    }\n",
              "\n",
              "    .colab-df-convert:hover {\n",
              "      background-color: #E2EBFA;\n",
              "      box-shadow: 0px 1px 2px rgba(60, 64, 67, 0.3), 0px 1px 3px 1px rgba(60, 64, 67, 0.15);\n",
              "      fill: #174EA6;\n",
              "    }\n",
              "\n",
              "    [theme=dark] .colab-df-convert {\n",
              "      background-color: #3B4455;\n",
              "      fill: #D2E3FC;\n",
              "    }\n",
              "\n",
              "    [theme=dark] .colab-df-convert:hover {\n",
              "      background-color: #434B5C;\n",
              "      box-shadow: 0px 1px 3px 1px rgba(0, 0, 0, 0.15);\n",
              "      filter: drop-shadow(0px 1px 2px rgba(0, 0, 0, 0.3));\n",
              "      fill: #FFFFFF;\n",
              "    }\n",
              "  </style>\n",
              "\n",
              "      <script>\n",
              "        const buttonEl =\n",
              "          document.querySelector('#df-4d8df0bd-a398-4447-8e7f-bc868c40a3e8 button.colab-df-convert');\n",
              "        buttonEl.style.display =\n",
              "          google.colab.kernel.accessAllowed ? 'block' : 'none';\n",
              "\n",
              "        async function convertToInteractive(key) {\n",
              "          const element = document.querySelector('#df-4d8df0bd-a398-4447-8e7f-bc868c40a3e8');\n",
              "          const dataTable =\n",
              "            await google.colab.kernel.invokeFunction('convertToInteractive',\n",
              "                                                     [key], {});\n",
              "          if (!dataTable) return;\n",
              "\n",
              "          const docLinkHtml = 'Like what you see? Visit the ' +\n",
              "            '<a target=\"_blank\" href=https://colab.research.google.com/notebooks/data_table.ipynb>data table notebook</a>'\n",
              "            + ' to learn more about interactive tables.';\n",
              "          element.innerHTML = '';\n",
              "          dataTable['output_type'] = 'display_data';\n",
              "          await google.colab.output.renderOutput(dataTable, element);\n",
              "          const docLink = document.createElement('div');\n",
              "          docLink.innerHTML = docLinkHtml;\n",
              "          element.appendChild(docLink);\n",
              "        }\n",
              "      </script>\n",
              "    </div>\n",
              "  </div>\n",
              "  "
            ]
          },
          "metadata": {},
          "execution_count": 54
        }
      ]
    },
    {
      "cell_type": "code",
      "source": [
        "dfy.plot.scatter(x='tchReal',y='y_pred');"
      ],
      "metadata": {
        "colab": {
          "base_uri": "https://localhost:8080/",
          "height": 279
        },
        "id": "Mnf9PkDmdz_l",
        "outputId": "1ea8f72a-6e73-49e2-9bf6-b2fe4f2a0991"
      },
      "execution_count": null,
      "outputs": [
        {
          "output_type": "display_data",
          "data": {
            "text/plain": [
              "<Figure size 432x288 with 1 Axes>"
            ],
            "image/png": "[encoded data removed]"
          },
          "metadata": {
            "needs_background": "light"
          }
        }
      ]
    }
  ]
}